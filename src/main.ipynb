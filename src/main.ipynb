{
 "cells": [
  {
   "cell_type": "markdown",
   "source": [
    "# Base file for the project\n",
    "## for now only dummy code"
   ],
   "metadata": {
    "collapsed": false
   },
   "id": "b947e8e10cfd437e"
  },
  {
   "cell_type": "markdown",
   "source": [
    "# Importing the data"
   ],
   "metadata": {
    "collapsed": false
   },
   "id": "617d03bab51ff0da"
  },
  {
   "cell_type": "code",
   "outputs": [],
   "source": [
    "import pandas as pd\n",
    "import numpy as np\n",
    "\n",
    "df_uni_data = pd.read_csv('data/uni_umfrage.csv')\n",
    "df_whatsapp_data = pd.read_csv('data/whatsapp_umfrage.csv')\n",
    "df_reddit_data = pd.read_csv('data/reddit_umfrage.csv')\n",
    "\n",
    "#df_excel = pd.read_excel('data/uni_umfrage.xlsx')"
   ],
   "metadata": {
    "collapsed": false
   },
   "id": "eb13f5a0f0bc19a0"
  },
  {
   "cell_type": "markdown",
   "source": [
    "# Data Cleaning Uni"
   ],
   "metadata": {
    "collapsed": false
   },
   "id": "7becb98053959b4e"
  },
  {
   "cell_type": "code",
   "outputs": [],
   "source": [
    "df_uni_data.head()"
   ],
   "metadata": {
    "collapsed": false
   },
   "id": "51a0b097b0884c68"
  },
  {
   "cell_type": "markdown",
   "source": [
    "# Data Cleaning Whatsapp"
   ],
   "metadata": {
    "collapsed": false
   },
   "id": "c9e544b260a94dc5"
  },
  {
   "cell_type": "code",
   "outputs": [],
   "source": [
    "df_whatsapp_data.head()"
   ],
   "metadata": {
    "collapsed": false
   },
   "id": "50b2a2e324d42c79"
  },
  {
   "cell_type": "markdown",
   "source": [
    "# Data Cleaning Reddit"
   ],
   "metadata": {
    "collapsed": false
   },
   "id": "5855086d48f0018c"
  },
  {
   "cell_type": "code",
   "outputs": [],
   "source": [
    "df_reddit_data.head()"
   ],
   "metadata": {
    "collapsed": false
   },
   "id": "e8b4be94d5c4006c"
  },
  {
   "cell_type": "markdown",
   "source": [
    "# Data Preprocessing Uni"
   ],
   "metadata": {
    "collapsed": false
   },
   "id": "d4a05888a42fc255"
  },
  {
   "cell_type": "code",
   "outputs": [],
   "source": [
    "df_uni_data.info()"
   ],
   "metadata": {
    "collapsed": false
   },
   "id": "4352be2e95f402f"
  },
  {
   "cell_type": "markdown",
   "source": [
    "# Data Preprocessing Whatsapp"
   ],
   "metadata": {
    "collapsed": false
   },
   "id": "2db14a4b9e97e2c7"
  },
  {
   "cell_type": "code",
   "outputs": [],
   "source": [
    "df_whatsapp_data.info()"
   ],
   "metadata": {
    "collapsed": false
   },
   "id": "dfaa9e8e377c38d6"
  },
  {
   "cell_type": "markdown",
   "source": [
    "# Data Preprocessing Reddit"
   ],
   "metadata": {
    "collapsed": false
   },
   "id": "51ed6b1d441fc6d8"
  },
  {
   "cell_type": "code",
   "outputs": [],
   "source": [
    "df_reddit_data.info()"
   ],
   "metadata": {
    "collapsed": false
   },
   "id": "22b98cae978e3279"
  },
  {
   "cell_type": "markdown",
   "source": [
    "# Data Analysis Uni"
   ],
   "metadata": {
    "collapsed": false
   },
   "id": "690ed127b1f8e59a"
  },
  {
   "cell_type": "code",
   "outputs": [],
   "source": [
    "df_uni_data.describe()"
   ],
   "metadata": {
    "collapsed": false
   },
   "id": "8961ac786609ce98"
  },
  {
   "cell_type": "markdown",
   "source": [
    "# Data Analysis Whatsapp"
   ],
   "metadata": {
    "collapsed": false
   },
   "id": "f503a78456e91689"
  },
  {
   "cell_type": "code",
   "outputs": [],
   "source": [
    "df_whatsapp_data.describe()"
   ],
   "metadata": {
    "collapsed": false
   },
   "id": "c241a6425ea0ce5"
  },
  {
   "cell_type": "markdown",
   "source": [
    "# Data Analysis Reddit"
   ],
   "metadata": {
    "collapsed": false
   },
   "id": "2ea32523282e7091"
  },
  {
   "cell_type": "code",
   "outputs": [],
   "source": [
    "df_reddit_data.describe()"
   ],
   "metadata": {
    "collapsed": false
   },
   "id": "fe450518acb84ee8"
  },
  {
   "cell_type": "markdown",
   "source": [
    "# Data Visualization Uni"
   ],
   "metadata": {
    "collapsed": false
   },
   "id": "61288024f81ec2db"
  },
  {
   "cell_type": "code",
   "outputs": [],
   "source": [
    "import matplotlib.pyplot as plt\n",
    "import seaborn as sns\n",
    "\n",
    "sns.pairplot(df_uni_data)"
   ],
   "metadata": {
    "collapsed": false
   },
   "id": "b006d425dde17e60"
  },
  {
   "cell_type": "markdown",
   "source": [
    "# Data Visualization Whatsapp"
   ],
   "metadata": {
    "collapsed": false
   },
   "id": "e4469e6a0e2e9849"
  },
  {
   "cell_type": "code",
   "outputs": [],
   "source": [
    "sns.pairplot(df_whatsapp_data)"
   ],
   "metadata": {
    "collapsed": false
   },
   "id": "e22ed64fd8fd552f"
  },
  {
   "cell_type": "markdown",
   "source": [
    "# Data Visualization Reddit"
   ],
   "metadata": {
    "collapsed": false
   },
   "id": "524608c3bed0f82b"
  },
  {
   "cell_type": "code",
   "outputs": [],
   "source": [
    "sns.pairplot(df_reddit_data)"
   ],
   "metadata": {
    "collapsed": false
   },
   "id": "593a986eadd0b11b"
  },
  {
   "cell_type": "markdown",
   "source": [
    "# Data Modelling"
   ],
   "metadata": {
    "collapsed": false
   },
   "id": "a563702b71edc738"
  },
  {
   "cell_type": "code",
   "outputs": [],
   "source": [
    "from sklearn.model_selection import train_test_split\n",
    "# i don't know what copilot is doing here"
   ],
   "metadata": {
    "collapsed": false
   },
   "id": "9b642b8b2a32bf20"
  }
 ],
 "metadata": {
  "kernelspec": {
   "display_name": "Python 3",
   "language": "python",
   "name": "python3"
  },
  "language_info": {
   "codemirror_mode": {
    "name": "ipython",
    "version": 2
   },
   "file_extension": ".py",
   "mimetype": "text/x-python",
   "name": "python",
   "nbconvert_exporter": "python",
   "pygments_lexer": "ipython2",
   "version": "2.7.6"
  }
 },
 "nbformat": 4,
 "nbformat_minor": 5
}
