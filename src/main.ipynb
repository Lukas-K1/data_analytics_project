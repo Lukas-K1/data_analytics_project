{
 "cells": [
  {
   "cell_type": "markdown",
   "source": [
    "# Base file for the project\n",
    "## for now only dummy code"
   ],
   "metadata": {
    "collapsed": false
   },
   "id": "b947e8e10cfd437e"
  },
  {
   "cell_type": "code",
   "outputs": [],
   "source": [
    "import pandas as pd\n",
    "import numpy as np\n",
    "\n",
    "df_uni_data = pd.read_csv('data/uni_umfrage.csv')\n",
    "df_whatsapp_data = pd.read_csv('data/whatsapp_umfrage.csv')\n",
    "df_reddit_data = pd.read_csv('data/reddit_umfrage.csv')\n",
    "\n",
    "#df_excel = pd.read_excel('data/uni_umfrage.xlsx')"
   ],
   "metadata": {
    "collapsed": false
   },
   "id": "eb13f5a0f0bc19a0"
  }
 ],
 "metadata": {
  "kernelspec": {
   "display_name": "Python 3",
   "language": "python",
   "name": "python3"
  },
  "language_info": {
   "codemirror_mode": {
    "name": "ipython",
    "version": 2
   },
   "file_extension": ".py",
   "mimetype": "text/x-python",
   "name": "python",
   "nbconvert_exporter": "python",
   "pygments_lexer": "ipython2",
   "version": "2.7.6"
  }
 },
 "nbformat": 4,
 "nbformat_minor": 5
}
