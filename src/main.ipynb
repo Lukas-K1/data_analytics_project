{
 "cells": [
  {
   "cell_type": "markdown",
   "source": [
    "# Base file for the project\n",
    "## for now only dummy code"
   ],
   "metadata": {
    "collapsed": false
   },
   "id": "b947e8e10cfd437e"
  },
  {
   "cell_type": "markdown",
   "source": [
    "## Data Modeling"
   ],
   "metadata": {
    "collapsed": false
   },
   "id": "49873b4c7a27fb8"
  },
  {
   "cell_type": "code",
   "outputs": [],
   "source": [
    "from sklearn.model_selection import train_test_split\n",
    "# i don't know what copilot is doing here"
   ],
   "metadata": {
    "collapsed": false
   },
   "id": "9b642b8b2a32bf20"
  }
 ],
 "metadata": {
  "kernelspec": {
   "display_name": "Python 3",
   "language": "python",
   "name": "python3"
  },
  "language_info": {
   "codemirror_mode": {
    "name": "ipython",
    "version": 2
   },
   "file_extension": ".py",
   "mimetype": "text/x-python",
   "name": "python",
   "nbconvert_exporter": "python",
   "pygments_lexer": "ipython2",
   "version": "2.7.6"
  }
 },
 "nbformat": 4,
 "nbformat_minor": 5
}
