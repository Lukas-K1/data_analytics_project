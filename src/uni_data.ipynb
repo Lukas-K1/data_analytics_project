{
 "cells": [
  {
   "cell_type": "markdown",
   "source": [
    "# File to process data from uni forms survey\n",
    "## from importing data to processing and visualizing"
   ],
   "metadata": {
    "collapsed": false
   },
   "id": "8d62dec5046977b4"
  },
  {
   "cell_type": "code",
   "outputs": [],
   "source": [
    "# Importing libraries\n",
    "import pandas as pd\n",
    "import numpy as np\n",
    "import matplotlib.pyplot as plt\n",
    "import seaborn as sns\n",
    "from sklearn.model_selection import train_test_split\n",
    "from sklearn.preprocessing import StandardScaler\n",
    "from sklearn.linear_model import LinearRegression\n",
    "from sklearn.metrics import mean_squared_error"
   ],
   "metadata": {
    "collapsed": false,
    "ExecuteTime": {
     "end_time": "2024-05-08T07:48:44.901388Z",
     "start_time": "2024-05-08T07:48:44.896139Z"
    }
   },
   "id": "f412449febc26475",
   "execution_count": 1
  },
  {
   "cell_type": "markdown",
   "source": [
    "## Importing data"
   ],
   "metadata": {
    "collapsed": false
   },
   "id": "3e45d00bda73a316"
  },
  {
   "cell_type": "code",
   "outputs": [],
   "source": [
    "# Importing data\n",
    "df_uni_data = pd.read_csv('data/umfrage-nachhaltige-mobilitaet_FHDW.csv')"
   ],
   "metadata": {
    "collapsed": false,
    "ExecuteTime": {
     "end_time": "2024-05-08T07:48:48.526035Z",
     "start_time": "2024-05-08T07:48:48.508522Z"
    }
   },
   "id": "590257c2899c10e8",
   "execution_count": 2
  },
  {
   "metadata": {},
   "cell_type": "markdown",
   "source": "## Methods for data processing",
   "id": "f5680365fd946534"
  },
  {
   "metadata": {},
   "cell_type": "code",
   "outputs": [],
   "execution_count": null,
   "source": [
    "def explore_data(data):\n",
    "    #Display a summary of the data\n",
    "    # args: data: pandas dataframe\n",
    "    # Summarize the data\n",
    "    print(data.info())\n",
    "    # Display the first 5 rows of the data\n",
    "    print(data.head())\n",
    "    \n",
    "def drop_data(data):\n",
    "    # Drop non-uniques and missing values\n",
    "    # args: data: pandas dataframe\n",
    "    # Drop duplicates\n",
    "    duplicate_free_data = data.drop_duplicates()\n",
    "    #data.drop_duplicates(inplace=True)\n",
    "    # Drop missing values\n",
    "    na_free_data = duplicate_free_data.dropna(inplace=True)\n",
    "    # Replace missing values with the mean\n",
    "    #data.fillna(data.mean(), inplace=True)\n",
    "    return na_free_data\n",
    "\n",
    "def fill_data(data):\n",
    "    # Fill missing values with the mean\n",
    "    # args: data: pandas dataframe\n",
    "    #data.fillna(data.mean(), inplace=True)\n",
    "    data.fillna(method='ffill').fillna(method='bfill')\n",
    "    return data\n",
    "\n",
    "def split_data(data):\n",
    "    # split data for use case\n",
    "    # args: data: pandas dataframe\n",
    "    # Split the data into features and target\n",
    "    data_without_na = data.dropna()\n",
    "    selected_columns_finace = ['financial_situation', 'financial_situation_future', 'financial_situation_past']#TODO select proper columns for correlation with financial situation\n",
    "    selected_columns_mobility = ['mobility', 'mobility_future', 'mobility_past']#TODO select proper columns for correlation with mobility\n",
    "    selected_columns_other = ['age',''] #TODO select proper columns for correlation with 'other' data\n",
    "    data_financial_correlation = data[selected_columns_finace]\n",
    "    data_mobility_correlation = data[selected_columns_mobility]\n",
    "    data_other_correlation = data[selected_columns_other]\n",
    "    return data, data_without_na, data_financial_correlation, data_mobility_correlation, data_other_correlation\n",
    "\n",
    "def prepare_data(data, feature_columns, target_column):\n",
    "    # Prepare the data for analysis\n",
    "    # args: data: pandas dataframe\n",
    "    # args: feature_column: (list): liste der spalten die als feature genutzt werden sollen\n",
    "    # args: target_column: (string): name zielvariable\n",
    "    #return: tuple: X_train, X_test, y_train, y_test\n",
    "    X = data[feature_columns]\n",
    "    Y = data[target_column]\n",
    "    # Split the data into training and testing data\n",
    "    X_train, X_test, y_train, y_test = train_test_split(X, Y, test_size=0.2, random_state=42)\n",
    "    return X_train, X_test, y_train, y_test\n",
    "\n",
    "def scale_data(X_train, X_test):\n",
    "    # Scale the data\n",
    "    # args: X_train: pandas dataframe\n",
    "    # args: X_test: pandas dataframe\n",
    "    #return: X_train_scaled, X_test_scaled\n",
    "    scaler = StandardScaler()\n",
    "    X_train_scaled = scaler.fit_transform(X_train)\n",
    "    X_test_scaled = scaler.transform(X_test)\n",
    "    return X_train_scaled, X_test_scaled\n",
    "\n",
    "def train_model(X_train, y_train):\n",
    "    # Train the model\n",
    "    # args: X_train: pandas dataframe\n",
    "    # args: y_train: pandas dataframe\n",
    "    #return: model\n",
    "    model = LinearRegression()\n",
    "    model.fit(X_train, y_train)\n",
    "    return model\n",
    "\n",
    "def evaluate_model(model, X_test, y_test):\n",
    "    # Evaluate the model\n",
    "    # args: model: model\n",
    "    # args: X_test: pandas dataframe\n",
    "    # args: y_test: pandas dataframe\n",
    "    #return: mse\n",
    "    y_pred = model.predict(X_test)\n",
    "    mse = mean_squared_error(y_test, y_pred)\n",
    "    return mse\n",
    "\n",
    "def analyze_data(X_train, X_test, Y_train, Y_test):\n",
    "    # Analyze the data\n",
    "    # args: X_train: pandas dataframe\n",
    "    # args: X_test: pandas dataframe\n",
    "    # args: Y_train: pandas dataframe\n",
    "    # args: Y_test: pandas dataframe\n",
    "    #return: mse\n",
    "    # X_train_scaled, X_test_scaled = scale_data(X_train, X_test)\n",
    "    # model = train_model(X_train_scaled, Y_train)\n",
    "    # mse = evaluate_model(model, X_test_scaled, Y_test)\n",
    "    # return mse\n",
    "    model = LinearRegression()\n",
    "    model.fit(X_train, Y_train)\n",
    "    y_pred = model.predict(X_test)\n",
    "    mse = mean_squared_error(Y_test, y_pred)\n",
    "    print('Mean Squared Error:', mse)\n",
    "    return mse\n",
    "\n",
    "def visualize_data(data):\n",
    "    # TODO Visualize the data with matplotlib and seaborn\n",
    "    # args: data: pandas dataframe\n",
    "    #return: None\n",
    "    # TODO Implement the visualization\n",
    "    print('Visualizing the data')\n",
    "    \n",
    "def visualize_correlation(data, feature_columns, target_column):\n",
    "    # TODO Visualize the correlation between the features and the target\n",
    "    # args: data: pandas dataframe\n",
    "    # args: feature_columns: (list): liste der spalten die als feature genutzt werden sollen\n",
    "    # args: target_column: (string): name zielvariable\n",
    "    #return: None\n",
    "    correlation_matrix = data[feature_columns + [target_column]].corr()\n",
    "    plt.figure(figsize=(10, 10))\n",
    "    sns.heatmap(correlation_matrix, annot=True, cmap='coolwarm', fmt='.2f', linewidths=0.5)\n",
    "    plt.title('Correlation Matrix')\n",
    "    plt.show()\n",
    "\n",
    "def process_data(data):\n",
    "    # Process the data\n",
    "    # args: data: pandas dataframe\n",
    "    #return: None\n",
    "    explore_data(data)\n",
    "    drop_data(data)\n",
    "    fill_data(data)\n",
    "    split_data(data)\n",
    "    prepare_data(data)\n",
    "    visualize_data(data)\n",
    "    visualize_correlation(data)\n",
    "    analyze_data(data)\n",
    "    return None"
   ],
   "id": "a03b8d2c816f5632"
  },
  {
   "cell_type": "markdown",
   "source": [
    "## Data Exploration"
   ],
   "metadata": {
    "collapsed": false
   },
   "id": "b94abac44592c0a5"
  },
  {
   "cell_type": "code",
   "outputs": [
    {
     "data": {
      "text/plain": "                  Zeitstempel Wie alt sind Sie?   \\\n0   2024/04/22 1:28:30 PM OEZ              20-25   \n1   2024/04/22 1:29:15 PM OEZ              20-25   \n2   2024/04/22 1:29:21 PM OEZ              20-25   \n3   2024/04/22 1:29:33 PM OEZ              20-25   \n4   2024/04/22 1:31:53 PM OEZ              20-25   \n5   2024/04/22 1:35:13 PM OEZ              20-25   \n6   2024/04/22 1:35:59 PM OEZ              16-19   \n7   2024/04/22 1:36:28 PM OEZ              26-35   \n8   2024/04/22 1:48:41 PM OEZ              20-25   \n9   2024/04/22 1:57:13 PM OEZ              20-25   \n10  2024/04/22 2:08:17 PM OEZ              20-25   \n11  2024/04/22 2:16:54 PM OEZ              26-35   \n12  2024/04/22 2:35:46 PM OEZ              20-25   \n13  2024/04/22 2:59:35 PM OEZ              20-25   \n14  2024/04/22 3:23:43 PM OEZ              20-25   \n15  2024/04/22 5:08:36 PM OEZ              20-25   \n16  2024/04/22 7:33:17 PM OEZ              20-25   \n17  2024/04/22 8:37:23 PM OEZ              16-19   \n18  2024/04/22 8:50:12 PM OEZ              20-25   \n19  2024/04/22 9:20:47 PM OEZ              20-25   \n\n   Wie ist Ihre Wohnsituation? (Wohneigentum?)   \\\n0                                  Wohneigentum   \n1                                      gemietet   \n2                                  Wohneigentum   \n3                                  Wohneigentum   \n4                                      gemietet   \n5                                      gemietet   \n6                                  Wohneigentum   \n7                                      gemietet   \n8                                  Wohneigentum   \n9                                  Wohneigentum   \n10                                     gemietet   \n11                                     gemietet   \n12                                 Wohneigentum   \n13                                     gemietet   \n14                                     gemietet   \n15                                     gemietet   \n16                                     gemietet   \n17                                 Wohneigentum   \n18                                     gemietet   \n19                                     gemietet   \n\n   Wie ist Ihre Wohnsituation? (Haus oder Wohnung?)   \\\n0                                               Haus   \n1                                            Wohnung   \n2                                         Reihenhaus   \n3                                               Haus   \n4                                            Wohnung   \n5                                            Wohnung   \n6                                               Haus   \n7                                            Wohnung   \n8                                         Reihenhaus   \n9                                               Haus   \n10                                           Wohnung   \n11                                           Wohnung   \n12                                        Reihenhaus   \n13                                              Haus   \n14                                           Wohnung   \n15                                           Wohnung   \n16                                           Wohnung   \n17                                              Haus   \n18                                           Wohnung   \n19                                              Haus   \n\n   Wie ist Ihre Wohnsituation? (Großstadt, Stadt, Land?)   \\\n0                                                Land       \n1                  Großstadt (min. 100.000 Einwohner)       \n2                                                Land       \n3                                               Stadt       \n4                                                Land       \n5                  Großstadt (min. 100.000 Einwohner)       \n6                                                Land       \n7                  Großstadt (min. 100.000 Einwohner)       \n8                                                Land       \n9                                                Land       \n10                 Großstadt (min. 100.000 Einwohner)       \n11                                               Land       \n12                                               Land       \n13                                              Stadt       \n14                                              Stadt       \n15                 Großstadt (min. 100.000 Einwohner)       \n16                 Großstadt (min. 100.000 Einwohner)       \n17                                               Land       \n18                 Großstadt (min. 100.000 Einwohner)       \n19                                               Land       \n\n                         Wie ist Ihre Beschäftigung?   \\\n0   dualer Student (impliziert Anstellung bei eine...   \n1   dualer Student (impliziert Anstellung bei eine...   \n2   dualer Student (impliziert Anstellung bei eine...   \n3   dualer Student (impliziert Anstellung bei eine...   \n4   dualer Student (impliziert Anstellung bei eine...   \n5                                Student;Angestellter   \n6   dualer Student (impliziert Anstellung bei eine...   \n7   dualer Student (impliziert Anstellung bei eine...   \n8   dualer Student (impliziert Anstellung bei eine...   \n9   dualer Student (impliziert Anstellung bei eine...   \n10  dualer Student (impliziert Anstellung bei eine...   \n11                                       Angestellter   \n12  dualer Student (impliziert Anstellung bei eine...   \n13                                            Student   \n14                                            Student   \n15  dualer Student (impliziert Anstellung bei eine...   \n16  dualer Student (impliziert Anstellung bei eine...   \n17  dualer Student (impliziert Anstellung bei eine...   \n18                                       Angestellter   \n19  dualer Student (impliziert Anstellung bei eine...   \n\n   Bitte schätzen Sie das monatliche Netto Gesamteinkommen in Ihrem Haushalt in Euro. (Wenn Sie dazu keine Angaben machen möchten, überspringen Sie diese Frage bitte.)  \\\n0                                                 NaN                                                                                                                     \n1                                                1050                                                                                                                     \n2                                                 NaN                                                                                                                     \n3                                                 NaN                                                                                                                     \n4                                                 NaN                                                                                                                     \n5                                                5000                                                                                                                     \n6                                                 NaN                                                                                                                     \n7                                         4500€ Netto                                                                                                                     \n8                                                7000                                                                                                                     \n9                                                 NaN                                                                                                                     \n10                                               2500                                                                                                                     \n11                                               5000                                                                                                                     \n12                                           10000,00                                                                                                                     \n13                                                NaN                                                                                                                     \n14                                              7.000                                                                                                                     \n15                                              1250€                                                                                                                     \n16                                       netto: 2.700                                                                                                                     \n17                                                NaN                                                                                                                     \n18                                                NaN                                                                                                                     \n19                                               4000                                                                                                                     \n\n   Besitzen Sie ein Auto? (auch Leasing)   \\\n0                                    Auto   \n1                               kein Auto   \n2                               kein Auto   \n3                               kein Auto   \n4                                    Auto   \n5                                    Auto   \n6                                    Auto   \n7                                    Auto   \n8                                    Auto   \n9                                    Auto   \n10                                   Auto   \n11                                   Auto   \n12                                   Auto   \n13                              kein Auto   \n14                                   Auto   \n15                              kein Auto   \n16                                   Auto   \n17                                   Auto   \n18                                   Auto   \n19                                   Auto   \n\n    Wie interessiert sind Sie an einem E-Auto als Ihr nächstes(/erstes) KFZ? (Wenn Sie generell kein Interesse am Besitz eines Autos haben, überspringen Sie diese Frage bitte)   \\\n0                                                 6.0                                                                                                                              \n1                                                 1.0                                                                                                                              \n2                                                 7.0                                                                                                                              \n3                                                 7.0                                                                                                                              \n4                                                 3.0                                                                                                                              \n5                                                 7.0                                                                                                                              \n6                                                 3.0                                                                                                                              \n7                                                 8.0                                                                                                                              \n8                                                 6.0                                                                                                                              \n9                                                 5.0                                                                                                                              \n10                                               10.0                                                                                                                              \n11                                                1.0                                                                                                                              \n12                                                2.0                                                                                                                              \n13                                                5.0                                                                                                                              \n14                                                3.0                                                                                                                              \n15                                                1.0                                                                                                                              \n16                                                6.0                                                                                                                              \n17                                                2.0                                                                                                                              \n18                                                3.0                                                                                                                              \n19                                               10.0                                                                                                                              \n\n   Welchen Anteil an Ihrer Gesamtmobilität macht Ihr Auto aus? (falls Sie kein Auto besitzen, wählen Sie bitte 0% aus)   \\\n0                                                 80%                                                                     \n1                                                  0%                                                                     \n2                                                 10%                                                                     \n3                                                 40%                                                                     \n4                                                 40%                                                                     \n5                                                 10%                                                                     \n6                                                 50%                                                                     \n7                                                 50%                                                                     \n8                                                 70%                                                                     \n9                                                 30%                                                                     \n10                                                40%                                                                     \n11                                                90%                                                                     \n12                                                80%                                                                     \n13                                                 0%                                                                     \n14                                                70%                                                                     \n15                                                 0%                                                                     \n16                                                90%                                                                     \n17                                                90%                                                                     \n18                                                90%                                                                     \n19                                               100%                                                                     \n\n   Welchen Anteil an Ihrer Gesamtmobilität macht der ÖPNV aus?   \\\n0                                                 20%             \n1                                                100%             \n2                                                 90%             \n3                                                 60%             \n4                                                 60%             \n5                                                 90%             \n6                                                 50%             \n7                                                 30%             \n8                                                 10%             \n9                                                 60%             \n10                                                10%             \n11                                                10%             \n12                                                20%             \n13                                                80%             \n14                                                20%             \n15                                               100%             \n16                                                10%             \n17                                                10%             \n18                                                10%             \n19                                                10%             \n\n      Was würde den ÖPNV für Sie attraktiver machen?   \\\n0          bessere Sauberkeit;bessere Zuverlässigkeit   \n1   kürzere Wartezeit zwischen zwei Zügen/Bussen;b...   \n2          bessere Sauberkeit;bessere Zuverlässigkeit   \n3   günstigere Preise;kürzere Wartezeit zwischen z...   \n4   günstigere Preise;kürzere Wartezeit zwischen z...   \n5                             bessere Zuverlässigkeit   \n6   kürzere Wartezeit zwischen zwei Zügen/Bussen;g...   \n7   bessere Sauberkeit;bessere Zuverlässigkeit;Sin...   \n8   kürzere Wartezeit zwischen zwei Zügen/Bussen;b...   \n9           günstigere Preise;bessere Zuverlässigkeit   \n10                            bessere Zuverlässigkeit   \n11                                  Besser Anbindung    \n12  kürzere Wartezeit zwischen zwei Zügen/Bussen;b...   \n13  kürzere Wartezeit zwischen zwei Zügen/Bussen;b...   \n14  kürzere Wartezeit zwischen zwei Zügen/Bussen;b...   \n15  günstigere Preise;kürzere Wartezeit zwischen z...   \n16          günstigere Preise;bessere Zuverlässigkeit   \n17  kürzere Wartezeit zwischen zwei Zügen/Bussen;b...   \n18  günstigere Preise;bessere Sauberkeit;bessere Z...   \n19  kürzere Wartezeit zwischen zwei Zügen/Bussen;I...   \n\n       Was würde E-Autos für Sie attraktiver machen?   \n0   mehr/besser verteilte Lademöglichkeiten;mehr R...  \n1             Wenn ich am Arsch der Welt wohnen würde  \n2   günstigere Preise;mehr/besser verteilte Lademö...  \n3   günstigere Preise;mehr/besser verteilte Lademö...  \n4   günstigere Preise;mehr/besser verteilte Lademö...  \n5   gute Budget-E-Autos;mehr/besser verteilte Lade...  \n6   günstigere Preise;mehr/besser verteilte Lademö...  \n7   günstigere Preise;mehr/besser verteilte Lademö...  \n8   günstigere Preise;gute Budget-E-Autos;mehr/bes...  \n9   mehr/besser verteilte Lademöglichkeiten;Einhei...  \n10                                  günstigere Preise  \n11  günstigere Preise;mehr Reichweite;Gewissenheit...  \n12  günstigere Preise;mehr Reichweite;Einheitlichk...  \n13  günstigere Preise;gute Budget-E-Autos;mehr/bes...  \n14  mehr/besser verteilte Lademöglichkeiten;Einhei...  \n15  gar nicht. Individualverkehr verringern und de...  \n16  längere/bessere Garantie auf Batterien;Einheit...  \n17  mehr/besser verteilte Lademöglichkeiten;mehr R...  \n18  günstigere Preise;mehr/besser verteilte Lademö...  \n19  günstigere Preise;mehr/besser verteilte Lademö...  ",
      "text/html": "<div>\n<style scoped>\n    .dataframe tbody tr th:only-of-type {\n        vertical-align: middle;\n    }\n\n    .dataframe tbody tr th {\n        vertical-align: top;\n    }\n\n    .dataframe thead th {\n        text-align: right;\n    }\n</style>\n<table border=\"1\" class=\"dataframe\">\n  <thead>\n    <tr style=\"text-align: right;\">\n      <th></th>\n      <th>Zeitstempel</th>\n      <th>Wie alt sind Sie?</th>\n      <th>Wie ist Ihre Wohnsituation? (Wohneigentum?)</th>\n      <th>Wie ist Ihre Wohnsituation? (Haus oder Wohnung?)</th>\n      <th>Wie ist Ihre Wohnsituation? (Großstadt, Stadt, Land?)</th>\n      <th>Wie ist Ihre Beschäftigung?</th>\n      <th>Bitte schätzen Sie das monatliche Netto Gesamteinkommen in Ihrem Haushalt in Euro. (Wenn Sie dazu keine Angaben machen möchten, überspringen Sie diese Frage bitte.)</th>\n      <th>Besitzen Sie ein Auto? (auch Leasing)</th>\n      <th>Wie interessiert sind Sie an einem E-Auto als Ihr nächstes(/erstes) KFZ? (Wenn Sie generell kein Interesse am Besitz eines Autos haben, überspringen Sie diese Frage bitte)</th>\n      <th>Welchen Anteil an Ihrer Gesamtmobilität macht Ihr Auto aus? (falls Sie kein Auto besitzen, wählen Sie bitte 0% aus)</th>\n      <th>Welchen Anteil an Ihrer Gesamtmobilität macht der ÖPNV aus?</th>\n      <th>Was würde den ÖPNV für Sie attraktiver machen?</th>\n      <th>Was würde E-Autos für Sie attraktiver machen?</th>\n    </tr>\n  </thead>\n  <tbody>\n    <tr>\n      <th>0</th>\n      <td>2024/04/22 1:28:30 PM OEZ</td>\n      <td>20-25</td>\n      <td>Wohneigentum</td>\n      <td>Haus</td>\n      <td>Land</td>\n      <td>dualer Student (impliziert Anstellung bei eine...</td>\n      <td>NaN</td>\n      <td>Auto</td>\n      <td>6.0</td>\n      <td>80%</td>\n      <td>20%</td>\n      <td>bessere Sauberkeit;bessere Zuverlässigkeit</td>\n      <td>mehr/besser verteilte Lademöglichkeiten;mehr R...</td>\n    </tr>\n    <tr>\n      <th>1</th>\n      <td>2024/04/22 1:29:15 PM OEZ</td>\n      <td>20-25</td>\n      <td>gemietet</td>\n      <td>Wohnung</td>\n      <td>Großstadt (min. 100.000 Einwohner)</td>\n      <td>dualer Student (impliziert Anstellung bei eine...</td>\n      <td>1050</td>\n      <td>kein Auto</td>\n      <td>1.0</td>\n      <td>0%</td>\n      <td>100%</td>\n      <td>kürzere Wartezeit zwischen zwei Zügen/Bussen;b...</td>\n      <td>Wenn ich am Arsch der Welt wohnen würde</td>\n    </tr>\n    <tr>\n      <th>2</th>\n      <td>2024/04/22 1:29:21 PM OEZ</td>\n      <td>20-25</td>\n      <td>Wohneigentum</td>\n      <td>Reihenhaus</td>\n      <td>Land</td>\n      <td>dualer Student (impliziert Anstellung bei eine...</td>\n      <td>NaN</td>\n      <td>kein Auto</td>\n      <td>7.0</td>\n      <td>10%</td>\n      <td>90%</td>\n      <td>bessere Sauberkeit;bessere Zuverlässigkeit</td>\n      <td>günstigere Preise;mehr/besser verteilte Lademö...</td>\n    </tr>\n    <tr>\n      <th>3</th>\n      <td>2024/04/22 1:29:33 PM OEZ</td>\n      <td>20-25</td>\n      <td>Wohneigentum</td>\n      <td>Haus</td>\n      <td>Stadt</td>\n      <td>dualer Student (impliziert Anstellung bei eine...</td>\n      <td>NaN</td>\n      <td>kein Auto</td>\n      <td>7.0</td>\n      <td>40%</td>\n      <td>60%</td>\n      <td>günstigere Preise;kürzere Wartezeit zwischen z...</td>\n      <td>günstigere Preise;mehr/besser verteilte Lademö...</td>\n    </tr>\n    <tr>\n      <th>4</th>\n      <td>2024/04/22 1:31:53 PM OEZ</td>\n      <td>20-25</td>\n      <td>gemietet</td>\n      <td>Wohnung</td>\n      <td>Land</td>\n      <td>dualer Student (impliziert Anstellung bei eine...</td>\n      <td>NaN</td>\n      <td>Auto</td>\n      <td>3.0</td>\n      <td>40%</td>\n      <td>60%</td>\n      <td>günstigere Preise;kürzere Wartezeit zwischen z...</td>\n      <td>günstigere Preise;mehr/besser verteilte Lademö...</td>\n    </tr>\n    <tr>\n      <th>5</th>\n      <td>2024/04/22 1:35:13 PM OEZ</td>\n      <td>20-25</td>\n      <td>gemietet</td>\n      <td>Wohnung</td>\n      <td>Großstadt (min. 100.000 Einwohner)</td>\n      <td>Student;Angestellter</td>\n      <td>5000</td>\n      <td>Auto</td>\n      <td>7.0</td>\n      <td>10%</td>\n      <td>90%</td>\n      <td>bessere Zuverlässigkeit</td>\n      <td>gute Budget-E-Autos;mehr/besser verteilte Lade...</td>\n    </tr>\n    <tr>\n      <th>6</th>\n      <td>2024/04/22 1:35:59 PM OEZ</td>\n      <td>16-19</td>\n      <td>Wohneigentum</td>\n      <td>Haus</td>\n      <td>Land</td>\n      <td>dualer Student (impliziert Anstellung bei eine...</td>\n      <td>NaN</td>\n      <td>Auto</td>\n      <td>3.0</td>\n      <td>50%</td>\n      <td>50%</td>\n      <td>kürzere Wartezeit zwischen zwei Zügen/Bussen;g...</td>\n      <td>günstigere Preise;mehr/besser verteilte Lademö...</td>\n    </tr>\n    <tr>\n      <th>7</th>\n      <td>2024/04/22 1:36:28 PM OEZ</td>\n      <td>26-35</td>\n      <td>gemietet</td>\n      <td>Wohnung</td>\n      <td>Großstadt (min. 100.000 Einwohner)</td>\n      <td>dualer Student (impliziert Anstellung bei eine...</td>\n      <td>4500€ Netto</td>\n      <td>Auto</td>\n      <td>8.0</td>\n      <td>50%</td>\n      <td>30%</td>\n      <td>bessere Sauberkeit;bessere Zuverlässigkeit;Sin...</td>\n      <td>günstigere Preise;mehr/besser verteilte Lademö...</td>\n    </tr>\n    <tr>\n      <th>8</th>\n      <td>2024/04/22 1:48:41 PM OEZ</td>\n      <td>20-25</td>\n      <td>Wohneigentum</td>\n      <td>Reihenhaus</td>\n      <td>Land</td>\n      <td>dualer Student (impliziert Anstellung bei eine...</td>\n      <td>7000</td>\n      <td>Auto</td>\n      <td>6.0</td>\n      <td>70%</td>\n      <td>10%</td>\n      <td>kürzere Wartezeit zwischen zwei Zügen/Bussen;b...</td>\n      <td>günstigere Preise;gute Budget-E-Autos;mehr/bes...</td>\n    </tr>\n    <tr>\n      <th>9</th>\n      <td>2024/04/22 1:57:13 PM OEZ</td>\n      <td>20-25</td>\n      <td>Wohneigentum</td>\n      <td>Haus</td>\n      <td>Land</td>\n      <td>dualer Student (impliziert Anstellung bei eine...</td>\n      <td>NaN</td>\n      <td>Auto</td>\n      <td>5.0</td>\n      <td>30%</td>\n      <td>60%</td>\n      <td>günstigere Preise;bessere Zuverlässigkeit</td>\n      <td>mehr/besser verteilte Lademöglichkeiten;Einhei...</td>\n    </tr>\n    <tr>\n      <th>10</th>\n      <td>2024/04/22 2:08:17 PM OEZ</td>\n      <td>20-25</td>\n      <td>gemietet</td>\n      <td>Wohnung</td>\n      <td>Großstadt (min. 100.000 Einwohner)</td>\n      <td>dualer Student (impliziert Anstellung bei eine...</td>\n      <td>2500</td>\n      <td>Auto</td>\n      <td>10.0</td>\n      <td>40%</td>\n      <td>10%</td>\n      <td>bessere Zuverlässigkeit</td>\n      <td>günstigere Preise</td>\n    </tr>\n    <tr>\n      <th>11</th>\n      <td>2024/04/22 2:16:54 PM OEZ</td>\n      <td>26-35</td>\n      <td>gemietet</td>\n      <td>Wohnung</td>\n      <td>Land</td>\n      <td>Angestellter</td>\n      <td>5000</td>\n      <td>Auto</td>\n      <td>1.0</td>\n      <td>90%</td>\n      <td>10%</td>\n      <td>Besser Anbindung</td>\n      <td>günstigere Preise;mehr Reichweite;Gewissenheit...</td>\n    </tr>\n    <tr>\n      <th>12</th>\n      <td>2024/04/22 2:35:46 PM OEZ</td>\n      <td>20-25</td>\n      <td>Wohneigentum</td>\n      <td>Reihenhaus</td>\n      <td>Land</td>\n      <td>dualer Student (impliziert Anstellung bei eine...</td>\n      <td>10000,00</td>\n      <td>Auto</td>\n      <td>2.0</td>\n      <td>80%</td>\n      <td>20%</td>\n      <td>kürzere Wartezeit zwischen zwei Zügen/Bussen;b...</td>\n      <td>günstigere Preise;mehr Reichweite;Einheitlichk...</td>\n    </tr>\n    <tr>\n      <th>13</th>\n      <td>2024/04/22 2:59:35 PM OEZ</td>\n      <td>20-25</td>\n      <td>gemietet</td>\n      <td>Haus</td>\n      <td>Stadt</td>\n      <td>Student</td>\n      <td>NaN</td>\n      <td>kein Auto</td>\n      <td>5.0</td>\n      <td>0%</td>\n      <td>80%</td>\n      <td>kürzere Wartezeit zwischen zwei Zügen/Bussen;b...</td>\n      <td>günstigere Preise;gute Budget-E-Autos;mehr/bes...</td>\n    </tr>\n    <tr>\n      <th>14</th>\n      <td>2024/04/22 3:23:43 PM OEZ</td>\n      <td>20-25</td>\n      <td>gemietet</td>\n      <td>Wohnung</td>\n      <td>Stadt</td>\n      <td>Student</td>\n      <td>7.000</td>\n      <td>Auto</td>\n      <td>3.0</td>\n      <td>70%</td>\n      <td>20%</td>\n      <td>kürzere Wartezeit zwischen zwei Zügen/Bussen;b...</td>\n      <td>mehr/besser verteilte Lademöglichkeiten;Einhei...</td>\n    </tr>\n    <tr>\n      <th>15</th>\n      <td>2024/04/22 5:08:36 PM OEZ</td>\n      <td>20-25</td>\n      <td>gemietet</td>\n      <td>Wohnung</td>\n      <td>Großstadt (min. 100.000 Einwohner)</td>\n      <td>dualer Student (impliziert Anstellung bei eine...</td>\n      <td>1250€</td>\n      <td>kein Auto</td>\n      <td>1.0</td>\n      <td>0%</td>\n      <td>100%</td>\n      <td>günstigere Preise;kürzere Wartezeit zwischen z...</td>\n      <td>gar nicht. Individualverkehr verringern und de...</td>\n    </tr>\n    <tr>\n      <th>16</th>\n      <td>2024/04/22 7:33:17 PM OEZ</td>\n      <td>20-25</td>\n      <td>gemietet</td>\n      <td>Wohnung</td>\n      <td>Großstadt (min. 100.000 Einwohner)</td>\n      <td>dualer Student (impliziert Anstellung bei eine...</td>\n      <td>netto: 2.700</td>\n      <td>Auto</td>\n      <td>6.0</td>\n      <td>90%</td>\n      <td>10%</td>\n      <td>günstigere Preise;bessere Zuverlässigkeit</td>\n      <td>längere/bessere Garantie auf Batterien;Einheit...</td>\n    </tr>\n    <tr>\n      <th>17</th>\n      <td>2024/04/22 8:37:23 PM OEZ</td>\n      <td>16-19</td>\n      <td>Wohneigentum</td>\n      <td>Haus</td>\n      <td>Land</td>\n      <td>dualer Student (impliziert Anstellung bei eine...</td>\n      <td>NaN</td>\n      <td>Auto</td>\n      <td>2.0</td>\n      <td>90%</td>\n      <td>10%</td>\n      <td>kürzere Wartezeit zwischen zwei Zügen/Bussen;b...</td>\n      <td>mehr/besser verteilte Lademöglichkeiten;mehr R...</td>\n    </tr>\n    <tr>\n      <th>18</th>\n      <td>2024/04/22 8:50:12 PM OEZ</td>\n      <td>20-25</td>\n      <td>gemietet</td>\n      <td>Wohnung</td>\n      <td>Großstadt (min. 100.000 Einwohner)</td>\n      <td>Angestellter</td>\n      <td>NaN</td>\n      <td>Auto</td>\n      <td>3.0</td>\n      <td>90%</td>\n      <td>10%</td>\n      <td>günstigere Preise;bessere Sauberkeit;bessere Z...</td>\n      <td>günstigere Preise;mehr/besser verteilte Lademö...</td>\n    </tr>\n    <tr>\n      <th>19</th>\n      <td>2024/04/22 9:20:47 PM OEZ</td>\n      <td>20-25</td>\n      <td>gemietet</td>\n      <td>Haus</td>\n      <td>Land</td>\n      <td>dualer Student (impliziert Anstellung bei eine...</td>\n      <td>4000</td>\n      <td>Auto</td>\n      <td>10.0</td>\n      <td>100%</td>\n      <td>10%</td>\n      <td>kürzere Wartezeit zwischen zwei Zügen/Bussen;I...</td>\n      <td>günstigere Preise;mehr/besser verteilte Lademö...</td>\n    </tr>\n  </tbody>\n</table>\n</div>"
     },
     "execution_count": 4,
     "metadata": {},
     "output_type": "execute_result"
    }
   ],
   "source": [
    "# Displaying the first 20 rows of the data\n",
    "df_uni_data.head(20)\n",
    "# count\n",
    "#df_uni_data.count()"
   ],
   "metadata": {
    "collapsed": false,
    "ExecuteTime": {
     "end_time": "2024-05-08T07:52:16.587129Z",
     "start_time": "2024-05-08T07:52:16.564474Z"
    }
   },
   "id": "7635f1177ed7119d",
   "execution_count": 4
  },
  {
   "cell_type": "markdown",
   "source": [
    "## Data Cleaning"
   ],
   "metadata": {
    "collapsed": false
   },
   "id": "fd70c9135bbb3939"
  },
  {
   "cell_type": "code",
   "outputs": [],
   "source": [
    "# Checking for missing values\n",
    "df_uni_data.isnull().sum()"
   ],
   "metadata": {
    "collapsed": false
   },
   "id": "53eeb71296982130",
   "execution_count": null
  },
  {
   "cell_type": "code",
   "outputs": [],
   "source": [
    "# Dropping the missing values\n",
    "df_uni_data.dropna(inplace=True)"
   ],
   "metadata": {
    "collapsed": false
   },
   "id": "f6f1a88d429a4d64",
   "execution_count": null
  },
  {
   "cell_type": "code",
   "outputs": [],
   "source": [
    "# Checking for duplicates\n",
    "df_uni_data.duplicated().sum()"
   ],
   "metadata": {
    "collapsed": false
   },
   "id": "aec4f60fe942e2b",
   "execution_count": null
  },
  {
   "cell_type": "code",
   "outputs": [],
   "source": [
    "# Dropping duplicates\n",
    "df_uni_data.drop_duplicates(inplace=True)"
   ],
   "metadata": {
    "collapsed": false
   },
   "id": "18f181a1a2642994",
   "execution_count": null
  },
  {
   "cell_type": "code",
   "outputs": [],
   "source": [
    "# Checking for unique values in the data\n",
    "df_uni_data.nunique()"
   ],
   "metadata": {
    "collapsed": false
   },
   "id": "dfb41fe5a56db9f7",
   "execution_count": null
  },
  {
   "cell_type": "code",
   "outputs": [],
   "source": [
    "# Replacing the missing values with the average values and fitting strings\n",
    "df_uni_data.fillna(df_uni_data.mean(), inplace=True)"
   ],
   "metadata": {
    "collapsed": false
   },
   "id": "ade9261db53f2872",
   "execution_count": null
  },
  {
   "cell_type": "markdown",
   "source": [
    "## Data Preprocessing"
   ],
   "metadata": {
    "collapsed": false
   },
   "id": "47676696c0eb88cd"
  },
  {
   "cell_type": "code",
   "outputs": [],
   "source": [
    "# Checking for the data types\n",
    "df_uni_data.dtypes"
   ],
   "metadata": {
    "collapsed": false
   },
   "id": "7d18c6aabe67907f",
   "execution_count": null
  },
  {
   "cell_type": "markdown",
   "source": [
    "## Data Analysis"
   ],
   "metadata": {
    "collapsed": false
   },
   "id": "a0a48d2652ad333c"
  },
  {
   "cell_type": "code",
   "outputs": [],
   "source": [
    "# Checking the distribution of the data\n",
    "df_uni_data.describe()"
   ],
   "metadata": {
    "collapsed": false
   },
   "id": "428659580bfde212",
   "execution_count": null
  },
  {
   "cell_type": "markdown",
   "source": [
    "## Data Visualization"
   ],
   "metadata": {
    "collapsed": false
   },
   "id": "483108f3924d781f"
  },
  {
   "cell_type": "code",
   "outputs": [],
   "source": [
    "# Plotting the distribution of the data\n",
    "df_uni_data.hist(figsize=(20, 20))\n",
    "plt.show()\n",
    "# add seaborn style\n",
    "sns.set()\n",
    "# add title and labels\n",
    "plt.title('Distribution of the data')\n",
    "plt.xlabel('Values')\n",
    "plt.ylabel('Frequency')\n",
    "plt.show()"
   ],
   "metadata": {
    "collapsed": false
   },
   "id": "6f493a7782f2b40d",
   "execution_count": null
  }
 ],
 "metadata": {
  "kernelspec": {
   "display_name": "Python 3",
   "language": "python",
   "name": "python3"
  },
  "language_info": {
   "codemirror_mode": {
    "name": "ipython",
    "version": 2
   },
   "file_extension": ".py",
   "mimetype": "text/x-python",
   "name": "python",
   "nbconvert_exporter": "python",
   "pygments_lexer": "ipython2",
   "version": "2.7.6"
  }
 },
 "nbformat": 4,
 "nbformat_minor": 5
}
