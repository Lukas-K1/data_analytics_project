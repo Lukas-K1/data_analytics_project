{
 "cells": [
  {
   "cell_type": "markdown",
   "source": [
    "# File to process data from uni forms survey\n",
    "## from importing data to processing and visualizing"
   ],
   "metadata": {
    "collapsed": false
   },
   "id": "8d62dec5046977b4"
  },
  {
   "cell_type": "code",
   "source": [
    "# Importing libraries\n",
    "import pandas as pd\n",
    "import numpy as np\n",
    "import matplotlib.pyplot as plt\n",
    "import seaborn as sns\n",
    "from sklearn.impute import KNNImputer\n",
    "from sklearn.model_selection import train_test_split\n",
    "from sklearn.preprocessing import StandardScaler\n",
    "from sklearn.linear_model import LinearRegression\n",
    "from sklearn.metrics import mean_squared_error"
   ],
   "metadata": {
    "collapsed": false
   },
   "id": "f412449febc26475",
   "outputs": [],
   "execution_count": null
  },
  {
   "cell_type": "markdown",
   "source": [
    "## Importing data"
   ],
   "metadata": {
    "collapsed": false
   },
   "id": "3e45d00bda73a316"
  },
  {
   "cell_type": "code",
   "source": [
    "# Importing data\n",
    "df_uni_data = pd.read_csv('data/umfrage-nachhaltige-mobilitaet_FHDW.csv')"
   ],
   "metadata": {
    "collapsed": false
   },
   "id": "590257c2899c10e8",
   "outputs": [],
   "execution_count": null
  },
  {
   "metadata": {},
   "cell_type": "markdown",
   "source": "## Methods for data processing",
   "id": "f5680365fd946534"
  },
  {
   "metadata": {},
   "cell_type": "markdown",
   "source": "Konstante Bezeichnungen für Spaltennamen",
   "id": "867dd034c3d9d86f"
  },
  {
   "metadata": {},
   "cell_type": "code",
   "source": [
    "#Constants for column names\n",
    "age = 'Wie alt sind Sie? '\n",
    "employment = 'Wie ist Ihre Beschäftigung? '\n",
    "monthly_income = 'Bitte schätzen Sie das monatliche Netto Gesamteinkommen in Ihrem Haushalt in Euro. (Wenn Sie dazu keine Angaben machen möchten, überspringen Sie diese Frage bitte.)'\n",
    "car_ownership = 'Besitzen Sie ein Auto? (auch Leasing) '\n",
    "interest_e_car = 'Wie interessiert sind Sie an einem E-Auto als Ihr nächstes(/erstes) KFZ? (Wenn Sie generell kein Interesse am Besitz eines Autos haben, überspringen Sie diese Frage bitte) '\n",
    "living_situation = 'Wie ist Ihre Wohnsituation? (Wohneigentum?) '\n",
    "living_situation_house_apartment = 'Wie ist Ihre Wohnsituation? (Haus oder Wohnung?) '\n",
    "living_situation_city = 'Wie ist Ihre Wohnsituation? (Großstadt, Stadt, Land?) '\n",
    "mobility_car = 'Welchen Anteil an Ihrer Gesamtmobilität macht Ihr Auto aus? (falls Sie kein Auto besitzen, wählen Sie bitte 0% aus) '\n",
    "mobility_public_transport = 'Welchen Anteil an Ihrer Gesamtmobilität macht der ÖPNV aus? '\n",
    "mobility_public_transport_attraction = 'Was würde den ÖPNV für Sie attraktiver machen? '\n",
    "mobility_e_car_attraction = 'Was würde E-Autos für Sie attraktiver machen? '"
   ],
   "id": "ab24987bb8f8985d",
   "outputs": [],
   "execution_count": null
  },
  {
   "metadata": {},
   "cell_type": "markdown",
   "source": "Methoden für das Preprocessing der Daten",
   "id": "f2e3dcf8684b3800"
  },
  {
   "metadata": {},
   "cell_type": "code",
   "source": [
    "def explore_data(input_data):\n",
    "    #Display a summary of the data\n",
    "    # args: data: pandas dataframe\n",
    "    # Summarize the data\n",
    "    print(input_data.info())\n",
    "    # Display the first 5 rows of the data\n",
    "    print(input_data.head())\n",
    "    \n",
    "def drop_data(input_data):\n",
    "    return input_data.drop_duplicates().dropna()\n",
    "\n",
    "def fill_data(input_data):\n",
    "    return input_data.ffill().bfill()\n",
    "\n",
    "# normalise age ranges to class representation\n",
    "def normalise_age(input_data):\n",
    "    # normalise age ranges to class representation\n",
    "    # args: data: pandas dataframe\n",
    "    # return: data: pandas dataframe\n",
    "    age_mapping = {\n",
    "        '0-15': 7.5,\n",
    "        '16-19': 17.5,\n",
    "        '20-25': 22.5,\n",
    "        '26-35': 30.5,\n",
    "        '36-45': 40.5,\n",
    "        '46-55': 50.5,\n",
    "        '56-65': 60.5,\n",
    "        '65+': 65\n",
    "    }\n",
    "    input_data[age] = input_data[age].replace(age_mapping)\n",
    "    return input_data\n",
    "\n",
    "def fill_missing_values(input_data, columns):\n",
    "    # fill missing values with the mean\n",
    "    # args: data: pandas dataframe\n",
    "    # return: data: pandas dataframe\n",
    "    imputed_data = input_data.copy()\n",
    "    imputer = KNNImputer(n_neighbors=3)\n",
    "    \n",
    "    # Ensure columns are reshaped correctly\n",
    "    reshaped_column = input_data[columns]\n",
    "    imputed_column = pd.DataFrame(imputer.fit_transform(reshaped_column), columns=columns)\n",
    "    imputed_data[columns] = imputed_column\n",
    "    \n",
    "    return imputed_data\n",
    "\n",
    "# remove euro sign from monthly income\n",
    "def normalise_monthly_income(input_data):\n",
    "    # remove euro sign from monthly income\n",
    "    # args: data: pandas dataframe\n",
    "    # return: data: pandas dataframe\n",
    "    replacements = {\n",
    "        '€': '',\n",
    "        ' euro': '',\n",
    "        ' Netto': '',\n",
    "        'netto: ': '',\n",
    "        ',': '.',\n",
    "        'Einkommen als SHK 300 Eltern 600': '900'\n",
    "    }\n",
    "    input_data[monthly_income] = input_data[monthly_income].replace('€', '', regex=True)\n",
    "    input_data[monthly_income] = input_data[monthly_income].replace(' euro', '', regex=True)\n",
    "    input_data[monthly_income] = input_data[monthly_income].replace(' Netto', '', regex=True)\n",
    "    input_data[monthly_income] = input_data[monthly_income].replace('netto: ', '', regex=True)\n",
    "    input_data[monthly_income] = input_data[monthly_income].replace(',', '.', regex=True)\n",
    "    # convert to float for this input data\n",
    "    input_data[monthly_income] = input_data[monthly_income].replace('Einkommen als SHK 300. Eltern 600', '900', regex=True)\n",
    "    # fill missing values with the median\n",
    "    input_data[monthly_income] = input_data[monthly_income].fillna(input_data[monthly_income].median())\n",
    "    input_data[monthly_income] = input_data[monthly_income].astype(float)\n",
    "    for old, new in replacements.items():\n",
    "        input_data[monthly_income] = input_data[monthly_income].replace(old, new)\n",
    "    input_data[monthly_income] = input_data[monthly_income].astype(float)\n",
    "    return input_data\n",
    "\n",
    "# normalise car ownership to numerical representation\n",
    "def normalise_car_ownership(input_data):\n",
    "    # normalise car ownership to numerical representation\n",
    "    # args: data: pandas dataframe\n",
    "    # return: data: pandas dataframe\n",
    "    car_mapping = {\n",
    "        'Auto': 1,\n",
    "        'kein Auto': 0\n",
    "    }\n",
    "    input_data[car_ownership] = input_data[car_ownership].replace(['Auto', 'kein Auto', 'E-Auto'], [1, 0, 2])\n",
    "    return input_data\n",
    "\n",
    "# percent to numerical representation\n",
    "def normalise_percent(input_data):\n",
    "    # normalise percent to numerical representation\n",
    "    # args: data: pandas dataframe\n",
    "    # return: data: pandas dataframe\n",
    "    percentage_mapping = {\n",
    "        '0%': 0,\n",
    "        '10%': 10,\n",
    "        '20%': 20,\n",
    "        '30%': 30,\n",
    "        '40%': 40,\n",
    "        '50%': 50,\n",
    "        '60%': 60,\n",
    "        '70%': 70,\n",
    "        '80%': 80,\n",
    "        '90%': 90,\n",
    "        '100%': 100\n",
    "    }\n",
    "    input_data[mobility_car] = input_data[mobility_car].replace(percentage_mapping)\n",
    "    input_data[mobility_public_transport] = input_data[mobility_public_transport].replace(percentage_mapping)\n",
    "    return input_data\n",
    "\n",
    "def normalise_employment(input_data):\n",
    "    # normalise employment to numerical representation\n",
    "    # args: data: pandas dataframe\n",
    "    # return: data: pandas dataframe\n",
    "    employment_mapping = {\n",
    "        'Student': 1,\n",
    "        'Angestellter': 2,\n",
    "        'Selbstständiger': 3,\n",
    "        'Arbeitslos': 4,\n",
    "        'Rentner': 5,\n",
    "        'Schüler': 6,\n",
    "        'Azubi': 7,\n",
    "        'dualer Student (impliziert Anstellung bei einem Partner Unternehmen)': 8,\n",
    "        'Beamter': 9,\n",
    "        'Student;Angestellter': 10,\n",
    "    }\n",
    "    input_data[employment] = input_data[employment].replace(employment_mapping)\n",
    "    return input_data\n",
    "\n",
    "def normalise_living_situation(input_data):\n",
    "    # normalise living situation to numerical representation\n",
    "    # args: data: pandas dataframe\n",
    "    # return: data: pandas dataframe\n",
    "    living_mapping = {\n",
    "        'Wohneigentum': 1,\n",
    "        'gemietet': 2,\n",
    "    }\n",
    "    \n",
    "    input_data[living_situation] = input_data[living_situation].replace(living_mapping)\n",
    "    return input_data\n",
    "\n",
    "def normalise_living_situation_house_apartment(input_data):\n",
    "    # normalise living situation to numerical representation\n",
    "    # args: data: pandas dataframe\n",
    "    # return: data: pandas dataframe\n",
    "    living_mapping = {\n",
    "        'Haus': 1,\n",
    "        'Wohnung': 2,\n",
    "        'Reihenhaus': 3,\n",
    "        'Doppelhaushälfte': 4,\n",
    "    }\n",
    "    \n",
    "    input_data[living_situation_house_apartment] = input_data[living_situation_house_apartment].replace(living_mapping)\n",
    "    return input_data\n",
    "\n",
    "def normalise_living_situation_city(input_data):\n",
    "    # normalise living situation to numerical representation\n",
    "    # args: data: pandas dataframe\n",
    "    # return: data: pandas dataframe\n",
    "    living_mapping = {\n",
    "        'Großstadt (min. 100.000 Einwohner)': 1,\n",
    "        'Stadt': 2,\n",
    "        'Land': 3\n",
    "    }\n",
    "    \n",
    "    input_data[living_situation_city] = input_data[living_situation_city].replace(living_mapping)\n",
    "    return input_data\n",
    "\n",
    "def split_data(input_data):\n",
    "    # split data for use case\n",
    "    # args: data: pandas dataframe\n",
    "    # Split the data into features and target\n",
    "    data_na_removed = input_data.dropna()\n",
    "    selected_columns_finance = [age, employment, monthly_income, car_ownership, interest_e_car]\n",
    "    selected_columns_mobility = [age, car_ownership, interest_e_car, mobility_car, mobility_public_transport, mobility_public_transport_attraction, mobility_e_car_attraction]\n",
    "    selected_columns_living = [living_situation, living_situation_house_apartment, living_situation_city, interest_e_car] \n",
    "    selected_columns_age_employment = [age, employment, interest_e_car] \n",
    "    data_financial = input_data[selected_columns_finance]\n",
    "    data_mobility = input_data[selected_columns_mobility]\n",
    "    data_living = input_data[selected_columns_living]\n",
    "    data_age = input_data[selected_columns_age_employment]\n",
    "    return input_data, data_na_removed, data_financial, data_mobility, data_living, data_age\n",
    "\n",
    "def prepare_data(input_data, feature_columns, target):\n",
    "    # Prepare the data for analysis\n",
    "    # args: data: pandas dataframe\n",
    "    # args: feature_column: (list): liste der spalten die als feature genutzt werden sollen\n",
    "    # args: target_column: (string): name zielvariable\n",
    "    #return: tuple: X_train, X_test, y_train, y_test\n",
    "    X_var = input_data[feature_columns]\n",
    "    Y_var = input_data[target]\n",
    "    # Split the data into training and testing data\n",
    "    X_trains, X_tests, y_train, y_test = train_test_split(X_var, Y_var, test_size=0.2, random_state=42)\n",
    "    return X_trains, X_tests, y_train, y_test\n",
    "\n",
    "def scale_data(X_train_data, X_test_data):\n",
    "    # Scale the data\n",
    "    # args: X_train: pandas dataframe\n",
    "    # args: X_test: pandas dataframe\n",
    "    #return: X_train_scaled, X_test_scaled\n",
    "    scaler = StandardScaler()\n",
    "    X_train_scaled = scaler.fit_transform(X_train_data)\n",
    "    X_test_scaled = scaler.transform(X_test_data)\n",
    "    return X_train_scaled, X_test_scaled\n",
    "\n",
    "def train_model(X_train_data, y_train_data):\n",
    "    # Train the model\n",
    "    # args: X_train: pandas dataframe\n",
    "    # args: y_train: pandas dataframe\n",
    "    #return: model\n",
    "    model = LinearRegression()\n",
    "    model.fit(X_train_data, y_train_data)\n",
    "    return model\n",
    "\n",
    "def evaluate_model(model, X_test_data, y_test_data):\n",
    "    # Evaluate the model\n",
    "    # args: model: model\n",
    "    # args: X_test: pandas dataframe\n",
    "    # args: y_test: pandas dataframe\n",
    "    #return: mse\n",
    "    y_pred = model.predict(X_test_data)\n",
    "    mse = mean_squared_error(y_test_data, y_pred)\n",
    "    return mse\n",
    "\n",
    "def analyze_data(X_train_data, X_test_data, Y_train_data, Y_test_data):\n",
    "    # Analyze the data\n",
    "    # args: X_train: pandas dataframe\n",
    "    # args: X_test: pandas dataframe\n",
    "    # args: Y_train: pandas dataframe\n",
    "    # args: Y_test: pandas dataframe\n",
    "    #return: mse\n",
    "    model = LinearRegression()\n",
    "    model.fit(X_train_data, Y_train_data)\n",
    "    y_pred = model.predict(X_test_data)\n",
    "    mse = mean_squared_error(Y_test_data, y_pred)\n",
    "    print('Mean Squared Error:', mse)\n",
    "    return mse\n",
    "\n",
    "    \n",
    "def visualize_correlation(input_data):\n",
    "    # args: data: pandas dataframe\n",
    "    # args: feature_columns: (list): liste der spalten die als feature genutzt werden sollen\n",
    "    # args: target_column: (string): name zielvariable\n",
    "    #return: None\n",
    "    # drop the 'Zeitstempel' column\n",
    "    input_data_copy = input_data.copy()\n",
    "    input_data_copy = input_data_copy.drop('Zeitstempel', axis=1)\n",
    "    input_data_copy = input_data_copy.drop(mobility_public_transport_attraction, axis=1)\n",
    "    input_data_copy = input_data_copy.drop(mobility_e_car_attraction, axis=1)\n",
    "    correlation_matrix = input_data_copy.corr()\n",
    "    plt.figure(figsize=(10, 10))\n",
    "    sns.heatmap(correlation_matrix, annot=True, cmap='coolwarm', fmt='.2f', linewidths=0.5)\n",
    "    plt.title('Correlation Matrix')\n",
    "    plt.show()"
   ],
   "id": "a03b8d2c816f5632",
   "outputs": [],
   "execution_count": null
  },
  {
   "metadata": {},
   "cell_type": "markdown",
   "source": "# Methoden für lineare Regressionsanalyse mit scikit-learn für ein Feature",
   "id": "40e6c609d0d414fd"
  },
  {
   "metadata": {},
   "cell_type": "code",
   "source": [
    "# method for linear regression analysis using scikit-learn\n",
    "def linear_regression_analysis(input_data, feature_column, target): \n",
    "    # Split the data\n",
    "    sns.lmplot(x = feature_column, y = target, data = input_data, order = 2, ci = None)\n",
    "    plt.show()\n",
    "    input_data.ffill().bfill()\n",
    "    x = np.array(input_data[feature_column]).reshape(-1, 1)\n",
    "    y = np.array(input_data[target]).reshape(-1, 1)\n",
    " \n",
    "    # Separating the data into independent and dependent variables\n",
    "    # Converting each dataframe into a numpy array \n",
    "    # since each dataframe contains only one column\n",
    "    #input_data.dropna(inplace = True)\n",
    " \n",
    "    # Dropping any rows with Nan values\n",
    "    x_train, x_test, y_train, y_test = train_test_split(x, y, test_size = 0.2)\n",
    " \n",
    "    # Splitting the data into training and testing data\n",
    "    regr = LinearRegression()\n",
    " \n",
    "    regr.fit(x_train, y_train)\n",
    "    print(regr.score(x_test, y_test))\n",
    "    y_pred = regr.predict(x_test)\n",
    "    plt.scatter(x_test, y_test, color ='b')\n",
    "    plt.plot(x_test, y_pred, color ='k')\n",
    " \n",
    "    plt.show()\n",
    "    # Data scatter of predicted values\n",
    "    plt.scatter(y_test, y_pred)\n",
    "    plt.xlabel('True Values')\n",
    "    plt.ylabel('Predictions')\n",
    "    plt.show()\n",
    "    return None"
   ],
   "id": "d383e1f1a303454c",
   "outputs": [],
   "execution_count": null
  },
  {
   "metadata": {},
   "cell_type": "markdown",
   "source": "# Methode für lineare Regressionsanalyse mit scikit-learn für mehrere Features",
   "id": "5e445313a6516616"
  },
  {
   "metadata": {},
   "cell_type": "code",
   "source": [
    "# method for linear regression analysis using scikit-learn for multiple features\n",
    "def linear_regression_analysis_multiple_features(input_data, feature_columns, target):\n",
    "    # Split the data\n",
    "    #sns.lmplot(x = feature_column, y = target, data = input_data, order = 2, ci = None)\n",
    "    #plt.show()\n",
    "    input_data.ffill().bfill()\n",
    "    x = np.array(input_data[feature_columns])\n",
    "    y = np.array(input_data[target])\n",
    " \n",
    "    # Separating the data into independent and dependent variables\n",
    "    # Converting each dataframe into a numpy array \n",
    "    # since each dataframe contains only one column\n",
    "    #input_data.dropna(inplace = True)\n",
    " \n",
    "    # Dropping any rows with Nan values\n",
    "    x_train, x_test, y_train, y_test = train_test_split(x, y, test_size = 0.2)\n",
    " \n",
    "    # Splitting the data into training and testing data\n",
    "    regr = LinearRegression()\n",
    " \n",
    "    regr.fit(x_train, y_train)\n",
    "    print(regr.score(x_test, y_test))\n",
    "    y_pred = regr.predict(x_test)\n",
    "    plt.scatter(x_test, y_test, color ='b')\n",
    "    plt.plot(x_test, y_pred, color ='k')\n",
    "    # adjust the plot to show multiple features or a combination of features\n",
    "    #plt.plot(x_test, y_pred, color ='k')\n",
    " \n",
    "    #plt.show()\n",
    "    # Data scatter of predicted values\n",
    "    plt.scatter(y_test, y_pred)\n",
    "    plt.xlabel('True Values')\n",
    "    plt.ylabel('Predictions')\n",
    "    plt.show()\n",
    "    return None"
   ],
   "id": "b1d4978ec9c2cd7d",
   "outputs": [],
   "execution_count": null
  },
  {
   "cell_type": "markdown",
   "source": [
    "## Data Exploration"
   ],
   "metadata": {
    "collapsed": false
   },
   "id": "b94abac44592c0a5"
  },
  {
   "metadata": {},
   "cell_type": "markdown",
   "source": "Anzeigen einer Zusammenfassung der Daten und der ersten 20 Zeilen",
   "id": "ca73b9c8571365c2"
  },
  {
   "cell_type": "code",
   "source": [
    "# Displaying the first 20 rows of the data\n",
    "df_uni_data.head(20)"
   ],
   "metadata": {
    "collapsed": false
   },
   "id": "7635f1177ed7119d",
   "outputs": [],
   "execution_count": null
  },
  {
   "metadata": {},
   "cell_type": "code",
   "source": "",
   "id": "58a1f4e9ffd6e76c",
   "outputs": [],
   "execution_count": null
  },
  {
   "cell_type": "markdown",
   "source": [
    "## Data Cleaning"
   ],
   "metadata": {
    "collapsed": false
   },
   "id": "fd70c9135bbb3939"
  },
  {
   "metadata": {},
   "cell_type": "markdown",
   "source": "Entfernen von Duplikaten und fehlenden Werten",
   "id": "5b44aa35270a0915"
  },
  {
   "cell_type": "code",
   "source": [
    "# Replacing missing values with the mean\n",
    "fill_data(df_uni_data)"
   ],
   "metadata": {
    "collapsed": false
   },
   "id": "ade9261db53f2872",
   "outputs": [],
   "execution_count": null
  },
  {
   "cell_type": "markdown",
   "source": [
    "## Data Preprocessing"
   ],
   "metadata": {
    "collapsed": false
   },
   "id": "47676696c0eb88cd"
  },
  {
   "metadata": {},
   "cell_type": "markdown",
   "source": "Vorbereitung der Daten für die Analyse mit Methoden um die Daten numerisch zu repräsentieren und fehlende Werte zu füllen",
   "id": "cbb92279ca0d1ee5"
  },
  {
   "cell_type": "code",
   "source": [
    "data_copy = normalise_age(df_uni_data)\n",
    "data_copy = normalise_monthly_income(df_uni_data)\n",
    "data_copy = normalise_car_ownership(df_uni_data)\n",
    "data_copy = normalise_employment(df_uni_data)\n",
    "data_copy = normalise_living_situation(df_uni_data)\n",
    "data_copy = normalise_living_situation_house_apartment(df_uni_data)\n",
    "data_copy = normalise_living_situation_city(df_uni_data)\n",
    "data_copy = normalise_percent(df_uni_data)\n",
    "# Filling missing values\n",
    "data_copy = fill_missing_values(data_copy, [interest_e_car])"
   ],
   "metadata": {
    "collapsed": false
   },
   "id": "7d18c6aabe67907f",
   "outputs": [],
   "execution_count": null
  },
  {
   "cell_type": "markdown",
   "source": [
    "## Data Analysis"
   ],
   "metadata": {
    "collapsed": false
   },
   "id": "a0a48d2652ad333c"
  },
  {
   "cell_type": "code",
   "source": [
    "# Checking the distribution of the data\n",
    "df_uni_data.describe()"
   ],
   "metadata": {
    "collapsed": false
   },
   "id": "428659580bfde212",
   "outputs": [],
   "execution_count": null
  },
  {
   "cell_type": "markdown",
   "source": [
    "## Data Visualization"
   ],
   "metadata": {
    "collapsed": false
   },
   "id": "483108f3924d781f"
  },
  {
   "metadata": {},
   "cell_type": "markdown",
   "source": "Visualisierung der Korrelationen zwischen den Variablen in Form einer Heatmap ",
   "id": "8b27ccf166a10717"
  },
  {
   "metadata": {},
   "cell_type": "code",
   "source": [
    "# Visualizing the correlation between the features and the target\n",
    "visualize_correlation(data_copy)"
   ],
   "id": "2e48725e43f22699",
   "outputs": [],
   "execution_count": null
  },
  {
   "metadata": {},
   "cell_type": "markdown",
   "source": [
    "# Linear Regression Analysis\n",
    "Durchführung einer linearen Regressionsanalyse für uni- und multivariate Features"
   ],
   "id": "b827ed7f480b7d56"
  },
  {
   "metadata": {},
   "cell_type": "markdown",
   "source": "Durchführung einer linearen Regressionsanalyse für das Alter und das Interesse an einem E-Auto mit Darstellung der Verteilung der Daten, der Regressionsgeraden und der Vorhersagegenauigkeit und Scatterplot der Vorhersagen",
   "id": "eab47f1cae18c1ba"
  },
  {
   "metadata": {},
   "cell_type": "code",
   "source": [
    "# linear regression analysis age vs interest in e-car\n",
    "linear_regression_analysis(data_copy, age, interest_e_car)"
   ],
   "id": "3ca8241caa695b91",
   "outputs": [],
   "execution_count": null
  },
  {
   "metadata": {},
   "cell_type": "markdown",
   "source": "Durchführung einer linearen Regressionsanalyse für das monatliche Einkommen und das Interesse an einem E-Auto mit Darstellung der Verteilung der Daten, der Regressionsgeraden und der Vorhersagegenauigkeit und Scatterplot der Vorhersagen",
   "id": "99993c363b862a48"
  },
  {
   "metadata": {},
   "cell_type": "code",
   "source": [
    "# linear regression analysis monthly income vs interest in e-car\n",
    "linear_regression_analysis(data_copy, monthly_income, interest_e_car)"
   ],
   "id": "4a6b5471e6d60cba",
   "outputs": [],
   "execution_count": null
  },
  {
   "metadata": {},
   "cell_type": "markdown",
   "source": "Durchführung einer linearen Regressionsanalyse für das Auto-Besitz und das Interesse an einem E-Auto mit Darstellung der Verteilung der Daten, der Regressionsgeraden und der Vorhersagegenauigkeit und Scatterplot der Vorhersagen",
   "id": "899298508831cb63"
  },
  {
   "metadata": {},
   "cell_type": "code",
   "source": [
    "# linear regression analysis car ownership vs interest in e-car\n",
    "linear_regression_analysis(data_copy, car_ownership, interest_e_car)"
   ],
   "id": "8c8cd63fc72212d",
   "outputs": [],
   "execution_count": null
  },
  {
   "metadata": {},
   "cell_type": "markdown",
   "source": "Durchführung einer linearen Regressionsanalyse für die Beschäftigung und das Interesse an einem E-Auto mit Darstellung der Verteilung der Daten, der Regressionsgeraden und der Vorhersagegenauigkeit und Scatterplot der Vorhersagen",
   "id": "20d59d6c37ff468c"
  },
  {
   "metadata": {},
   "cell_type": "code",
   "source": "linear_regression_analysis(data_copy, employment, interest_e_car)",
   "id": "b263d27de21af21d",
   "outputs": [],
   "execution_count": null
  },
  {
   "metadata": {},
   "cell_type": "markdown",
   "source": "Durchführung einer linearen Regressionsanalyse für die Wohnsituation (Eigentum oder Miete) und das Interesse an einem E-Auto mit Darstellung der Verteilung der Daten, der Regressionsgeraden und der Vorhersagegenauigkeit und Scatterplot der Vorhersagen",
   "id": "9d8882d9b6c3f2d5"
  },
  {
   "metadata": {},
   "cell_type": "code",
   "source": "linear_regression_analysis(data_copy, living_situation, interest_e_car)",
   "id": "1d032a6045455531",
   "outputs": [],
   "execution_count": null
  },
  {
   "metadata": {},
   "cell_type": "markdown",
   "source": "Durchführung einer linearen Regressionsanalyse für die Wohnsituation (Haus, Wohnung, etc.) und das Interesse an einem E-Auto mit Darstellung der Verteilung der Daten, der Regressionsgeraden und der Vorhersagegenauigkeit und Scatterplot der Vorhersagen",
   "id": "d6edc381cafe64c9"
  },
  {
   "metadata": {},
   "cell_type": "code",
   "source": "linear_regression_analysis(data_copy, living_situation_house_apartment, interest_e_car)",
   "id": "60b542dae2c70dd8",
   "outputs": [],
   "execution_count": null
  },
  {
   "metadata": {},
   "cell_type": "markdown",
   "source": "Durchführung einer linearen Regressionsanalyse für die Wohnsituation (Großstadt, Stadt, Land) und das Interesse an einem E-Auto mit Darstellung der Verteilung der Daten, der Regressionsgeraden und der Vorhersagegenauigkeit und Scatterplot der Vorhersagen",
   "id": "560d3dfb26e0a66c"
  },
  {
   "metadata": {},
   "cell_type": "code",
   "source": "linear_regression_analysis(data_copy, living_situation_city, interest_e_car)",
   "id": "8b272b04cda570ed",
   "outputs": [],
   "execution_count": null
  },
  {
   "metadata": {},
   "cell_type": "markdown",
   "source": "Durchführung einer linearen Regressionsanalyse für den Anteil von Autos an der Mobilität und das Interesse an einem E-Auto mit Darstellung der Verteilung der Daten, der Regressionsgeraden und der Vorhersagegenauigkeit und Scatterplot der Vorhersagen",
   "id": "c7a68a920c65f8f3"
  },
  {
   "metadata": {},
   "cell_type": "code",
   "source": [
    "# mobility_car vs interest_e_car\n",
    "linear_regression_analysis(data_copy, mobility_car, interest_e_car)"
   ],
   "id": "dc5c0f2bcabf33ed",
   "outputs": [],
   "execution_count": null
  },
  {
   "metadata": {},
   "cell_type": "markdown",
   "source": "Durchführung einer linearen Regressionsanalyse für den Anteil öffentlicher Verkehrsmittel an der Mobilität und das Interesse an einem E-Auto mit Darstellung der Verteilung der Daten, der Regressionsgeraden und der Vorhersagegenauigkeit und Scatterplot der Vorhersagen",
   "id": "2053e5123945895"
  },
  {
   "metadata": {},
   "cell_type": "code",
   "source": [
    "# mobility_public_transport vs interest_e_car\n",
    "linear_regression_analysis(data_copy, mobility_public_transport, interest_e_car)"
   ],
   "id": "4dda49dd545c77ff",
   "outputs": [],
   "execution_count": null
  },
  {
   "metadata": {},
   "cell_type": "markdown",
   "source": "# Durchführung von linearen Regressionsanalysen für mehrere Features",
   "id": "bfe787e1a01b61aa"
  },
  {
   "metadata": {},
   "cell_type": "markdown",
   "source": "Durchführung einer linearen Regressionsanalyse für das Alter und das Interesse an einem E-Auto mit Darstellung der Verteilung der Daten, der Regressionsgeraden und der Vorhersagegenauigkeit und Scatterplot der Vorhersagen",
   "id": "14ab256f879a79a7"
  },
  {
   "metadata": {},
   "cell_type": "code",
   "source": [
    "# age, employment vs interest_e_car\n",
    "linear_regression_analysis_multiple_features(data_copy, [age, employment], interest_e_car)"
   ],
   "id": "a916f2f8d29ca0f1",
   "outputs": [],
   "execution_count": null
  },
  {
   "metadata": {},
   "cell_type": "markdown",
   "source": "Durchführung einer linearen Regressionsanalyse für das Alter und das monatliche Einkommen und das Interesse an einem E-Auto mit Darstellung der Verteilung der Daten, der Regressionsgeraden und der Vorhersagegenauigkeit und Scatterplot der Vorhersagen",
   "id": "523a3e2256348a7b"
  },
  {
   "metadata": {},
   "cell_type": "code",
   "source": [
    "# age, income vs interest_e_car\n",
    "linear_regression_analysis_multiple_features(data_copy, [age, monthly_income], interest_e_car)"
   ],
   "id": "b02de1b0a60137c1",
   "outputs": [],
   "execution_count": null
  },
  {
   "metadata": {},
   "cell_type": "markdown",
   "source": "Durchführung einer linearen Regressionsanalyse für das Alter und den Auto-Besitz und das Interesse an einem E-Auto mit Darstellung der Verteilung der Daten, der Regressionsgeraden und der Vorhersagegenauigkeit und Scatterplot der Vorhersagen",
   "id": "a06089a9b8a6c0e2"
  },
  {
   "metadata": {},
   "cell_type": "code",
   "source": [
    "# age, car ownership vs interest_e_car\n",
    "linear_regression_analysis_multiple_features(data_copy, [age, car_ownership], interest_e_car)"
   ],
   "id": "19a6105b83e951a",
   "outputs": [],
   "execution_count": null
  },
  {
   "metadata": {},
   "cell_type": "markdown",
   "source": "Durchführung einer linearen Regressionsanalyse für das Alter und die Wohnsituation (Eigentum, Miete) an der Mobilität und das Interesse an einem E-Auto mit Darstellung der Verteilung der Daten, der Regressionsgeraden und der Vorhersagegenauigkeit und Scatterplot der Vorhersagen",
   "id": "ca8b42ff739e68c3"
  },
  {
   "metadata": {},
   "cell_type": "code",
   "source": [
    "# age, living situation vs interest_e_car\n",
    "linear_regression_analysis_multiple_features(data_copy, [age, living_situation], interest_e_car)"
   ],
   "id": "d85b2ee9a8af84d5",
   "outputs": [],
   "execution_count": null
  },
  {
   "metadata": {},
   "cell_type": "markdown",
   "source": "Durchführung einer linearen Regressionsanalyse für das Alter und die Wohnsituation (Haus, Wohnung, etc.) an der Mobilität und das Interesse an einem E-Auto mit Darstellung der Verteilung der Daten, der Regressionsgeraden und der Vorhersagegenauigkeit und Scatterplot der Vorhersagen",
   "id": "3762eee8d67ed277"
  },
  {
   "metadata": {},
   "cell_type": "code",
   "source": [
    "# age, living situation house apartment vs interest_e_car\n",
    "linear_regression_analysis_multiple_features(data_copy, [age, living_situation_house_apartment], interest_e_car)"
   ],
   "id": "ee6d454e27b16307",
   "outputs": [],
   "execution_count": null
  },
  {
   "metadata": {},
   "cell_type": "markdown",
   "source": "Durchführung einer linearen Regressionsanalyse für das Alter und die Wohnsituation (Großstadt, Stadt, Land) an der Mobilität und das Interesse an einem E-Auto mit Darstellung der Verteilung der Daten, der Regressionsgeraden und der Vorhersagegenauigkeit und Scatterplot der Vorhersagen",
   "id": "8964451f2f87b823"
  },
  {
   "metadata": {},
   "cell_type": "code",
   "source": [
    "# age, living situation city vs interest_e_car\n",
    "linear_regression_analysis_multiple_features(data_copy, [age, living_situation_city], interest_e_car)"
   ],
   "id": "26afec01c4ac3bfb",
   "outputs": [],
   "execution_count": null
  },
  {
   "metadata": {},
   "cell_type": "code",
   "source": "",
   "id": "9786544477045f54",
   "outputs": [],
   "execution_count": null
  }
 ],
 "metadata": {
  "kernelspec": {
   "display_name": "Python 3",
   "language": "python",
   "name": "python3"
  },
  "language_info": {
   "codemirror_mode": {
    "name": "ipython",
    "version": 2
   },
   "file_extension": ".py",
   "mimetype": "text/x-python",
   "name": "python",
   "nbconvert_exporter": "python",
   "pygments_lexer": "ipython2",
   "version": "2.7.6"
  }
 },
 "nbformat": 4,
 "nbformat_minor": 5
}
