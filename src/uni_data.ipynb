{
 "cells": [
  {
   "cell_type": "markdown",
   "source": [
    "# File to process data from uni forms survey\n",
    "## from importing data to processing and visualizing"
   ],
   "metadata": {
    "collapsed": false
   },
   "id": "8d62dec5046977b4"
  },
  {
   "cell_type": "code",
   "outputs": [],
   "source": [
    "# Importing necessary libraries\n",
    "import pandas as pd\n",
    "import numpy as np\n",
    "import matplotlib.pyplot as plt\n",
    "import seaborn as sns"
   ],
   "metadata": {
    "collapsed": false
   },
   "id": "f412449febc26475"
  },
  {
   "cell_type": "markdown",
   "source": [
    "## Importing data"
   ],
   "metadata": {
    "collapsed": false
   },
   "id": "3e45d00bda73a316"
  },
  {
   "cell_type": "code",
   "outputs": [],
   "source": [
    "# Importing data\n",
    "df_uni_data = pd.read_csv('data/uni_forms.csv')"
   ],
   "metadata": {
    "collapsed": false
   },
   "id": "590257c2899c10e8"
  },
  {
   "cell_type": "markdown",
   "source": [
    "## Data Exploration"
   ],
   "metadata": {
    "collapsed": false
   },
   "id": "b94abac44592c0a5"
  },
  {
   "cell_type": "code",
   "outputs": [],
   "source": [
    "# Displaying the first 20 rows of the data\n",
    "df_uni_data.head(20)"
   ],
   "metadata": {
    "collapsed": false
   },
   "id": "7635f1177ed7119d"
  },
  {
   "cell_type": "markdown",
   "source": [
    "## Data Cleaning"
   ],
   "metadata": {
    "collapsed": false
   },
   "id": "fd70c9135bbb3939"
  },
  {
   "cell_type": "code",
   "outputs": [],
   "source": [
    "# Checking for missing values\n",
    "df_uni_data.isnull().sum()"
   ],
   "metadata": {
    "collapsed": false
   },
   "id": "53eeb71296982130"
  },
  {
   "cell_type": "code",
   "outputs": [],
   "source": [
    "# Dropping the missing values\n",
    "df_uni_data.dropna(inplace=True)"
   ],
   "metadata": {
    "collapsed": false
   },
   "id": "f6f1a88d429a4d64"
  },
  {
   "cell_type": "code",
   "outputs": [],
   "source": [
    "# Checking for duplicates\n",
    "df_uni_data.duplicated().sum()"
   ],
   "metadata": {
    "collapsed": false
   },
   "id": "aec4f60fe942e2b"
  },
  {
   "cell_type": "code",
   "outputs": [],
   "source": [
    "# Dropping duplicates\n",
    "df_uni_data.drop_duplicates(inplace=True)"
   ],
   "metadata": {
    "collapsed": false
   },
   "id": "18f181a1a2642994"
  },
  {
   "cell_type": "code",
   "outputs": [],
   "source": [
    "# Checking for unique values in the data\n",
    "df_uni_data.nunique()"
   ],
   "metadata": {
    "collapsed": false
   },
   "id": "dfb41fe5a56db9f7"
  },
  {
   "cell_type": "code",
   "outputs": [],
   "source": [
    "# Replacing the missing values with the average values and fitting strings\n",
    "df_uni_data.fillna(df_uni_data.mean(), inplace=True)"
   ],
   "metadata": {
    "collapsed": false
   },
   "id": "ade9261db53f2872"
  },
  {
   "cell_type": "markdown",
   "source": [
    "## Data Preprocessing"
   ],
   "metadata": {
    "collapsed": false
   },
   "id": "47676696c0eb88cd"
  },
  {
   "cell_type": "code",
   "outputs": [],
   "source": [
    "# Checking for the data types\n",
    "df_uni_data.dtypes"
   ],
   "metadata": {
    "collapsed": false
   },
   "id": "7d18c6aabe67907f"
  },
  {
   "cell_type": "markdown",
   "source": [
    "## Data Analysis"
   ],
   "metadata": {
    "collapsed": false
   },
   "id": "a0a48d2652ad333c"
  },
  {
   "cell_type": "code",
   "outputs": [],
   "source": [
    "# Checking the distribution of the data\n",
    "df_uni_data.describe()"
   ],
   "metadata": {
    "collapsed": false
   },
   "id": "428659580bfde212"
  },
  {
   "cell_type": "markdown",
   "source": [
    "## Data Visualization"
   ],
   "metadata": {
    "collapsed": false
   },
   "id": "483108f3924d781f"
  },
  {
   "cell_type": "code",
   "outputs": [],
   "source": [
    "# Plotting the distribution of the data\n",
    "df_uni_data.hist(figsize=(20, 20))\n",
    "plt.show()\n",
    "# add seaborn style\n",
    "sns.set()\n",
    "# add title and labels\n",
    "plt.title('Distribution of the data')\n",
    "plt.xlabel('Values')\n",
    "plt.ylabel('Frequency')\n",
    "plt.show()"
   ],
   "metadata": {
    "collapsed": false
   },
   "id": "6f493a7782f2b40d"
  }
 ],
 "metadata": {
  "kernelspec": {
   "display_name": "Python 3",
   "language": "python",
   "name": "python3"
  },
  "language_info": {
   "codemirror_mode": {
    "name": "ipython",
    "version": 2
   },
   "file_extension": ".py",
   "mimetype": "text/x-python",
   "name": "python",
   "nbconvert_exporter": "python",
   "pygments_lexer": "ipython2",
   "version": "2.7.6"
  }
 },
 "nbformat": 4,
 "nbformat_minor": 5
}
