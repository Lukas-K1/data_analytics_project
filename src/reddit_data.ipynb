{
 "cells": [
  {
   "cell_type": "markdown",
   "source": [
    "# File to process data from reddit survey\n",
    "## from importing data to processing and visualizing\n"
   ],
   "metadata": {
    "collapsed": false
   },
   "id": "c8d55dc29a978137"
  },
  {
   "cell_type": "code",
   "outputs": [],
   "source": [
    "# Importing libraries\n",
    "import pandas as pd\n",
    "import numpy as np\n",
    "import matplotlib.pyplot as plt\n",
    "import seaborn as sns"
   ],
   "metadata": {
    "collapsed": false
   },
   "id": "739eca39e863814e"
  },
  {
   "cell_type": "markdown",
   "source": [
    "## Importing data"
   ],
   "metadata": {
    "collapsed": false
   },
   "id": "ba1ec310572fd190"
  },
  {
   "cell_type": "code",
   "outputs": [],
   "source": [
    "# Importing data\n",
    "df_reddit_data = pd.read_csv('reddit_survey.csv')"
   ],
   "metadata": {
    "collapsed": false
   },
   "id": "939f8d7b1ff63b2"
  },
  {
   "cell_type": "markdown",
   "source": [
    "## Data Exploration"
   ],
   "metadata": {
    "collapsed": false
   },
   "id": "b52a4f4d7cc270bd"
  },
  {
   "cell_type": "code",
   "outputs": [],
   "source": [
    "# Displaying the first 20 rows of the data"
   ],
   "metadata": {
    "collapsed": false
   },
   "id": "d8bd3da97b890665"
  },
  {
   "cell_type": "code",
   "outputs": [],
   "source": [
    "df_reddit_data.head(20)"
   ],
   "metadata": {
    "collapsed": false
   },
   "id": "2189a421e5f42434"
  },
  {
   "cell_type": "markdown",
   "source": [
    "## #Cleaning the data"
   ],
   "metadata": {
    "collapsed": false
   },
   "id": "376fc1bec7fa9e50"
  },
  {
   "cell_type": "code",
   "outputs": [],
   "source": [
    "# Checking for missing values\n",
    "df_reddit_data.isnull().sum()"
   ],
   "metadata": {
    "collapsed": false
   },
   "id": "6de449d3ca402d5c"
  },
  {
   "cell_type": "code",
   "outputs": [],
   "source": [
    "# Checking for duplicates\n",
    "df_reddit_data.duplicated().sum()"
   ],
   "metadata": {
    "collapsed": false
   },
   "id": "8691dc80dacc1a4c"
  },
  {
   "cell_type": "code",
   "outputs": [],
   "source": [
    "# Checking for unique values in the data\n",
    "df_reddit_data.nunique()"
   ],
   "metadata": {
    "collapsed": false
   },
   "id": "a4cbe45b1d790e6"
  },
  {
   "cell_type": "code",
   "outputs": [],
   "source": [
    "# Dropping the duplicates\n",
    "df_reddit_data.drop_duplicates(inplace=True)"
   ],
   "metadata": {
    "collapsed": false
   },
   "id": "fba054fdd6f2e0a6"
  },
  {
   "cell_type": "code",
   "outputs": [],
   "source": [
    "# Dropping the missing values with the mode\n",
    "df_reddit_data.dropna(inplace=True)"
   ],
   "metadata": {
    "collapsed": false
   },
   "id": "c2d10fa852c00fb8"
  },
  {
   "cell_type": "code",
   "outputs": [],
   "source": [
    "# Replacing the missing values with the average values and fitting strings\n",
    "df_reddit_data.fillna(df_reddit_data.mean(), inplace=True)"
   ],
   "metadata": {
    "collapsed": false
   },
   "id": "a32855389102e204"
  },
  {
   "cell_type": "markdown",
   "source": [
    "## Data Preprocessing"
   ],
   "metadata": {
    "collapsed": false
   },
   "id": "8996c38853fbc997"
  },
  {
   "cell_type": "code",
   "outputs": [],
   "source": [
    "# Checking the data types of the columns\n",
    "df_reddit_data.dtypes\n"
   ],
   "metadata": {
    "collapsed": false
   },
   "id": "6b79899b8de02065"
  },
  {
   "cell_type": "markdown",
   "source": [
    "## Data Analysis"
   ],
   "metadata": {
    "collapsed": false
   },
   "id": "b1c630397b82b9a5"
  },
  {
   "cell_type": "code",
   "outputs": [],
   "source": [
    "# Checking the distribution of the data\n",
    "df_reddit_data.describe()"
   ],
   "metadata": {
    "collapsed": false
   },
   "id": "8afe49c3f4ee9705"
  },
  {
   "cell_type": "markdown",
   "source": [
    "## Data Visualization"
   ],
   "metadata": {
    "collapsed": false
   },
   "id": "c0ad9e9b44854f49"
  },
  {
   "cell_type": "code",
   "outputs": [],
   "source": [
    "# Plotting the distribution of the data\n",
    "df_reddit_data.hist(bins=50, figsize=(20, 15))\n",
    "plt.show()\n",
    "# add seaborn style\n",
    "sns.set()\n",
    "# add title and description\n",
    "plt.title('Distribution of the data')\n",
    "plt.xlabel('Values')\n",
    "plt.ylabel('Frequency')\n"
   ],
   "metadata": {
    "collapsed": false
   },
   "id": "1e86b9a599f6299f"
  }
 ],
 "metadata": {
  "kernelspec": {
   "display_name": "Python 3",
   "language": "python",
   "name": "python3"
  },
  "language_info": {
   "codemirror_mode": {
    "name": "ipython",
    "version": 2
   },
   "file_extension": ".py",
   "mimetype": "text/x-python",
   "name": "python",
   "nbconvert_exporter": "python",
   "pygments_lexer": "ipython2",
   "version": "2.7.6"
  }
 },
 "nbformat": 4,
 "nbformat_minor": 5
}
