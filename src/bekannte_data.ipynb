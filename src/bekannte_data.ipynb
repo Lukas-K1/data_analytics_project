{
 "cells": [
  {
   "cell_type": "markdown",
   "source": [
    "# File to process data from survey among acquaintances\n",
    "## from importing data to processing and visualizing"
   ],
   "metadata": {
    "collapsed": false
   },
   "id": "4132eb3b221e99fc"
  },
  {
   "cell_type": "code",
   "source": [
    "# Importing libraries\n",
    "import pandas as pd\n",
    "import numpy as np\n",
    "import matplotlib.pyplot as plt\n",
    "import seaborn as sns\n",
    "from sklearn.impute import KNNImputer\n",
    "from sklearn.model_selection import train_test_split\n",
    "from sklearn.preprocessing import StandardScaler\n",
    "from sklearn.linear_model import LinearRegression\n",
    "from sklearn.metrics import mean_squared_error"
   ],
   "metadata": {
    "collapsed": false
   },
   "id": "47511d3d29cd1498",
   "outputs": [],
   "execution_count": null
  },
  {
   "cell_type": "markdown",
   "source": [
    "## Importing data"
   ],
   "metadata": {
    "collapsed": false
   },
   "id": "c0c4bb233690b9b2"
  },
  {
   "cell_type": "code",
   "source": [
    "# Importing data\n",
    "df_whatsapp_data = pd.read_csv('data/umfrage-nachhaltige-mobilitaet_bekannte.csv')"
   ],
   "metadata": {
    "collapsed": false
   },
   "id": "2a981d7a6aa74e25",
   "outputs": [],
   "execution_count": null
  },
  {
   "metadata": {},
   "cell_type": "markdown",
   "source": "## Methods for data processing",
   "id": "a49461fb29f7be4"
  },
  {
   "metadata": {},
   "cell_type": "markdown",
   "source": "Konstante Bezeichnungen für Spaltennamen",
   "id": "3a873a8131a7cb30"
  },
  {
   "metadata": {},
   "cell_type": "code",
   "source": [
    "#Constants for column names\n",
    "age = 'Wie alt sind Sie? '\n",
    "employment = 'Wie ist Ihre Beschäftigung? '\n",
    "monthly_income = 'Bitte schätzen Sie das monatliche Netto Gesamteinkommen in Ihrem Haushalt in Euro. (Wenn Sie dazu keine Angaben machen möchten, überspringen Sie diese Frage bitte.)'\n",
    "car_ownership = 'Besitzen Sie ein Auto? (auch Leasing) '\n",
    "interest_e_car = 'Wie interessiert sind Sie an einem E-Auto als Ihr nächstes(/erstes) KFZ? (Wenn Sie generell kein Interesse am Besitz eines Autos haben, überspringen Sie diese Frage bitte) '\n",
    "living_situation = 'Wie ist Ihre Wohnsituation? (Wohneigentum?) '\n",
    "living_situation_house_apartment = 'Wie ist Ihre Wohnsituation? (Haus oder Wohnung?) '\n",
    "living_situation_city = 'Wie ist Ihre Wohnsituation? (Großstadt, Stadt, Land?) '\n",
    "mobility_car = 'Welchen Anteil an Ihrer Gesamtmobilität macht Ihr Auto aus? (falls Sie kein Auto besitzen, wählen Sie bitte 0% aus) '\n",
    "mobility_public_transport = 'Welchen Anteil an Ihrer Gesamtmobilität macht der ÖPNV aus? '\n",
    "mobility_public_transport_attraction = 'Was würde den ÖPNV für Sie attraktiver machen? '\n",
    "mobility_e_car_attraction = 'Was würde E-Autos für Sie attraktiver machen? '"
   ],
   "id": "5d9c265226401e96",
   "outputs": [],
   "execution_count": null
  },
  {
   "metadata": {},
   "cell_type": "markdown",
   "source": "Methoden für das Preprocessing der Daten",
   "id": "1cda3f6151c912ae"
  },
  {
   "metadata": {},
   "cell_type": "code",
   "source": [
    "def explore_data(input_data):\n",
    "    #Display a summary of the data\n",
    "    # args: data: pandas dataframe\n",
    "    # Summarize the data\n",
    "    print(input_data.info())\n",
    "    # Display the first 5 rows of the data\n",
    "    print(input_data.head())\n",
    "    \n",
    "def drop_data(input_data):\n",
    "    # Drop non-uniques and missing values\n",
    "    # args: data: pandas dataframe\n",
    "    # Drop duplicates\n",
    "    duplicate_free_data = input_data.drop_duplicates()\n",
    "    # Drop missing values\n",
    "    na_free_data = duplicate_free_data.dropna(inplace=True)\n",
    "    # Replace missing values with the mean\n",
    "    return na_free_data\n",
    "\n",
    "def fill_data(input_data):\n",
    "    # Fill missing values with the mean\n",
    "    # args: data: pandas dataframe\n",
    "    #data.fillna(data.mean(), inplace=True)\n",
    "    input_data.ffill().bfill()\n",
    "    return input_data\n",
    "\n",
    "# normalise age ranges to class representation\n",
    "def normalise_age(input_data):\n",
    "    # normalise age ranges to class representation\n",
    "    # args: data: pandas dataframe\n",
    "    # return: data: pandas dataframe\n",
    "    input_data[age] = input_data[age].replace(['0-15', '16-19', '20-25', '26-35', '36-45', '46-55', '56-65', '65+'], [7.5, 17.5, 22.5, 30.5, 40.5, 50.5, 60.5, 65])\n",
    "    return input_data\n",
    "\n",
    "# percent to numerical representation\n",
    "def normalise_percent(input_data):\n",
    "    # normalise percent to numerical representation\n",
    "    # args: data: pandas dataframe\n",
    "    # return: data: pandas dataframe\n",
    "    percentage_mapping = {\n",
    "        '0%': 0,\n",
    "        '10%': 10,\n",
    "        '20%': 20,\n",
    "        '30%': 30,\n",
    "        '40%': 40,\n",
    "        '50%': 50,\n",
    "        '60%': 60,\n",
    "        '70%': 70,\n",
    "        '80%': 80,\n",
    "        '90%': 90,\n",
    "        '100%': 100\n",
    "    }\n",
    "    input_data[mobility_car] = input_data[mobility_car].replace(percentage_mapping)\n",
    "    input_data[mobility_public_transport] = input_data[mobility_public_transport].replace(percentage_mapping)\n",
    "    return input_data\n",
    "\n",
    "def fill_missing_values(input_data, columns):\n",
    "    # fill missing values with the mean\n",
    "    # args: data: pandas dataframe\n",
    "    # return: data: pandas dataframe\n",
    "    imputed_data = input_data.copy()\n",
    "    imputer = KNNImputer(n_neighbors=3)\n",
    "    \n",
    "    # Ensure columns are reshaped correctly\n",
    "    reshaped_column = input_data[columns]\n",
    "    imputed_column = pd.DataFrame(imputer.fit_transform(reshaped_column), columns=columns)\n",
    "    imputed_data[columns] = imputed_column\n",
    "    \n",
    "    return imputed_data\n",
    "    \n",
    "\n",
    "# remove euro sign from monthly income\n",
    "def normalise_monthly_income(input_data):\n",
    "    # remove euro sign from monthly income\n",
    "    # args: data: pandas dataframe\n",
    "    # return: data: pandas dataframe\n",
    "    input_data[monthly_income] = input_data[monthly_income].replace('€', '', regex=True)\n",
    "    input_data[monthly_income] = input_data[monthly_income].replace(' euro', '', regex=True)\n",
    "    input_data[monthly_income] = input_data[monthly_income].replace(' Netto', '', regex=True)\n",
    "    input_data[monthly_income] = input_data[monthly_income].replace('netto: ', '', regex=True)\n",
    "    input_data[monthly_income] = input_data[monthly_income].replace(',', '.', regex=True)\n",
    "    # convert to float for this input data\n",
    "    input_data[monthly_income] = input_data[monthly_income].replace('Einkommen als SHK 300. Eltern 600', '900', regex=True)\n",
    "    # fill missing values with the median\n",
    "    input_data[monthly_income] = input_data[monthly_income].fillna(input_data[monthly_income].median())\n",
    "    input_data[monthly_income] = input_data[monthly_income].astype(float)\n",
    "    return input_data\n",
    "\n",
    "def normalise_employment(input_data):\n",
    "    # normalise employment to numerical representation\n",
    "    # args: data: pandas dataframe\n",
    "    # return: data: pandas dataframe\n",
    "    employment_mapping = {\n",
    "        'Student': 1,\n",
    "        'Angestellter': 2,\n",
    "        'Selbstständiger': 3,\n",
    "        'Arbeitslos': 4,\n",
    "        'Rentner': 5,\n",
    "        'Schüler': 6,\n",
    "        'Azubi': 7,\n",
    "        'dualer Student (impliziert Anstellung bei einem Partner Unternehmen)': 8,\n",
    "        'Beamter': 9,\n",
    "        'Student;Angestellter': 10,\n",
    "    }\n",
    "    input_data[employment] = input_data[employment].replace(employment_mapping)\n",
    "    return input_data\n",
    "\n",
    "def normalise_living_situation(input_data):\n",
    "    # normalise living situation to numerical representation\n",
    "    # args: data: pandas dataframe\n",
    "    # return: data: pandas dataframe\n",
    "    living_mapping = {\n",
    "        'Wohneigentum': 1,\n",
    "        'gemietet': 2,\n",
    "    }\n",
    "    input_data[living_situation] = input_data[living_situation].replace(living_mapping)\n",
    "    return input_data\n",
    "\n",
    "def normalise_living_situation_house_apartment(input_data):\n",
    "    # normalise living situation to numerical representation\n",
    "    # args: data: pandas dataframe\n",
    "    # return: data: pandas dataframe\n",
    "    living_mapping = {\n",
    "        'Haus': 1,\n",
    "        'Wohnung': 2,\n",
    "        'Reihenhaus': 3,\n",
    "        'Doppelhaushälfte': 4,\n",
    "    }\n",
    "    input_data[living_situation_house_apartment] = input_data[living_situation_house_apartment].replace(living_mapping)\n",
    "    return input_data\n",
    "\n",
    "def normalise_living_situation_city(input_data):\n",
    "    # normalise living situation to numerical representation\n",
    "    # args: data: pandas dataframe\n",
    "    # return: data: pandas dataframe\n",
    "    living_mapping = {\n",
    "        'Großstadt (min. 100.000 Einwohner)': 1,\n",
    "        'Stadt': 2,\n",
    "        'Land': 3\n",
    "    }\n",
    "    input_data[living_situation_city] = input_data[living_situation_city].replace(living_mapping)\n",
    "    return input_data\n",
    "\n",
    "# normalise car ownership to numerical representation\n",
    "def normalise_car_ownership(input_data):\n",
    "    # normalise car ownership to numerical representation\n",
    "    # args: data: pandas dataframe\n",
    "    # return: data: pandas dataframe\n",
    "    input_data[car_ownership] = input_data[car_ownership].replace(['Auto', 'kein Auto', 'E-Auto'], [1, 0, 2])\n",
    "    return input_data\n",
    "\n",
    "def split_data(input_data):\n",
    "    # split data for use case\n",
    "    # args: data: pandas dataframe\n",
    "    # Split the data into features and target\n",
    "    # helper method to split the data in different use cases, not used in this notebook\n",
    "    data_na_removed = input_data.dropna()\n",
    "    selected_columns_finance = [age, employment, monthly_income, car_ownership, interest_e_car]\n",
    "    selected_columns_mobility = [age, car_ownership, interest_e_car, mobility_car, mobility_public_transport, mobility_public_transport_attraction, mobility_e_car_attraction]\n",
    "    selected_columns_living = [living_situation, living_situation_house_apartment, living_situation_city, interest_e_car] \n",
    "    selected_columns_age_employment = [age, employment, interest_e_car] \n",
    "    data_financial = input_data[selected_columns_finance]\n",
    "    data_mobility = input_data[selected_columns_mobility]\n",
    "    data_living = input_data[selected_columns_living]\n",
    "    data_age = input_data[selected_columns_age_employment]\n",
    "    return input_data, data_na_removed, data_financial, data_mobility, data_living, data_age\n",
    "\n",
    "def prepare_data(input_data, feature_columns, target):\n",
    "    # Prepare the data for analysis\n",
    "    # args: data: pandas dataframe\n",
    "    # args: feature_column: (list): liste der spalten die als feature genutzt werden sollen\n",
    "    # args: target_column: (string): name zielvariable\n",
    "    #return: tuple: X_train, X_test, y_train, y_test\n",
    "    X_var = input_data[feature_columns]\n",
    "    Y_var = input_data[target]\n",
    "    # Split the data into training and testing data\n",
    "    X_trains, X_tests, y_train, y_test = train_test_split(X_var, Y_var, test_size=0.2, random_state=42)\n",
    "    return X_trains, X_tests, y_train, y_test\n",
    "\n",
    "def scale_data(X_train_data, X_test_data):\n",
    "    # Scale the data\n",
    "    # args: X_train: pandas dataframe\n",
    "    # args: X_test: pandas dataframe\n",
    "    #return: X_train_scaled, X_test_scaled\n",
    "    scaler = StandardScaler()\n",
    "    X_train_scaled = scaler.fit_transform(X_train_data)\n",
    "    X_test_scaled = scaler.transform(X_test_data)\n",
    "    return X_train_scaled, X_test_scaled\n",
    "\n",
    "def train_model(X_train_data, y_train_data):\n",
    "    # Train the model\n",
    "    # args: X_train: pandas dataframe\n",
    "    # args: y_train: pandas dataframe\n",
    "    #return: model\n",
    "    model = LinearRegression()\n",
    "    model.fit(X_train_data, y_train_data)\n",
    "    return model\n",
    "\n",
    "def evaluate_model(model, X_test_data, y_test_data):\n",
    "    # Evaluate the model\n",
    "    # args: model: model\n",
    "    # args: X_test: pandas dataframe\n",
    "    # args: y_test: pandas dataframe\n",
    "    y_pred = model.predict(X_test_data)\n",
    "    mse = mean_squared_error(y_test_data, y_pred)\n",
    "    return mse\n",
    "\n",
    "def analyze_data(X_train_data, X_test_data, Y_train_data, Y_test_data):\n",
    "    # Analyze the data\n",
    "    # args: X_train: pandas dataframe\n",
    "    # args: X_test: pandas dataframe\n",
    "    # args: Y_train: pandas dataframe\n",
    "    # args: Y_test: pandas dataframe\n",
    "    #return: mse\n",
    "    model = LinearRegression()\n",
    "    model.fit(X_train_data, Y_train_data)\n",
    "    y_pred = model.predict(X_test_data)\n",
    "    mse = mean_squared_error(Y_test_data, y_pred)\n",
    "    print('Mean Squared Error:', mse)\n",
    "    return mse\n",
    "\n",
    "def visualize_correlation(input_data):\n",
    "    # args: data: pandas dataframe\n",
    "    # args: feature_columns: (list): liste der spalten die als feature genutzt werden sollen\n",
    "    # args: target_column: (string): name zielvariable\n",
    "    #return: None\n",
    "    # drop the 'Zeitstempel' column\n",
    "    input_data_copy = input_data.copy()\n",
    "    input_data_copy = input_data_copy.drop('Zeitstempel', axis=1)\n",
    "    input_data_copy = input_data_copy.drop(mobility_public_transport_attraction, axis=1)\n",
    "    input_data_copy = input_data_copy.drop(mobility_e_car_attraction, axis=1)\n",
    "    correlation_matrix = input_data_copy.corr()\n",
    "    plt.figure(figsize=(12, 12))\n",
    "    sns.heatmap(correlation_matrix, annot=True, cmap='coolwarm', fmt='.2f', linewidths=0.5)\n",
    "    plt.title('Correlation Matrix')\n",
    "    plt.show()"
   ],
   "id": "88ef87fdeb040de2",
   "outputs": [],
   "execution_count": null
  },
  {
   "metadata": {},
   "cell_type": "markdown",
   "source": "# Methoden für lineare Regressionsanalyse mit scikit-learn für ein Feature",
   "id": "3e2da4ca5241d4da"
  },
  {
   "metadata": {},
   "cell_type": "code",
   "source": [
    "# method for linear regression analysis using scikit-learn\n",
    "def linear_regression_analysis(input_data, feature_column, target): \n",
    "    # Split the data\n",
    "    sns.lmplot(x = feature_column, y = target, data = input_data, order = 2, ci = None)\n",
    "    plt.show()\n",
    "    input_data.ffill().bfill()\n",
    "    x = np.array(input_data[feature_column]).reshape(-1, 1)\n",
    "    y = np.array(input_data[target]).reshape(-1, 1)\n",
    " \n",
    "    # Separating the data into independent and dependent variables\n",
    "    # Converting each dataframe into a numpy array \n",
    "    # since each dataframe contains only one column\n",
    " \n",
    "    # Dropping any rows with Nan values\n",
    "    x_train, x_test, y_train, y_test = train_test_split(x, y, test_size = 0.2)\n",
    " \n",
    "    # Splitting the data into training and testing data\n",
    "    regr = LinearRegression()\n",
    " \n",
    "    regr.fit(x_train, y_train)\n",
    "    print(regr.score(x_test, y_test))\n",
    "    y_pred = regr.predict(x_test)\n",
    "    plt.scatter(x_test, y_test, color ='b')\n",
    "    plt.plot(x_test, y_pred, color ='k')\n",
    "    # label the plot\n",
    "    plt.xlabel(feature_column)\n",
    "    plt.ylabel(target)\n",
    " \n",
    "    plt.show()\n",
    "    # Data scatter of predicted values\n",
    "    plt.scatter(y_test, y_pred)\n",
    "    plt.xlabel('True Values')\n",
    "    plt.ylabel('Predictions')\n",
    "    plt.show()\n",
    "    return None"
   ],
   "id": "42134aa801637a1d",
   "outputs": [],
   "execution_count": null
  },
  {
   "metadata": {},
   "cell_type": "markdown",
   "source": "# Methode für lineare Regressionsanalyse mit scikit-learn für mehrere Features",
   "id": "912c38e452c5098b"
  },
  {
   "metadata": {},
   "cell_type": "code",
   "source": [
    "# method for linear regression analysis using scikit-learn for multiple features\n",
    "def linear_regression_analysis_multiple_features(input_data, feature_columns, target):\n",
    "    # Split the data\n",
    "    #sns.lmplot(x = feature_column, y = target, data = input_data, order = 2, ci = None)\n",
    "    #plt.show()\n",
    "    input_data.ffill().bfill()\n",
    "    x = np.array(input_data[feature_columns])\n",
    "    y = np.array(input_data[target])\n",
    " \n",
    "    # Separating the data into independent and dependent variables\n",
    "    # Converting each dataframe into a numpy array \n",
    "    # since each dataframe contains only one column\n",
    "    #input_data.dropna(inplace = True)\n",
    " \n",
    "    # Dropping any rows with Nan values\n",
    "    x_train, x_test, y_train, y_test = train_test_split(x, y, test_size = 0.2)\n",
    " \n",
    "    # Splitting the data into training and testing data\n",
    "    regr = LinearRegression()\n",
    " \n",
    "    regr.fit(x_train, y_train)\n",
    "    print(regr.score(x_test, y_test))\n",
    "    y_pred = regr.predict(x_test)\n",
    "    plt.scatter(x_test, y_test, color ='b')\n",
    "    plt.plot(x_test, y_pred, color ='k')\n",
    "    # adjust the plot to show multiple features or a combination of features\n",
    "    #plt.plot(x_test, y_pred, color ='k')\n",
    " \n",
    "    #plt.show()\n",
    "    # Data scatter of predicted values\n",
    "    plt.scatter(y_test, y_pred)\n",
    "    plt.xlabel('True Values')\n",
    "    plt.ylabel('Predictions')\n",
    "    plt.show()\n",
    "    return None"
   ],
   "id": "28c9d2e32b953525",
   "outputs": [],
   "execution_count": null
  },
  {
   "cell_type": "markdown",
   "source": [
    "## Data Exploration"
   ],
   "metadata": {
    "collapsed": false
   },
   "id": "2c84ff89802e2c12"
  },
  {
   "metadata": {},
   "cell_type": "markdown",
   "source": "Anzeigen einer Zusammenfassung der Daten und der ersten 20 Zeilen",
   "id": "712cc7116a03b8c0"
  },
  {
   "cell_type": "code",
   "source": [
    "# Displaying the first 20 rows of the data\n",
    "df_whatsapp_data.head(20)"
   ],
   "metadata": {
    "collapsed": false
   },
   "id": "4d0527516f68775b",
   "outputs": [],
   "execution_count": null
  },
  {
   "cell_type": "markdown",
   "source": [
    "## Data Cleaning"
   ],
   "metadata": {
    "collapsed": false
   },
   "id": "ce2dda3e1da1bc1b"
  },
  {
   "metadata": {},
   "cell_type": "markdown",
   "source": "Entfernen von Duplikaten und fehlenden Werten",
   "id": "5800e3a56873e57c"
  },
  {
   "metadata": {},
   "cell_type": "code",
   "source": [
    "# Filling missing values with the mean\n",
    "fill_data(df_whatsapp_data)"
   ],
   "id": "f396848545739474",
   "outputs": [],
   "execution_count": null
  },
  {
   "cell_type": "markdown",
   "source": [
    "## Data Preprocessing"
   ],
   "metadata": {
    "collapsed": false
   },
   "id": "5efe25caa1e113b4"
  },
  {
   "metadata": {},
   "cell_type": "markdown",
   "source": "Vorbereitung der Daten für die Analyse mit Methoden um die Daten numerisch zu repräsentieren und fehlende Werte zu füllen",
   "id": "4bd16ce4ec92bdfc"
  },
  {
   "cell_type": "code",
   "source": [
    "data_copy = normalise_age(df_whatsapp_data)\n",
    "data_copy = normalise_monthly_income(df_whatsapp_data)\n",
    "data_copy = normalise_car_ownership(df_whatsapp_data)\n",
    "data_copy = normalise_employment(df_whatsapp_data)\n",
    "data_copy = normalise_living_situation(df_whatsapp_data)\n",
    "data_copy = normalise_living_situation_house_apartment(df_whatsapp_data)\n",
    "data_copy = normalise_living_situation_city(df_whatsapp_data)\n",
    "data_copy = normalise_percent(df_whatsapp_data)\n",
    "# Filling missing values\n",
    "data_copy = fill_missing_values(data_copy, [interest_e_car])"
   ],
   "metadata": {
    "collapsed": false
   },
   "id": "554ba6c0fb7e1579",
   "outputs": [],
   "execution_count": null
  },
  {
   "cell_type": "markdown",
   "source": [
    "## Data Analysis"
   ],
   "metadata": {
    "collapsed": false
   },
   "id": "f2b503f7c6c9146e"
  },
  {
   "cell_type": "code",
   "source": [
    "# Checking the distribution of the data\n",
    "df_whatsapp_data.describe()"
   ],
   "metadata": {
    "collapsed": false
   },
   "id": "cae9141814607778",
   "outputs": [],
   "execution_count": null
  },
  {
   "cell_type": "markdown",
   "source": [
    "## Data Visualization"
   ],
   "metadata": {
    "collapsed": false
   },
   "id": "af5a35cc094fcb0b"
  },
  {
   "metadata": {},
   "cell_type": "markdown",
   "source": "Visualisierung der Korrelationen zwischen den Variablen in Form einer Heatmap ",
   "id": "2c73b46265c336d2"
  },
  {
   "metadata": {},
   "cell_type": "code",
   "source": [
    "# Visualizing the correlation between the features and the target\n",
    "visualize_correlation(data_copy)"
   ],
   "id": "3e7775b42f6c5dfa",
   "outputs": [],
   "execution_count": null
  },
  {
   "metadata": {},
   "cell_type": "markdown",
   "source": [
    "# Linear Regression Analysis\n",
    "Durchführung einer linearen Regressionsanalyse für uni- und multivariate Features"
   ],
   "id": "b380af1fad4ab94c"
  },
  {
   "metadata": {},
   "cell_type": "markdown",
   "source": "Durchführung einer linearen Regressionsanalyse für das Alter und das Interesse an einem E-Auto mit Darstellung der Verteilung der Daten, der Regressionsgeraden und der Vorhersagegenauigkeit und Scatterplot der Vorhersagen",
   "id": "9c5ff422ac9232ce"
  },
  {
   "metadata": {},
   "cell_type": "code",
   "source": [
    "# linear regression analysis age vs interest in e-car\n",
    "linear_regression_analysis(data_copy, age, interest_e_car)"
   ],
   "id": "70e8c40cfe4a1253",
   "outputs": [],
   "execution_count": null
  },
  {
   "metadata": {},
   "cell_type": "markdown",
   "source": "Durchführung einer linearen Regressionsanalyse für das monatliche Einkommen und das Interesse an einem E-Auto mit Darstellung der Verteilung der Daten, der Regressionsgeraden und der Vorhersagegenauigkeit und Scatterplot der Vorhersagen",
   "id": "9a7645d76d448a6b"
  },
  {
   "metadata": {},
   "cell_type": "code",
   "source": [
    "# linear regression analysis monthly income vs interest in e-car\n",
    "linear_regression_analysis(data_copy, monthly_income, interest_e_car)"
   ],
   "id": "b997fe554c51c726",
   "outputs": [],
   "execution_count": null
  },
  {
   "metadata": {},
   "cell_type": "markdown",
   "source": "Durchführung einer linearen Regressionsanalyse für das Auto-Besitz und das Interesse an einem E-Auto mit Darstellung der Verteilung der Daten, der Regressionsgeraden und der Vorhersagegenauigkeit und Scatterplot der Vorhersagen",
   "id": "f7ed951d3921463e"
  },
  {
   "metadata": {},
   "cell_type": "code",
   "source": [
    "# linear regression analysis car ownership vs interest in e-car\n",
    "linear_regression_analysis(data_copy, car_ownership, interest_e_car)"
   ],
   "id": "83b7f9ec9382a170",
   "outputs": [],
   "execution_count": null
  },
  {
   "metadata": {},
   "cell_type": "markdown",
   "source": "Durchführung einer linearen Regressionsanalyse für die Beschäftigung und das Interesse an einem E-Auto mit Darstellung der Verteilung der Daten, der Regressionsgeraden und der Vorhersagegenauigkeit und Scatterplot der Vorhersagen",
   "id": "3c75eda061745a38"
  },
  {
   "metadata": {},
   "cell_type": "code",
   "source": "linear_regression_analysis(data_copy, employment, interest_e_car)",
   "id": "a7296a57b919057e",
   "outputs": [],
   "execution_count": null
  },
  {
   "metadata": {},
   "cell_type": "markdown",
   "source": "Durchführung einer linearen Regressionsanalyse für die Wohnsituation (Eigentum oder Miete) und das Interesse an einem E-Auto mit Darstellung der Verteilung der Daten, der Regressionsgeraden und der Vorhersagegenauigkeit und Scatterplot der Vorhersagen",
   "id": "45ef9596e718050f"
  },
  {
   "metadata": {},
   "cell_type": "code",
   "source": "linear_regression_analysis(data_copy, living_situation, interest_e_car)",
   "id": "394634c2d474c3e1",
   "outputs": [],
   "execution_count": null
  },
  {
   "metadata": {},
   "cell_type": "markdown",
   "source": "Durchführung einer linearen Regressionsanalyse für die Wohnsituation (Haus, Wohnung, etc.) und das Interesse an einem E-Auto mit Darstellung der Verteilung der Daten, der Regressionsgeraden und der Vorhersagegenauigkeit und Scatterplot der Vorhersagen",
   "id": "9ade6a849d287ef7"
  },
  {
   "metadata": {},
   "cell_type": "code",
   "source": "linear_regression_analysis(data_copy, living_situation_house_apartment, interest_e_car)",
   "id": "1588a644e7742241",
   "outputs": [],
   "execution_count": null
  },
  {
   "metadata": {},
   "cell_type": "markdown",
   "source": "Durchführung einer linearen Regressionsanalyse für die Wohnsituation (Großstadt, Stadt, Land) und das Interesse an einem E-Auto mit Darstellung der Verteilung der Daten, der Regressionsgeraden und der Vorhersagegenauigkeit und Scatterplot der Vorhersagen",
   "id": "401eb8eeab7ca51b"
  },
  {
   "metadata": {},
   "cell_type": "code",
   "source": "linear_regression_analysis(data_copy, living_situation_city, interest_e_car)",
   "id": "5e3d7f81202c41f3",
   "outputs": [],
   "execution_count": null
  },
  {
   "metadata": {},
   "cell_type": "markdown",
   "source": "Durchführung einer linearen Regressionsanalyse für den Anteil von Autos an der Mobilität und das Interesse an einem E-Auto mit Darstellung der Verteilung der Daten, der Regressionsgeraden und der Vorhersagegenauigkeit und Scatterplot der Vorhersagen",
   "id": "39153252ab34b8b0"
  },
  {
   "metadata": {},
   "cell_type": "code",
   "source": [
    "# mobility_car vs interest_e_car\n",
    "linear_regression_analysis(data_copy, mobility_car, interest_e_car)"
   ],
   "id": "d0b6725bc771b8f4",
   "outputs": [],
   "execution_count": null
  },
  {
   "metadata": {},
   "cell_type": "markdown",
   "source": "Durchführung einer linearen Regressionsanalyse für den Anteil öffentlicher Verkehrsmittel an der Mobilität und das Interesse an einem E-Auto mit Darstellung der Verteilung der Daten, der Regressionsgeraden und der Vorhersagegenauigkeit und Scatterplot der Vorhersagen",
   "id": "47f79a7e6a3debe0"
  },
  {
   "metadata": {},
   "cell_type": "code",
   "source": [
    "# mobility_public_transport vs interest_e_car\n",
    "linear_regression_analysis(data_copy, mobility_public_transport, interest_e_car)"
   ],
   "id": "29776fbfcf241092",
   "outputs": [],
   "execution_count": null
  },
  {
   "metadata": {},
   "cell_type": "markdown",
   "source": "# Durchführung von linearen Regressionsanalysen für mehrere Features",
   "id": "8e43e444bc145484"
  },
  {
   "metadata": {},
   "cell_type": "markdown",
   "source": "Durchführung einer linearen Regressionsanalyse für das Alter und das Interesse an einem E-Auto mit Darstellung der Verteilung der Daten, der Regressionsgeraden und der Vorhersagegenauigkeit und Scatterplot der Vorhersagen",
   "id": "6473df83538f8284"
  },
  {
   "metadata": {},
   "cell_type": "code",
   "source": [
    "# age, employment vs interest_e_car\n",
    "linear_regression_analysis_multiple_features(data_copy, [age, employment], interest_e_car)"
   ],
   "id": "c6766171a83ca66b",
   "outputs": [],
   "execution_count": null
  },
  {
   "metadata": {},
   "cell_type": "markdown",
   "source": "Durchführung einer linearen Regressionsanalyse für das Alter und das monatliche Einkommen und das Interesse an einem E-Auto mit Darstellung der Verteilung der Daten, der Regressionsgeraden und der Vorhersagegenauigkeit und Scatterplot der Vorhersagen",
   "id": "f24f89c5b25bbee8"
  },
  {
   "metadata": {},
   "cell_type": "code",
   "source": [
    "# age, income vs interest_e_car\n",
    "linear_regression_analysis_multiple_features(data_copy, [age, monthly_income], interest_e_car)"
   ],
   "id": "265369b0bc8f9937",
   "outputs": [],
   "execution_count": null
  },
  {
   "metadata": {},
   "cell_type": "markdown",
   "source": "Durchführung einer linearen Regressionsanalyse für das Alter und den Auto-Besitz und das Interesse an einem E-Auto mit Darstellung der Verteilung der Daten, der Regressionsgeraden und der Vorhersagegenauigkeit und Scatterplot der Vorhersagen",
   "id": "a29fbc9a969c61e8"
  },
  {
   "metadata": {},
   "cell_type": "code",
   "source": [
    "# age, car ownership vs interest_e_car\n",
    "linear_regression_analysis_multiple_features(data_copy, [age, car_ownership], interest_e_car)"
   ],
   "id": "7da6888c4f9c4956",
   "outputs": [],
   "execution_count": null
  },
  {
   "metadata": {},
   "cell_type": "markdown",
   "source": "Durchführung einer linearen Regressionsanalyse für das Alter und die Wohnsituation (Eigentum, Miete) an der Mobilität und das Interesse an einem E-Auto mit Darstellung der Verteilung der Daten, der Regressionsgeraden und der Vorhersagegenauigkeit und Scatterplot der Vorhersagen",
   "id": "7e5ee1b4ea8bf565"
  },
  {
   "metadata": {},
   "cell_type": "code",
   "source": [
    "# age, living situation vs interest_e_car\n",
    "linear_regression_analysis_multiple_features(data_copy, [age, living_situation], interest_e_car)"
   ],
   "id": "45fec6e886bb51fd",
   "outputs": [],
   "execution_count": null
  },
  {
   "metadata": {},
   "cell_type": "markdown",
   "source": "Durchführung einer linearen Regressionsanalyse für das Alter und die Wohnsituation (Haus, Wohnung, etc.) an der Mobilität und das Interesse an einem E-Auto mit Darstellung der Verteilung der Daten, der Regressionsgeraden und der Vorhersagegenauigkeit und Scatterplot der Vorhersagen",
   "id": "c8c6a397b5efd4a4"
  },
  {
   "metadata": {},
   "cell_type": "code",
   "source": [
    "# age, living situation house apartment vs interest_e_car\n",
    "linear_regression_analysis_multiple_features(data_copy, [age, living_situation_house_apartment], interest_e_car)"
   ],
   "id": "cd8142024b1cad52",
   "outputs": [],
   "execution_count": null
  },
  {
   "metadata": {},
   "cell_type": "markdown",
   "source": "Durchführung einer linearen Regressionsanalyse für das Alter und die Wohnsituation (Großstadt, Stadt, Land) an der Mobilität und das Interesse an einem E-Auto mit Darstellung der Verteilung der Daten, der Regressionsgeraden und der Vorhersagegenauigkeit und Scatterplot der Vorhersagen",
   "id": "b697a5eed5d61409"
  },
  {
   "metadata": {},
   "cell_type": "code",
   "source": [
    "# age, living situation city vs interest_e_car\n",
    "linear_regression_analysis_multiple_features(data_copy, [age, living_situation_city], interest_e_car)"
   ],
   "id": "5a11eb4c8c197e79",
   "outputs": [],
   "execution_count": null
  },
  {
   "metadata": {},
   "cell_type": "code",
   "source": "",
   "id": "397d89aab04c191c",
   "outputs": [],
   "execution_count": null
  }
 ],
 "metadata": {
  "kernelspec": {
   "display_name": "Python 3",
   "language": "python",
   "name": "python3"
  },
  "language_info": {
   "codemirror_mode": {
    "name": "ipython",
    "version": 2
   },
   "file_extension": ".py",
   "mimetype": "text/x-python",
   "name": "python",
   "nbconvert_exporter": "python",
   "pygments_lexer": "ipython2",
   "version": "2.7.6"
  }
 },
 "nbformat": 4,
 "nbformat_minor": 5
}
