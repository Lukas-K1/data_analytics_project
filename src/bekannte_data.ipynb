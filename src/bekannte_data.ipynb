{
 "cells": [
  {
   "cell_type": "markdown",
   "source": [
    "# File to process data from survey among acquaintances\n",
    "## from importing data to processing and visualizing"
   ],
   "metadata": {
    "collapsed": false
   },
   "id": "4132eb3b221e99fc"
  },
  {
   "cell_type": "code",
   "outputs": [],
   "source": [
    "# Importing libraries\n",
    "import pandas as pd\n",
    "import numpy as np\n",
    "import matplotlib.pyplot as plt\n",
    "import seaborn as sns\n",
    "from sklearn.model_selection import train_test_split\n",
    "from sklearn.preprocessing import StandardScaler\n",
    "from sklearn.linear_model import LinearRegression\n",
    "from sklearn.metrics import mean_squared_error"
   ],
   "metadata": {
    "collapsed": false,
    "ExecuteTime": {
     "end_time": "2024-05-08T07:47:37.828105Z",
     "start_time": "2024-05-08T07:47:37.823537Z"
    }
   },
   "id": "47511d3d29cd1498",
   "execution_count": 1
  },
  {
   "cell_type": "markdown",
   "source": [
    "## Importing data"
   ],
   "metadata": {
    "collapsed": false
   },
   "id": "c0c4bb233690b9b2"
  },
  {
   "cell_type": "code",
   "outputs": [],
   "source": [
    "# Importing data\n",
    "df_whatsapp_data = pd.read_csv('data/umfrage-nachhaltige-mobilitaet_bekannte.csv')"
   ],
   "metadata": {
    "collapsed": false,
    "ExecuteTime": {
     "end_time": "2024-05-08T07:47:41.063277Z",
     "start_time": "2024-05-08T07:47:41.048716Z"
    }
   },
   "id": "2a981d7a6aa74e25",
   "execution_count": 2
  },
  {
   "metadata": {},
   "cell_type": "markdown",
   "source": "## Methods for data processing",
   "id": "a49461fb29f7be4"
  },
  {
   "metadata": {},
   "cell_type": "code",
   "outputs": [],
   "execution_count": null,
   "source": [
    "def explore_data(data):\n",
    "    #Display a summary of the data\n",
    "    # args: data: pandas dataframe\n",
    "    # Summarize the data\n",
    "    print(data.info())\n",
    "    # Display the first 5 rows of the data\n",
    "    print(data.head())\n",
    "    \n",
    "def drop_data(data):\n",
    "    # Drop non-uniques and missing values\n",
    "    # args: data: pandas dataframe\n",
    "    # Drop duplicates\n",
    "    duplicate_free_data = data.drop_duplicates()\n",
    "    #data.drop_duplicates(inplace=True)\n",
    "    # Drop missing values\n",
    "    na_free_data = duplicate_free_data.dropna(inplace=True)\n",
    "    # Replace missing values with the mean\n",
    "    #data.fillna(data.mean(), inplace=True)\n",
    "    return na_free_data\n",
    "\n",
    "def fill_data(data):\n",
    "    # Fill missing values with the mean\n",
    "    # args: data: pandas dataframe\n",
    "    #data.fillna(data.mean(), inplace=True)\n",
    "    data.fillna(method='ffill').fillna(method='bfill')\n",
    "    return data\n",
    "\n",
    "def split_data(data):\n",
    "    # split data for use case\n",
    "    # args: data: pandas dataframe\n",
    "    # Split the data into features and target\n",
    "    data_without_na = data.dropna()\n",
    "    selected_columns_finace = ['financial_situation', 'financial_situation_future', 'financial_situation_past']#TODO select proper columns for correlation with financial situation\n",
    "    selected_columns_mobility = ['mobility', 'mobility_future', 'mobility_past']#TODO select proper columns for correlation with mobility\n",
    "    selected_columns_other = ['age',''] #TODO select proper columns for correlation with 'other' data\n",
    "    data_financial_correlation = data[selected_columns_finace]\n",
    "    data_mobility_correlation = data[selected_columns_mobility]\n",
    "    data_other_correlation = data[selected_columns_other]\n",
    "    return data, data_without_na, data_financial_correlation, data_mobility_correlation, data_other_correlation\n",
    "\n",
    "def prepare_data(data, feature_columns, target_column):\n",
    "    # Prepare the data for analysis\n",
    "    # args: data: pandas dataframe\n",
    "    # args: feature_column: (list): liste der spalten die als feature genutzt werden sollen\n",
    "    # args: target_column: (string): name zielvariable\n",
    "    #return: tuple: X_train, X_test, y_train, y_test\n",
    "    X = data[feature_columns]\n",
    "    Y = data[target_column]\n",
    "    # Split the data into training and testing data\n",
    "    X_train, X_test, y_train, y_test = train_test_split(X, Y, test_size=0.2, random_state=42)\n",
    "    return X_train, X_test, y_train, y_test\n",
    "\n",
    "def scale_data(X_train, X_test):\n",
    "    # Scale the data\n",
    "    # args: X_train: pandas dataframe\n",
    "    # args: X_test: pandas dataframe\n",
    "    #return: X_train_scaled, X_test_scaled\n",
    "    scaler = StandardScaler()\n",
    "    X_train_scaled = scaler.fit_transform(X_train)\n",
    "    X_test_scaled = scaler.transform(X_test)\n",
    "    return X_train_scaled, X_test_scaled\n",
    "\n",
    "def train_model(X_train, y_train):\n",
    "    # Train the model\n",
    "    # args: X_train: pandas dataframe\n",
    "    # args: y_train: pandas dataframe\n",
    "    #return: model\n",
    "    model = LinearRegression()\n",
    "    model.fit(X_train, y_train)\n",
    "    return model\n",
    "\n",
    "def evaluate_model(model, X_test, y_test):\n",
    "    # Evaluate the model\n",
    "    # args: model: model\n",
    "    # args: X_test: pandas dataframe\n",
    "    # args: y_test: pandas dataframe\n",
    "    #return: mse\n",
    "    y_pred = model.predict(X_test)\n",
    "    mse = mean_squared_error(y_test, y_pred)\n",
    "    return mse\n",
    "\n",
    "def analyze_data(X_train, X_test, Y_train, Y_test):\n",
    "    # Analyze the data\n",
    "    # args: X_train: pandas dataframe\n",
    "    # args: X_test: pandas dataframe\n",
    "    # args: Y_train: pandas dataframe\n",
    "    # args: Y_test: pandas dataframe\n",
    "    #return: mse\n",
    "    # X_train_scaled, X_test_scaled = scale_data(X_train, X_test)\n",
    "    # model = train_model(X_train_scaled, Y_train)\n",
    "    # mse = evaluate_model(model, X_test_scaled, Y_test)\n",
    "    # return mse\n",
    "    model = LinearRegression()\n",
    "    model.fit(X_train, Y_train)\n",
    "    y_pred = model.predict(X_test)\n",
    "    mse = mean_squared_error(Y_test, y_pred)\n",
    "    print('Mean Squared Error:', mse)\n",
    "    return mse\n",
    "\n",
    "def visualize_data(data):\n",
    "    # TODO Visualize the data with matplotlib and seaborn\n",
    "    # args: data: pandas dataframe\n",
    "    #return: None\n",
    "    # TODO Implement the visualization\n",
    "    print('Visualizing the data')\n",
    "    "
   ],
   "id": "88ef87fdeb040de2"
  },
  {
   "cell_type": "markdown",
   "source": [
    "## Data Exploration"
   ],
   "metadata": {
    "collapsed": false
   },
   "id": "2c84ff89802e2c12"
  },
  {
   "cell_type": "code",
   "outputs": [
    {
     "data": {
      "text/plain": "                   Zeitstempel Wie alt sind Sie?   \\\n0   2024/04/29 4:32:21 PM OESZ              46-55   \n1   2024/04/29 4:38:37 PM OESZ              36-45   \n2   2024/04/29 4:39:08 PM OESZ              26-35   \n3   2024/04/29 4:39:18 PM OESZ              26-35   \n4   2024/04/29 4:39:39 PM OESZ              36-45   \n5   2024/04/29 4:41:40 PM OESZ              26-35   \n6   2024/04/29 4:44:42 PM OESZ              26-35   \n7   2024/04/29 4:45:26 PM OESZ              56-65   \n8   2024/04/29 4:45:28 PM OESZ              36-45   \n9   2024/04/29 4:49:05 PM OESZ              36-45   \n10  2024/04/29 4:52:38 PM OESZ              26-35   \n11  2024/04/29 5:06:52 PM OESZ              26-35   \n12  2024/04/29 5:12:01 PM OESZ              20-25   \n13  2024/04/29 5:31:01 PM OESZ              46-55   \n14  2024/04/29 5:33:21 PM OESZ              20-25   \n15  2024/04/29 6:14:12 PM OESZ              56-65   \n16  2024/04/29 6:39:30 PM OESZ              26-35   \n17  2024/04/29 6:57:05 PM OESZ              46-55   \n18  2024/04/29 9:29:10 PM OESZ               0-15   \n19  2024/04/30 2:29:35 AM OESZ              26-35   \n\n   Wie ist Ihre Wohnsituation? (Wohneigentum?)   \\\n0                                      gemietet   \n1                                  Wohneigentum   \n2                                      gemietet   \n3                                  Wohneigentum   \n4                                      gemietet   \n5                                      gemietet   \n6                                      gemietet   \n7                                      gemietet   \n8                                      gemietet   \n9                                      gemietet   \n10                                     gemietet   \n11                                 Wohneigentum   \n12                                     gemietet   \n13                                     gemietet   \n14                                     gemietet   \n15                                 Wohneigentum   \n16                                     gemietet   \n17                                 Wohneigentum   \n18                                     gemietet   \n19                                     gemietet   \n\n   Wie ist Ihre Wohnsituation? (Haus oder Wohnung?)   \\\n0                                            Wohnung   \n1                                               Haus   \n2                                         Reihenhaus   \n3                                               Haus   \n4                                               Haus   \n5                                            Wohnung   \n6                                            Wohnung   \n7                                            Wohnung   \n8                                            Wohnung   \n9                                            Wohnung   \n10                                           Wohnung   \n11                                              Haus   \n12                                           Wohnung   \n13                                           Wohnung   \n14                                  Doppelhaushälfte   \n15                                              Haus   \n16                                           Wohnung   \n17                                  Doppelhaushälfte   \n18                                           Wohnung   \n19                                           Wohnung   \n\n   Wie ist Ihre Wohnsituation? (Großstadt, Stadt, Land?)   \\\n0                                               Stadt       \n1                                                Land       \n2                                                Land       \n3                                                Land       \n4                                                Land       \n5                  Großstadt (min. 100.000 Einwohner)       \n6                                                Land       \n7                                               Stadt       \n8                  Großstadt (min. 100.000 Einwohner)       \n9                                               Stadt       \n10                                               Land       \n11                                               Land       \n12                                              Stadt       \n13                                              Stadt       \n14                                               Land       \n15                                               Land       \n16                 Großstadt (min. 100.000 Einwohner)       \n17                                              Stadt       \n18                                              Stadt       \n19                 Großstadt (min. 100.000 Einwohner)       \n\n   Wie ist Ihre Beschäftigung?   \\\n0                  Angestellter   \n1                  Angestellter   \n2                  Angestellter   \n3                  Angestellter   \n4                  Angestellter   \n5                  Angestellter   \n6                  Angestellter   \n7                  Angestellter   \n8                  Angestellter   \n9                  Angestellter   \n10                        Azubi   \n11                 Angestellter   \n12                 Angestellter   \n13                 Angestellter   \n14                 Angestellter   \n15                 Angestellter   \n16                 Angestellter   \n17              Selbstständiger   \n18                      Schüler   \n19                 Angestellter   \n\n   Bitte schätzen Sie das monatliche Netto Gesamteinkommen in Ihrem Haushalt in Euro. (Wenn Sie dazu keine Angaben machen möchten, überspringen Sie diese Frage bitte.)  \\\n0                                                 NaN                                                                                                                     \n1                                                 NaN                                                                                                                     \n2                                                 NaN                                                                                                                     \n3                                                7000                                                                                                                     \n4                                                4600                                                                                                                     \n5                                                 NaN                                                                                                                     \n6                                               4200€                                                                                                                     \n7                                                 NaN                                                                                                                     \n8                                                2700                                                                                                                     \n9                                                 NaN                                                                                                                     \n10                                               4500                                                                                                                     \n11                                               6500                                                                                                                     \n12                                              2300€                                                                                                                     \n13                                               3200                                                                                                                     \n14                                               2800                                                                                                                     \n15                                               5800                                                                                                                     \n16                                               5500                                                                                                                     \n17                                                NaN                                                                                                                     \n18                                             3.300€                                                                                                                     \n19                                                NaN                                                                                                                     \n\n   Besitzen Sie ein Auto? (auch Leasing)   \\\n0                                    Auto   \n1                                    Auto   \n2                                  E-Auto   \n3                                  E-Auto   \n4                                    Auto   \n5                                    Auto   \n6                                    Auto   \n7                                    Auto   \n8                                    Auto   \n9                                    Auto   \n10                                   Auto   \n11                                   Auto   \n12                                   Auto   \n13                                   Auto   \n14                                   Auto   \n15                                 E-Auto   \n16                                 E-Auto   \n17                                   Auto   \n18                              kein Auto   \n19                                   Auto   \n\n    Wie interessiert sind Sie an einem E-Auto als Ihr nächstes(/erstes) KFZ? (Wenn Sie generell kein Interesse am Besitz eines Autos haben, überspringen Sie diese Frage bitte)   \\\n0                                                  10                                                                                                                              \n1                                                   6                                                                                                                              \n2                                                   6                                                                                                                              \n3                                                   7                                                                                                                              \n4                                                   7                                                                                                                              \n5                                                   8                                                                                                                              \n6                                                   9                                                                                                                              \n7                                                   1                                                                                                                              \n8                                                   7                                                                                                                              \n9                                                   6                                                                                                                              \n10                                                  5                                                                                                                              \n11                                                  3                                                                                                                              \n12                                                  3                                                                                                                              \n13                                                  6                                                                                                                              \n14                                                  9                                                                                                                              \n15                                                 10                                                                                                                              \n16                                                 10                                                                                                                              \n17                                                  7                                                                                                                              \n18                                                  6                                                                                                                              \n19                                                  4                                                                                                                              \n\n   Welchen Anteil an Ihrer Gesamtmobilität macht Ihr Auto aus? (falls Sie kein Auto besitzen, wählen Sie bitte 0% aus)   \\\n0                                                 50%                                                                     \n1                                                 90%                                                                     \n2                                                 80%                                                                     \n3                                                 80%                                                                     \n4                                                 90%                                                                     \n5                                                 80%                                                                     \n6                                                 80%                                                                     \n7                                                100%                                                                     \n8                                                 40%                                                                     \n9                                                 80%                                                                     \n10                                                80%                                                                     \n11                                                70%                                                                     \n12                                                90%                                                                     \n13                                                90%                                                                     \n14                                                70%                                                                     \n15                                                80%                                                                     \n16                                                70%                                                                     \n17                                                60%                                                                     \n18                                                 0%                                                                     \n19                                                90%                                                                     \n\n   Welchen Anteil an Ihrer Gesamtmobilität macht der ÖPNV aus?   \\\n0                                                  0%             \n1                                                  0%             \n2                                                  0%             \n3                                                 20%             \n4                                                  0%             \n5                                                 10%             \n6                                                 20%             \n7                                                  0%             \n8                                                 10%             \n9                                                 10%             \n10                                                20%             \n11                                                10%             \n12                                                 0%             \n13                                                10%             \n14                                                20%             \n15                                                10%             \n16                                                30%             \n17                                                10%             \n18                                                80%             \n19                                                 0%             \n\n      Was würde den ÖPNV für Sie attraktiver machen?   \\\n0                                       Besseres Netz   \n1   günstigere Preise;kürzere Wartezeit zwischen z...   \n2                                   günstigere Preise   \n3   günstigere Preise;kürzere Wartezeit zwischen z...   \n4   kürzere Wartezeit zwischen zwei Zügen/Bussen;b...   \n5                                   günstigere Preise   \n6   günstigere Preise;kürzere Wartezeit zwischen z...   \n7                       Keine Möglichkeit der Nutzung   \n8   günstigere Preise;Bessere Anbindung außerhalb ...   \n9   günstigere Preise;geringere Distanz zwischen H...   \n10          günstigere Preise;bessere Zuverlässigkeit   \n11  günstigere Preise;kürzere Wartezeit zwischen z...   \n12                                  günstigere Preise   \n13  kürzere Wartezeit zwischen zwei Zügen/Bussen;b...   \n14  günstigere Preise;geringere Distanz zwischen H...   \n15  kürzere Wartezeit zwischen zwei Zügen/Bussen;b...   \n16  günstigere Preise;kürzere Wartezeit zwischen z...   \n17          günstigere Preise;bessere Zuverlässigkeit   \n18  kürzere Wartezeit zwischen zwei Zügen/Bussen;g...   \n19  günstigere Preise;kürzere Wartezeit zwischen z...   \n\n       Was würde E-Autos für Sie attraktiver machen?   \n0   günstigere Preise;mehr/besser verteilte Lademö...  \n1   günstigere Preise;mehr/besser verteilte Lademö...  \n2   mehr Reichweite;mehr Sicherheit (Brandgefahr, ...  \n3   günstigere Preise;gute Budget-E-Autos;mehr/bes...  \n4   mehr Reichweite;mehr Sicherheit (Brandgefahr, ...  \n5   günstigere Preise;mehr/besser verteilte Lademö...  \n6   mehr/besser verteilte Lademöglichkeiten;mehr R...  \n7                                     mehr Reichweite  \n8   günstigere Preise;gute Budget-E-Autos;mehr/bes...  \n9   mehr/besser verteilte Lademöglichkeiten;mehr R...  \n10  günstigere Preise;mehr/besser verteilte Lademö...  \n11  günstigere Preise;mehr Reichweite;längere/bess...  \n12  günstigere Preise;mehr/besser verteilte Lademö...  \n13  gute Budget-E-Autos;mehr/besser verteilte Lade...  \n14  günstigere Preise;mehr Reichweite;keine undurc...  \n15  günstigere Preise;Einheitlichkeit der Lademögl...  \n16  günstigere Preise;gute Budget-E-Autos;mehr/bes...  \n17                  günstigere Preise;mehr Reichweite  \n18  günstigere Preise;mehr/besser verteilte Lademö...  \n19  günstigere Preise;mehr/besser verteilte Lademö...  ",
      "text/html": "<div>\n<style scoped>\n    .dataframe tbody tr th:only-of-type {\n        vertical-align: middle;\n    }\n\n    .dataframe tbody tr th {\n        vertical-align: top;\n    }\n\n    .dataframe thead th {\n        text-align: right;\n    }\n</style>\n<table border=\"1\" class=\"dataframe\">\n  <thead>\n    <tr style=\"text-align: right;\">\n      <th></th>\n      <th>Zeitstempel</th>\n      <th>Wie alt sind Sie?</th>\n      <th>Wie ist Ihre Wohnsituation? (Wohneigentum?)</th>\n      <th>Wie ist Ihre Wohnsituation? (Haus oder Wohnung?)</th>\n      <th>Wie ist Ihre Wohnsituation? (Großstadt, Stadt, Land?)</th>\n      <th>Wie ist Ihre Beschäftigung?</th>\n      <th>Bitte schätzen Sie das monatliche Netto Gesamteinkommen in Ihrem Haushalt in Euro. (Wenn Sie dazu keine Angaben machen möchten, überspringen Sie diese Frage bitte.)</th>\n      <th>Besitzen Sie ein Auto? (auch Leasing)</th>\n      <th>Wie interessiert sind Sie an einem E-Auto als Ihr nächstes(/erstes) KFZ? (Wenn Sie generell kein Interesse am Besitz eines Autos haben, überspringen Sie diese Frage bitte)</th>\n      <th>Welchen Anteil an Ihrer Gesamtmobilität macht Ihr Auto aus? (falls Sie kein Auto besitzen, wählen Sie bitte 0% aus)</th>\n      <th>Welchen Anteil an Ihrer Gesamtmobilität macht der ÖPNV aus?</th>\n      <th>Was würde den ÖPNV für Sie attraktiver machen?</th>\n      <th>Was würde E-Autos für Sie attraktiver machen?</th>\n    </tr>\n  </thead>\n  <tbody>\n    <tr>\n      <th>0</th>\n      <td>2024/04/29 4:32:21 PM OESZ</td>\n      <td>46-55</td>\n      <td>gemietet</td>\n      <td>Wohnung</td>\n      <td>Stadt</td>\n      <td>Angestellter</td>\n      <td>NaN</td>\n      <td>Auto</td>\n      <td>10</td>\n      <td>50%</td>\n      <td>0%</td>\n      <td>Besseres Netz</td>\n      <td>günstigere Preise;mehr/besser verteilte Lademö...</td>\n    </tr>\n    <tr>\n      <th>1</th>\n      <td>2024/04/29 4:38:37 PM OESZ</td>\n      <td>36-45</td>\n      <td>Wohneigentum</td>\n      <td>Haus</td>\n      <td>Land</td>\n      <td>Angestellter</td>\n      <td>NaN</td>\n      <td>Auto</td>\n      <td>6</td>\n      <td>90%</td>\n      <td>0%</td>\n      <td>günstigere Preise;kürzere Wartezeit zwischen z...</td>\n      <td>günstigere Preise;mehr/besser verteilte Lademö...</td>\n    </tr>\n    <tr>\n      <th>2</th>\n      <td>2024/04/29 4:39:08 PM OESZ</td>\n      <td>26-35</td>\n      <td>gemietet</td>\n      <td>Reihenhaus</td>\n      <td>Land</td>\n      <td>Angestellter</td>\n      <td>NaN</td>\n      <td>E-Auto</td>\n      <td>6</td>\n      <td>80%</td>\n      <td>0%</td>\n      <td>günstigere Preise</td>\n      <td>mehr Reichweite;mehr Sicherheit (Brandgefahr, ...</td>\n    </tr>\n    <tr>\n      <th>3</th>\n      <td>2024/04/29 4:39:18 PM OESZ</td>\n      <td>26-35</td>\n      <td>Wohneigentum</td>\n      <td>Haus</td>\n      <td>Land</td>\n      <td>Angestellter</td>\n      <td>7000</td>\n      <td>E-Auto</td>\n      <td>7</td>\n      <td>80%</td>\n      <td>20%</td>\n      <td>günstigere Preise;kürzere Wartezeit zwischen z...</td>\n      <td>günstigere Preise;gute Budget-E-Autos;mehr/bes...</td>\n    </tr>\n    <tr>\n      <th>4</th>\n      <td>2024/04/29 4:39:39 PM OESZ</td>\n      <td>36-45</td>\n      <td>gemietet</td>\n      <td>Haus</td>\n      <td>Land</td>\n      <td>Angestellter</td>\n      <td>4600</td>\n      <td>Auto</td>\n      <td>7</td>\n      <td>90%</td>\n      <td>0%</td>\n      <td>kürzere Wartezeit zwischen zwei Zügen/Bussen;b...</td>\n      <td>mehr Reichweite;mehr Sicherheit (Brandgefahr, ...</td>\n    </tr>\n    <tr>\n      <th>5</th>\n      <td>2024/04/29 4:41:40 PM OESZ</td>\n      <td>26-35</td>\n      <td>gemietet</td>\n      <td>Wohnung</td>\n      <td>Großstadt (min. 100.000 Einwohner)</td>\n      <td>Angestellter</td>\n      <td>NaN</td>\n      <td>Auto</td>\n      <td>8</td>\n      <td>80%</td>\n      <td>10%</td>\n      <td>günstigere Preise</td>\n      <td>günstigere Preise;mehr/besser verteilte Lademö...</td>\n    </tr>\n    <tr>\n      <th>6</th>\n      <td>2024/04/29 4:44:42 PM OESZ</td>\n      <td>26-35</td>\n      <td>gemietet</td>\n      <td>Wohnung</td>\n      <td>Land</td>\n      <td>Angestellter</td>\n      <td>4200€</td>\n      <td>Auto</td>\n      <td>9</td>\n      <td>80%</td>\n      <td>20%</td>\n      <td>günstigere Preise;kürzere Wartezeit zwischen z...</td>\n      <td>mehr/besser verteilte Lademöglichkeiten;mehr R...</td>\n    </tr>\n    <tr>\n      <th>7</th>\n      <td>2024/04/29 4:45:26 PM OESZ</td>\n      <td>56-65</td>\n      <td>gemietet</td>\n      <td>Wohnung</td>\n      <td>Stadt</td>\n      <td>Angestellter</td>\n      <td>NaN</td>\n      <td>Auto</td>\n      <td>1</td>\n      <td>100%</td>\n      <td>0%</td>\n      <td>Keine Möglichkeit der Nutzung</td>\n      <td>mehr Reichweite</td>\n    </tr>\n    <tr>\n      <th>8</th>\n      <td>2024/04/29 4:45:28 PM OESZ</td>\n      <td>36-45</td>\n      <td>gemietet</td>\n      <td>Wohnung</td>\n      <td>Großstadt (min. 100.000 Einwohner)</td>\n      <td>Angestellter</td>\n      <td>2700</td>\n      <td>Auto</td>\n      <td>7</td>\n      <td>40%</td>\n      <td>10%</td>\n      <td>günstigere Preise;Bessere Anbindung außerhalb ...</td>\n      <td>günstigere Preise;gute Budget-E-Autos;mehr/bes...</td>\n    </tr>\n    <tr>\n      <th>9</th>\n      <td>2024/04/29 4:49:05 PM OESZ</td>\n      <td>36-45</td>\n      <td>gemietet</td>\n      <td>Wohnung</td>\n      <td>Stadt</td>\n      <td>Angestellter</td>\n      <td>NaN</td>\n      <td>Auto</td>\n      <td>6</td>\n      <td>80%</td>\n      <td>10%</td>\n      <td>günstigere Preise;geringere Distanz zwischen H...</td>\n      <td>mehr/besser verteilte Lademöglichkeiten;mehr R...</td>\n    </tr>\n    <tr>\n      <th>10</th>\n      <td>2024/04/29 4:52:38 PM OESZ</td>\n      <td>26-35</td>\n      <td>gemietet</td>\n      <td>Wohnung</td>\n      <td>Land</td>\n      <td>Azubi</td>\n      <td>4500</td>\n      <td>Auto</td>\n      <td>5</td>\n      <td>80%</td>\n      <td>20%</td>\n      <td>günstigere Preise;bessere Zuverlässigkeit</td>\n      <td>günstigere Preise;mehr/besser verteilte Lademö...</td>\n    </tr>\n    <tr>\n      <th>11</th>\n      <td>2024/04/29 5:06:52 PM OESZ</td>\n      <td>26-35</td>\n      <td>Wohneigentum</td>\n      <td>Haus</td>\n      <td>Land</td>\n      <td>Angestellter</td>\n      <td>6500</td>\n      <td>Auto</td>\n      <td>3</td>\n      <td>70%</td>\n      <td>10%</td>\n      <td>günstigere Preise;kürzere Wartezeit zwischen z...</td>\n      <td>günstigere Preise;mehr Reichweite;längere/bess...</td>\n    </tr>\n    <tr>\n      <th>12</th>\n      <td>2024/04/29 5:12:01 PM OESZ</td>\n      <td>20-25</td>\n      <td>gemietet</td>\n      <td>Wohnung</td>\n      <td>Stadt</td>\n      <td>Angestellter</td>\n      <td>2300€</td>\n      <td>Auto</td>\n      <td>3</td>\n      <td>90%</td>\n      <td>0%</td>\n      <td>günstigere Preise</td>\n      <td>günstigere Preise;mehr/besser verteilte Lademö...</td>\n    </tr>\n    <tr>\n      <th>13</th>\n      <td>2024/04/29 5:31:01 PM OESZ</td>\n      <td>46-55</td>\n      <td>gemietet</td>\n      <td>Wohnung</td>\n      <td>Stadt</td>\n      <td>Angestellter</td>\n      <td>3200</td>\n      <td>Auto</td>\n      <td>6</td>\n      <td>90%</td>\n      <td>10%</td>\n      <td>kürzere Wartezeit zwischen zwei Zügen/Bussen;b...</td>\n      <td>gute Budget-E-Autos;mehr/besser verteilte Lade...</td>\n    </tr>\n    <tr>\n      <th>14</th>\n      <td>2024/04/29 5:33:21 PM OESZ</td>\n      <td>20-25</td>\n      <td>gemietet</td>\n      <td>Doppelhaushälfte</td>\n      <td>Land</td>\n      <td>Angestellter</td>\n      <td>2800</td>\n      <td>Auto</td>\n      <td>9</td>\n      <td>70%</td>\n      <td>20%</td>\n      <td>günstigere Preise;geringere Distanz zwischen H...</td>\n      <td>günstigere Preise;mehr Reichweite;keine undurc...</td>\n    </tr>\n    <tr>\n      <th>15</th>\n      <td>2024/04/29 6:14:12 PM OESZ</td>\n      <td>56-65</td>\n      <td>Wohneigentum</td>\n      <td>Haus</td>\n      <td>Land</td>\n      <td>Angestellter</td>\n      <td>5800</td>\n      <td>E-Auto</td>\n      <td>10</td>\n      <td>80%</td>\n      <td>10%</td>\n      <td>kürzere Wartezeit zwischen zwei Zügen/Bussen;b...</td>\n      <td>günstigere Preise;Einheitlichkeit der Lademögl...</td>\n    </tr>\n    <tr>\n      <th>16</th>\n      <td>2024/04/29 6:39:30 PM OESZ</td>\n      <td>26-35</td>\n      <td>gemietet</td>\n      <td>Wohnung</td>\n      <td>Großstadt (min. 100.000 Einwohner)</td>\n      <td>Angestellter</td>\n      <td>5500</td>\n      <td>E-Auto</td>\n      <td>10</td>\n      <td>70%</td>\n      <td>30%</td>\n      <td>günstigere Preise;kürzere Wartezeit zwischen z...</td>\n      <td>günstigere Preise;gute Budget-E-Autos;mehr/bes...</td>\n    </tr>\n    <tr>\n      <th>17</th>\n      <td>2024/04/29 6:57:05 PM OESZ</td>\n      <td>46-55</td>\n      <td>Wohneigentum</td>\n      <td>Doppelhaushälfte</td>\n      <td>Stadt</td>\n      <td>Selbstständiger</td>\n      <td>NaN</td>\n      <td>Auto</td>\n      <td>7</td>\n      <td>60%</td>\n      <td>10%</td>\n      <td>günstigere Preise;bessere Zuverlässigkeit</td>\n      <td>günstigere Preise;mehr Reichweite</td>\n    </tr>\n    <tr>\n      <th>18</th>\n      <td>2024/04/29 9:29:10 PM OESZ</td>\n      <td>0-15</td>\n      <td>gemietet</td>\n      <td>Wohnung</td>\n      <td>Stadt</td>\n      <td>Schüler</td>\n      <td>3.300€</td>\n      <td>kein Auto</td>\n      <td>6</td>\n      <td>0%</td>\n      <td>80%</td>\n      <td>kürzere Wartezeit zwischen zwei Zügen/Bussen;g...</td>\n      <td>günstigere Preise;mehr/besser verteilte Lademö...</td>\n    </tr>\n    <tr>\n      <th>19</th>\n      <td>2024/04/30 2:29:35 AM OESZ</td>\n      <td>26-35</td>\n      <td>gemietet</td>\n      <td>Wohnung</td>\n      <td>Großstadt (min. 100.000 Einwohner)</td>\n      <td>Angestellter</td>\n      <td>NaN</td>\n      <td>Auto</td>\n      <td>4</td>\n      <td>90%</td>\n      <td>0%</td>\n      <td>günstigere Preise;kürzere Wartezeit zwischen z...</td>\n      <td>günstigere Preise;mehr/besser verteilte Lademö...</td>\n    </tr>\n  </tbody>\n</table>\n</div>"
     },
     "execution_count": 6,
     "metadata": {},
     "output_type": "execute_result"
    }
   ],
   "source": [
    "# Displaying the first 20 rows of the data\n",
    "df_whatsapp_data.head(20)\n",
    "# count of columns\n",
    "#df_whatsapp_data.count()"
   ],
   "metadata": {
    "collapsed": false,
    "ExecuteTime": {
     "end_time": "2024-05-08T07:51:11.061843Z",
     "start_time": "2024-05-08T07:51:11.042432Z"
    }
   },
   "id": "4d0527516f68775b",
   "execution_count": 6
  },
  {
   "cell_type": "markdown",
   "source": [
    "## Data Cleaning"
   ],
   "metadata": {
    "collapsed": false
   },
   "id": "ce2dda3e1da1bc1b"
  },
  {
   "cell_type": "code",
   "outputs": [],
   "source": [
    "# Checking for missing values\n",
    "df_whatsapp_data.isnull().sum()"
   ],
   "metadata": {
    "collapsed": false
   },
   "id": "62e9eb3b94aeeff8",
   "execution_count": null
  },
  {
   "cell_type": "code",
   "outputs": [],
   "source": [
    "# Dropping the missing values\n",
    "df_whatsapp_data.dropna(inplace=True)"
   ],
   "metadata": {
    "collapsed": false
   },
   "id": "b1d69f0b8507186c",
   "execution_count": null
  },
  {
   "cell_type": "code",
   "outputs": [],
   "source": [
    "# Checking for duplicates\n",
    "df_whatsapp_data.duplicated().sum()"
   ],
   "metadata": {
    "collapsed": false
   },
   "id": "3547e74ffe147a99",
   "execution_count": null
  },
  {
   "cell_type": "code",
   "outputs": [],
   "source": [
    "# Dropping duplicates\n",
    "df_whatsapp_data.drop_duplicates(inplace=True)"
   ],
   "metadata": {
    "collapsed": false
   },
   "id": "ae74a876dca5958e",
   "execution_count": null
  },
  {
   "cell_type": "code",
   "outputs": [],
   "source": [
    "# Checking for unique values in the data\n",
    "df_whatsapp_data.nunique()"
   ],
   "metadata": {
    "collapsed": false
   },
   "id": "bb58a70e323beca",
   "execution_count": null
  },
  {
   "cell_type": "code",
   "outputs": [],
   "source": [
    "# Replacing the missing values with the average values and fitting strings\n",
    "df_whatsapp_data.fillna(df_whatsapp_data.mean(), inplace=True)"
   ],
   "metadata": {
    "collapsed": false
   },
   "id": "e54f5447bb8e9d01",
   "execution_count": null
  },
  {
   "cell_type": "markdown",
   "source": [
    "## Data Preprocessing"
   ],
   "metadata": {
    "collapsed": false
   },
   "id": "5efe25caa1e113b4"
  },
  {
   "cell_type": "code",
   "outputs": [],
   "source": [
    "# Checking the data types of the columns\n",
    "df_whatsapp_data.dtypes"
   ],
   "metadata": {
    "collapsed": false
   },
   "id": "554ba6c0fb7e1579",
   "execution_count": null
  },
  {
   "cell_type": "markdown",
   "source": [
    "## Data Analysis"
   ],
   "metadata": {
    "collapsed": false
   },
   "id": "f2b503f7c6c9146e"
  },
  {
   "cell_type": "code",
   "outputs": [],
   "source": [
    "# Checking the distribution of the data\n",
    "df_whatsapp_data.describe()"
   ],
   "metadata": {
    "collapsed": false
   },
   "id": "cae9141814607778",
   "execution_count": null
  },
  {
   "cell_type": "markdown",
   "source": [
    "## Data Visualization"
   ],
   "metadata": {
    "collapsed": false
   },
   "id": "af5a35cc094fcb0b"
  },
  {
   "cell_type": "code",
   "outputs": [],
   "source": [
    "# Plotting the distribution of the data\n",
    "df_whatsapp_data.hist(figsize=(20, 20))\n",
    "plt.show()\n",
    "# add seaborn style\n",
    "sns.set()\n",
    "# add title and labels\n",
    "plt.title('Distribution of the data')\n",
    "plt.xlabel('Values')\n",
    "plt.ylabel('Frequency')\n",
    "plt.show()"
   ],
   "metadata": {
    "collapsed": false
   },
   "id": "3a52b7246f8d2d7a",
   "execution_count": null
  }
 ],
 "metadata": {
  "kernelspec": {
   "display_name": "Python 3",
   "language": "python",
   "name": "python3"
  },
  "language_info": {
   "codemirror_mode": {
    "name": "ipython",
    "version": 2
   },
   "file_extension": ".py",
   "mimetype": "text/x-python",
   "name": "python",
   "nbconvert_exporter": "python",
   "pygments_lexer": "ipython2",
   "version": "2.7.6"
  }
 },
 "nbformat": 4,
 "nbformat_minor": 5
}
