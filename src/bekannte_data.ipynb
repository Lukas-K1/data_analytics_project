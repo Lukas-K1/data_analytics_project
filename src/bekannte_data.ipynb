{
 "cells": [
  {
   "cell_type": "markdown",
   "source": [
    "# File to process data from survey among acquaintances\n",
    "## from importing data to processing and visualizing"
   ],
   "metadata": {
    "collapsed": false
   },
   "id": "4132eb3b221e99fc"
  },
  {
   "cell_type": "code",
   "outputs": [],
   "source": [
    "# Importing necessary libraries\n",
    "import pandas as pd\n",
    "import numpy as np\n",
    "import matplotlib.pyplot as plt\n",
    "import seaborn as sns"
   ],
   "metadata": {
    "collapsed": false
   },
   "id": "47511d3d29cd1498"
  },
  {
   "cell_type": "markdown",
   "source": [
    "## Importing data"
   ],
   "metadata": {
    "collapsed": false
   },
   "id": "c0c4bb233690b9b2"
  },
  {
   "cell_type": "code",
   "outputs": [],
   "source": [
    "# Importing data\n",
    "df_whatsapp_data = pd.read_csv('data/umfrage-nachhaltige-mobilitaet_bekannte.csv')"
   ],
   "metadata": {
    "collapsed": false
   },
   "id": "2a981d7a6aa74e25"
  },
  {
   "cell_type": "markdown",
   "source": [
    "## Data Exploration"
   ],
   "metadata": {
    "collapsed": false
   },
   "id": "2c84ff89802e2c12"
  },
  {
   "cell_type": "code",
   "outputs": [],
   "source": [
    "# Displaying the first 20 rows of the data\n",
    "df_whatsapp_data.head(20)"
   ],
   "metadata": {
    "collapsed": false
   },
   "id": "4d0527516f68775b"
  },
  {
   "cell_type": "markdown",
   "source": [
    "## Data Cleaning"
   ],
   "metadata": {
    "collapsed": false
   },
   "id": "ce2dda3e1da1bc1b"
  },
  {
   "cell_type": "code",
   "outputs": [],
   "source": [
    "# Checking for missing values\n",
    "df_whatsapp_data.isnull().sum()"
   ],
   "metadata": {
    "collapsed": false
   },
   "id": "62e9eb3b94aeeff8"
  },
  {
   "cell_type": "code",
   "outputs": [],
   "source": [
    "# Dropping the missing values\n",
    "df_whatsapp_data.dropna(inplace=True)"
   ],
   "metadata": {
    "collapsed": false
   },
   "id": "b1d69f0b8507186c"
  },
  {
   "cell_type": "code",
   "outputs": [],
   "source": [
    "# Checking for duplicates\n",
    "df_whatsapp_data.duplicated().sum()"
   ],
   "metadata": {
    "collapsed": false
   },
   "id": "3547e74ffe147a99"
  },
  {
   "cell_type": "code",
   "outputs": [],
   "source": [
    "# Dropping duplicates\n",
    "df_whatsapp_data.drop_duplicates(inplace=True)"
   ],
   "metadata": {
    "collapsed": false
   },
   "id": "ae74a876dca5958e"
  },
  {
   "cell_type": "code",
   "outputs": [],
   "source": [
    "# Checking for unique values in the data\n",
    "df_whatsapp_data.nunique()"
   ],
   "metadata": {
    "collapsed": false
   },
   "id": "bb58a70e323beca"
  },
  {
   "cell_type": "code",
   "outputs": [],
   "source": [
    "# Replacing the missing values with the average values and fitting strings\n",
    "df_whatsapp_data.fillna(df_whatsapp_data.mean(), inplace=True)"
   ],
   "metadata": {
    "collapsed": false
   },
   "id": "e54f5447bb8e9d01"
  },
  {
   "cell_type": "markdown",
   "source": [
    "## Data Preprocessing"
   ],
   "metadata": {
    "collapsed": false
   },
   "id": "5efe25caa1e113b4"
  },
  {
   "cell_type": "code",
   "outputs": [],
   "source": [
    "# Checking the data types of the columns\n",
    "df_whatsapp_data.dtypes"
   ],
   "metadata": {
    "collapsed": false
   },
   "id": "554ba6c0fb7e1579"
  },
  {
   "cell_type": "markdown",
   "source": [
    "## Data Analysis"
   ],
   "metadata": {
    "collapsed": false
   },
   "id": "f2b503f7c6c9146e"
  },
  {
   "cell_type": "code",
   "outputs": [],
   "source": [
    "# Checking the distribution of the data\n",
    "df_whatsapp_data.describe()"
   ],
   "metadata": {
    "collapsed": false
   },
   "id": "cae9141814607778"
  },
  {
   "cell_type": "markdown",
   "source": [
    "## Data Visualization"
   ],
   "metadata": {
    "collapsed": false
   },
   "id": "af5a35cc094fcb0b"
  },
  {
   "cell_type": "code",
   "outputs": [],
   "source": [
    "# Plotting the distribution of the data\n",
    "df_whatsapp_data.hist(figsize=(20, 20))\n",
    "plt.show()\n",
    "# add seaborn style\n",
    "sns.set()\n",
    "# add title and labels\n",
    "plt.title('Distribution of the data')\n",
    "plt.xlabel('Values')\n",
    "plt.ylabel('Frequency')\n",
    "plt.show()"
   ],
   "metadata": {
    "collapsed": false
   },
   "id": "3a52b7246f8d2d7a"
  }
 ],
 "metadata": {
  "kernelspec": {
   "display_name": "Python 3",
   "language": "python",
   "name": "python3"
  },
  "language_info": {
   "codemirror_mode": {
    "name": "ipython",
    "version": 2
   },
   "file_extension": ".py",
   "mimetype": "text/x-python",
   "name": "python",
   "nbconvert_exporter": "python",
   "pygments_lexer": "ipython2",
   "version": "2.7.6"
  }
 },
 "nbformat": 4,
 "nbformat_minor": 5
}
