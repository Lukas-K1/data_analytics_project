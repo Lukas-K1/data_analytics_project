{
 "cells": [
  {
   "metadata": {},
   "cell_type": "markdown",
   "source": "## All pooled survey data",
   "id": "e0c342c9e734efd8"
  },
  {
   "metadata": {},
   "cell_type": "code",
   "source": [
    "# all imported libraries    \n",
    "import pandas as pd\n",
    "import numpy as np\n",
    "import matplotlib.pyplot as plt\n",
    "import seaborn as sns\n",
    "from sklearn.impute import KNNImputer\n",
    "# linear regression & scaler & train_test_split\n",
    "from sklearn.linear_model import LinearRegression\n",
    "from sklearn.preprocessing import StandardScaler\n",
    "from sklearn.model_selection import train_test_split\n",
    "from sklearn.metrics import mean_squared_error\n"
   ],
   "id": "9395c2f12f9ff8e8",
   "outputs": [],
   "execution_count": null
  },
  {
   "metadata": {},
   "cell_type": "markdown",
   "source": "# Importing the Data",
   "id": "b68f8e2ffacef26d"
  },
  {
   "metadata": {},
   "cell_type": "code",
   "source": [
    "# Load the data from all 3 survey csvs\n",
    "# add data from multiple csvs to 1 dataframe\n",
    "survey1 = pd.read_csv('data/umfrage-nachhaltige-mobilitaet_FHDW.csv')\n",
    "survey2 = pd.read_csv('data/umfrage-nachhaltige-mobilitaet_bekannte.csv')\n",
    "survey3 = pd.read_csv('data/umfrage-nachhaltige-mobilitaet_offen.csv')\n",
    "# add a column to each survey to indicate the survey number\n",
    "survey1['survey'] = 1\n",
    "survey2['survey'] = 2\n",
    "survey3['survey'] = 3\n",
    "# concatenate the 3 surveys\n",
    "survey_data = pd.concat([survey1, survey2, survey3])\n",
    "survey_data"
   ],
   "id": "96624a51f6fe72fa",
   "outputs": [],
   "execution_count": null
  },
  {
   "metadata": {},
   "cell_type": "markdown",
   "source": "# Methods for Data Preprocessing",
   "id": "22b49e9201d31e23"
  },
  {
   "metadata": {},
   "cell_type": "markdown",
   "source": "Konstante Bezeichnungen für Spaltennamen",
   "id": "5de1588df0e9f039"
  },
  {
   "metadata": {},
   "cell_type": "code",
   "source": [
    "#Constants for column names\n",
    "age = 'Wie alt sind Sie? '\n",
    "employment = 'Wie ist Ihre Beschäftigung? '\n",
    "monthly_income = 'Bitte schätzen Sie das monatliche Netto Gesamteinkommen in Ihrem Haushalt in Euro. (Wenn Sie dazu keine Angaben machen möchten, überspringen Sie diese Frage bitte.)'\n",
    "car_ownership = 'Besitzen Sie ein Auto? (auch Leasing) '\n",
    "interest_e_car = 'Wie interessiert sind Sie an einem E-Auto als Ihr nächstes(/erstes) KFZ? (Wenn Sie generell kein Interesse am Besitz eines Autos haben, überspringen Sie diese Frage bitte) '\n",
    "living_situation = 'Wie ist Ihre Wohnsituation? (Wohneigentum?) '\n",
    "living_situation_house_apartment = 'Wie ist Ihre Wohnsituation? (Haus oder Wohnung?) '\n",
    "living_situation_city = 'Wie ist Ihre Wohnsituation? (Großstadt, Stadt, Land?) '\n",
    "mobility_car = 'Welchen Anteil an Ihrer Gesamtmobilität macht Ihr Auto aus? (falls Sie kein Auto besitzen, wählen Sie bitte 0% aus) '\n",
    "mobility_public_transport = 'Welchen Anteil an Ihrer Gesamtmobilität macht der ÖPNV aus? '\n",
    "mobility_public_transport_attraction = 'Was würde den ÖPNV für Sie attraktiver machen? '\n",
    "mobility_e_car_attraction = 'Was würde E-Autos für Sie attraktiver machen? '"
   ],
   "id": "7116641bbe3a8a7f",
   "outputs": [],
   "execution_count": null
  },
  {
   "metadata": {},
   "cell_type": "markdown",
   "source": "Methoden für das Preprocessing der Daten",
   "id": "4dc9f355e53dc038"
  },
  {
   "metadata": {},
   "cell_type": "code",
   "source": [
    "def explore_data(input_data):\n",
    "    #Display a summary of the data\n",
    "    # args: data: pandas dataframe\n",
    "    # Summarize the data\n",
    "    print(input_data.info())\n",
    "    # Display the first 5 rows of the data\n",
    "    print(input_data.head())\n",
    "    \n",
    "def drop_data(input_data):\n",
    "    # Drop non-uniques and missing values\n",
    "    # args: data: pandas dataframe\n",
    "    # Drop duplicates\n",
    "    duplicate_free_data = input_data.drop_duplicates()\n",
    "    # Drop missing values\n",
    "    na_free_data = duplicate_free_data.dropna(inplace=True)\n",
    "    return na_free_data\n",
    "\n",
    "def fill_data(input_data):\n",
    "    # Fill missing values with the mean\n",
    "    # args: data: pandas dataframe\n",
    "    input_data.ffill().bfill()\n",
    "    return input_data\n",
    "\n",
    "# normalise age ranges to class representation\n",
    "def normalise_age(input_data):\n",
    "    # normalise age ranges to class representation\n",
    "    # args: data: pandas dataframe\n",
    "    # return: data: pandas dataframe\n",
    "    input_data[age] = input_data[age].replace(['0-15', '16-19', '20-25', '26-35', '36-45', '46-55', '56-65', '65+'], [7.5, 17.5, 22.5, 30.5, 40.5, 50.5, 60.5, 65])\n",
    "    return input_data\n",
    "\n",
    "# percent to numerical representation\n",
    "def normalise_percent(input_data):\n",
    "    # normalise percent to numerical representation\n",
    "    # args: data: pandas dataframe\n",
    "    # return: data: pandas dataframe\n",
    "    percentage_mapping = {\n",
    "        '0%': 0,\n",
    "        '10%': 10,\n",
    "        '20%': 20,\n",
    "        '30%': 30,\n",
    "        '40%': 40,\n",
    "        '50%': 50,\n",
    "        '60%': 60,\n",
    "        '70%': 70,\n",
    "        '80%': 80,\n",
    "        '90%': 90,\n",
    "        '100%': 100\n",
    "    }\n",
    "    input_data[mobility_car] = input_data[mobility_car].replace(percentage_mapping)\n",
    "    input_data[mobility_public_transport] = input_data[mobility_public_transport].replace(percentage_mapping)\n",
    "    return input_data\n",
    "\n",
    "def fill_missing_values(input_data, columns):\n",
    "    # fill missing values with the mean\n",
    "    # args: data: pandas dataframe\n",
    "    # return: data: pandas dataframe\n",
    "    imputed_data = input_data.copy()\n",
    "    imputer = KNNImputer(n_neighbors=3)\n",
    "    \n",
    "    # Ensure columns are reshaped correctly\n",
    "    reshaped_column = input_data[columns]\n",
    "    imputed_column = pd.DataFrame(imputer.fit_transform(reshaped_column), columns=columns)\n",
    "    imputed_data[columns] = imputed_column\n",
    "    \n",
    "    return imputed_data\n",
    "    \n",
    "\n",
    "# remove euro sign from monthly income\n",
    "def normalise_monthly_income(input_data):\n",
    "    # remove euro sign from monthly income\n",
    "    # args: data: pandas dataframe\n",
    "    # return: data: pandas dataframe\n",
    "    input_data[monthly_income] = input_data[monthly_income].replace('€', '', regex=True)\n",
    "    input_data[monthly_income] = input_data[monthly_income].replace(' euro', '', regex=True)\n",
    "    input_data[monthly_income] = input_data[monthly_income].replace(' Netto', '', regex=True)\n",
    "    input_data[monthly_income] = input_data[monthly_income].replace('netto: ', '', regex=True)\n",
    "    input_data[monthly_income] = input_data[monthly_income].replace(',', '.', regex=True)\n",
    "    # convert to float for this input data\n",
    "    input_data[monthly_income] = input_data[monthly_income].replace('Einkommen als SHK 300. Eltern 600', '900', regex=True)\n",
    "    # fill missing values with the median\n",
    "    input_data[monthly_income] = input_data[monthly_income].fillna(input_data[monthly_income].median())\n",
    "    input_data[monthly_income] = input_data[monthly_income].astype(float)\n",
    "    return input_data\n",
    "\n",
    "def normalise_employment(input_data):\n",
    "    # normalise employment to numerical representation\n",
    "    # args: data: pandas dataframe\n",
    "    # return: data: pandas dataframe\n",
    "    employment_mapping = {\n",
    "        'Student': 1,\n",
    "        'Angestellter': 2,\n",
    "        'Selbstständiger': 3,\n",
    "        'Arbeitslos': 4,\n",
    "        'Rentner': 5,\n",
    "        'Schüler': 6,\n",
    "        'Azubi': 7,\n",
    "        'dualer Student (impliziert Anstellung bei einem Partner Unternehmen)': 8,\n",
    "        'Beamter': 9,\n",
    "        'Student;Angestellter': 10,\n",
    "    }\n",
    "    input_data[employment] = input_data[employment].replace(employment_mapping)\n",
    "    return input_data\n",
    "\n",
    "def normalise_living_situation(input_data):\n",
    "    # normalise living situation to numerical representation\n",
    "    # args: data: pandas dataframe\n",
    "    # return: data: pandas dataframe\n",
    "    living_mapping = {\n",
    "        'Wohneigentum': 1,\n",
    "        'gemietet': 2,\n",
    "    }\n",
    "    input_data[living_situation] = input_data[living_situation].replace(living_mapping)\n",
    "    return input_data\n",
    "\n",
    "def normalise_living_situation_house_apartment(input_data):\n",
    "    # normalise living situation to numerical representation\n",
    "    # args: data: pandas dataframe\n",
    "    # return: data: pandas dataframe\n",
    "    living_mapping = {\n",
    "        'Haus': 1,\n",
    "        'Wohnung': 2,\n",
    "        'Reihenhaus': 3,\n",
    "        'Doppelhaushälfte': 4,\n",
    "    }\n",
    "    input_data[living_situation_house_apartment] = input_data[living_situation_house_apartment].replace(living_mapping)\n",
    "    return input_data\n",
    "\n",
    "def normalise_living_situation_city(input_data):\n",
    "    # normalise living situation to numerical representation\n",
    "    # args: data: pandas dataframe\n",
    "    # return: data: pandas dataframe\n",
    "    living_mapping = {\n",
    "        'Großstadt (min. 100.000 Einwohner)': 1,\n",
    "        'Stadt': 2,\n",
    "        'Land': 3\n",
    "    }\n",
    "    input_data[living_situation_city] = input_data[living_situation_city].replace(living_mapping)\n",
    "    return input_data\n",
    "\n",
    "# normalise car ownership to numerical representation\n",
    "def normalise_car_ownership(input_data):\n",
    "    # normalise car ownership to numerical representation\n",
    "    # args: data: pandas dataframe\n",
    "    # return: data: pandas dataframe\n",
    "    input_data[car_ownership] = input_data[car_ownership].replace(['Auto', 'kein Auto', 'E-Auto'], [1, 0, 2])\n",
    "    return input_data\n",
    "\n",
    "def split_data(input_data):\n",
    "    # split data for use case\n",
    "    # args: data: pandas dataframe\n",
    "    # Split the data into features and target\n",
    "    # helper method to split the data in different use cases, not used in this notebook\n",
    "    data_na_removed = input_data.dropna()\n",
    "    selected_columns_finance = [age, employment, monthly_income, car_ownership, interest_e_car]\n",
    "    selected_columns_mobility = [age, car_ownership, interest_e_car, mobility_car, mobility_public_transport, mobility_public_transport_attraction, mobility_e_car_attraction]\n",
    "    selected_columns_living = [living_situation, living_situation_house_apartment, living_situation_city, interest_e_car] \n",
    "    selected_columns_age_employment = [age, employment, interest_e_car] \n",
    "    data_financial = input_data[selected_columns_finance]\n",
    "    data_mobility = input_data[selected_columns_mobility]\n",
    "    data_living = input_data[selected_columns_living]\n",
    "    data_age = input_data[selected_columns_age_employment]\n",
    "    return input_data, data_na_removed, data_financial, data_mobility, data_living, data_age\n",
    "\n",
    "def prepare_data(input_data, feature_columns, target):\n",
    "    # Prepare the data for analysis\n",
    "    # args: data: pandas dataframe\n",
    "    # args: feature_column: (list): liste der spalten die als feature genutzt werden sollen\n",
    "    # args: target_column: (string): name zielvariable\n",
    "    #return: tuple: X_train, X_test, y_train, y_test\n",
    "    X_var = input_data[feature_columns]\n",
    "    Y_var = input_data[target]\n",
    "    # Split the data into training and testing data\n",
    "    X_trains, X_tests, y_train, y_test = train_test_split(X_var, Y_var, test_size=0.2, random_state=42)\n",
    "    return X_trains, X_tests, y_train, y_test\n",
    "\n",
    "def scale_data(X_train_data, X_test_data):\n",
    "    # Scale the data\n",
    "    # args: X_train: pandas dataframe\n",
    "    # args: X_test: pandas dataframe\n",
    "    #return: X_train_scaled, X_test_scaled\n",
    "    scaler = StandardScaler()\n",
    "    X_train_scaled = scaler.fit_transform(X_train_data)\n",
    "    X_test_scaled = scaler.transform(X_test_data)\n",
    "    return X_train_scaled, X_test_scaled\n",
    "\n",
    "def train_model(X_train_data, y_train_data):\n",
    "    # Train the model\n",
    "    # args: X_train: pandas dataframe\n",
    "    # args: y_train: pandas dataframe\n",
    "    #return: model\n",
    "    model = LinearRegression()\n",
    "    model.fit(X_train_data, y_train_data)\n",
    "    return model\n",
    "\n",
    "def evaluate_model(model, X_test_data, y_test_data):\n",
    "    # Evaluate the model\n",
    "    # args: model: model\n",
    "    # args: X_test: pandas dataframe\n",
    "    # args: y_test: pandas dataframe\n",
    "    y_pred = model.predict(X_test_data)\n",
    "    mse = mean_squared_error(y_test_data, y_pred)\n",
    "    return mse\n",
    "\n",
    "def analyze_data(X_train_data, X_test_data, Y_train_data, Y_test_data):\n",
    "    # Analyze the data\n",
    "    # args: X_train: pandas dataframe\n",
    "    # args: X_test: pandas dataframe\n",
    "    # args: Y_train: pandas dataframe\n",
    "    # args: Y_test: pandas dataframe\n",
    "    #return: mse\n",
    "    model = LinearRegression()\n",
    "    model.fit(X_train_data, Y_train_data)\n",
    "    y_pred = model.predict(X_test_data)\n",
    "    mse = mean_squared_error(Y_test_data, y_pred)\n",
    "    print('Mean Squared Error:', mse)\n",
    "    return mse\n",
    "\n",
    "def visualize_correlation(input_data):\n",
    "    # args: data: pandas dataframe\n",
    "    # args: feature_columns: (list): liste der spalten die als feature genutzt werden sollen\n",
    "    # args: target_column: (string): name zielvariable\n",
    "    #return: None\n",
    "    # drop the 'Zeitstempel' column\n",
    "    input_data_copy = input_data.copy()\n",
    "    input_data_copy = input_data_copy.drop('Zeitstempel', axis=1)\n",
    "    input_data_copy = input_data_copy.drop(mobility_public_transport_attraction, axis=1)\n",
    "    input_data_copy = input_data_copy.drop(mobility_e_car_attraction, axis=1)\n",
    "    correlation_matrix = input_data_copy.corr()\n",
    "    plt.figure(figsize=(12, 12))\n",
    "    sns.heatmap(correlation_matrix, annot=True, cmap='coolwarm', fmt='.2f', linewidths=0.5)\n",
    "    plt.title('Correlation Matrix')\n",
    "    plt.show()"
   ],
   "id": "341747c2ea6a368f",
   "outputs": [],
   "execution_count": null
  },
  {
   "metadata": {},
   "cell_type": "markdown",
   "source": "# Methoden für lineare Regressionsanalyse mit scikit-learn für ein Feature",
   "id": "d25b07906126c449"
  },
  {
   "metadata": {},
   "cell_type": "code",
   "source": [
    "# method for linear regression analysis using scikit-learn\n",
    "def linear_regression_analysis(input_data, feature_column, target): \n",
    "    # Split the data\n",
    "    sns.lmplot(x = feature_column, y = target, data = input_data, order = 2, ci = None)\n",
    "    plt.show()\n",
    "    input_data.ffill().bfill()\n",
    "    x = np.array(input_data[feature_column]).reshape(-1, 1)\n",
    "    y = np.array(input_data[target]).reshape(-1, 1)\n",
    " \n",
    "    # Separating the data into independent and dependent variables\n",
    "    # Converting each dataframe into a numpy array \n",
    "    # since each dataframe contains only one column\n",
    " \n",
    "    # Dropping any rows with Nan values\n",
    "    x_train, x_test, y_train, y_test = train_test_split(x, y, test_size = 0.2)\n",
    " \n",
    "    # Splitting the data into training and testing data\n",
    "    regr = LinearRegression()\n",
    " \n",
    "    regr.fit(x_train, y_train)\n",
    "    print(regr.score(x_test, y_test))\n",
    "    y_pred = regr.predict(x_test)\n",
    "    plt.scatter(x_test, y_test, color ='b')\n",
    "    plt.plot(x_test, y_pred, color ='k')\n",
    "    # label the plot\n",
    "    plt.xlabel(feature_column)\n",
    "    plt.ylabel(target)\n",
    " \n",
    "    plt.show()\n",
    "    # Data scatter of predicted values\n",
    "    plt.scatter(y_test, y_pred)\n",
    "    plt.xlabel('True Values')\n",
    "    plt.ylabel('Predictions')\n",
    "    plt.show()\n",
    "    return None"
   ],
   "id": "49459b769a900c60",
   "outputs": [],
   "execution_count": null
  },
  {
   "metadata": {},
   "cell_type": "markdown",
   "source": "# Methode für lineare Regressionsanalyse mit scikit-learn für mehrere Features",
   "id": "e9e5dff04b860d8f"
  },
  {
   "metadata": {},
   "cell_type": "code",
   "source": [
    "# method for linear regression analysis using scikit-learn for multiple features\n",
    "def linear_regression_analysis_multiple_features(input_data, feature_columns, target):\n",
    "    # Split the data\n",
    "    #sns.lmplot(x = feature_column, y = target, data = input_data, order = 2, ci = None)\n",
    "    #plt.show()\n",
    "    input_data.ffill().bfill()\n",
    "    x = np.array(input_data[feature_columns])\n",
    "    y = np.array(input_data[target])\n",
    " \n",
    "    # Separating the data into independent and dependent variables\n",
    "    # Converting each dataframe into a numpy array \n",
    "    # since each dataframe contains only one column\n",
    " \n",
    "    # Dropping any rows with Nan values\n",
    "    x_train, x_test, y_train, y_test = train_test_split(x, y, test_size = 0.2)\n",
    " \n",
    "    # Splitting the data into training and testing data\n",
    "    regr = LinearRegression()\n",
    " \n",
    "    regr.fit(x_train, y_train)\n",
    "    print(regr.score(x_test, y_test))\n",
    "    y_pred = regr.predict(x_test)\n",
    "    plt.scatter(x_test, y_test, color ='b')\n",
    "    plt.plot(x_test, y_pred, color ='k')\n",
    "    # adjust the plot to show multiple features or a combination of features\n",
    "    #plt.plot(x_test, y_pred, color ='k')\n",
    " \n",
    "    #plt.show()\n",
    "    # Data scatter of predicted values\n",
    "    plt.scatter(y_test, y_pred)\n",
    "    plt.xlabel('True Values')\n",
    "    plt.ylabel('Predictions')\n",
    "    plt.show()\n",
    "    return None"
   ],
   "id": "8b1d1a201c1cb46a",
   "outputs": [],
   "execution_count": null
  },
  {
   "metadata": {},
   "cell_type": "markdown",
   "source": "# Data Exploration",
   "id": "817614010b0a9337"
  },
  {
   "metadata": {},
   "cell_type": "markdown",
   "source": "Anzeigen einer Zusammenfassung der Daten und der ersten 20 Zeilen",
   "id": "923d69efb36955f4"
  },
  {
   "metadata": {},
   "cell_type": "code",
   "source": [
    "# Displaying the first 20 rows of the data\n",
    "survey_data.head(20)"
   ],
   "id": "89b8fb92657b2c64",
   "outputs": [],
   "execution_count": null
  },
  {
   "metadata": {},
   "cell_type": "markdown",
   "source": "# Data Cleaning",
   "id": "a54a8fce1eed6feb"
  },
  {
   "metadata": {},
   "cell_type": "markdown",
   "source": "Entfernen von Duplikaten und fehlenden Werten",
   "id": "bb1980bd3e654e4"
  },
  {
   "metadata": {},
   "cell_type": "code",
   "source": [
    "# Replacing missing values with the mean\n",
    "fill_data(survey_data)"
   ],
   "id": "9006931bfe7a9fc5",
   "outputs": [],
   "execution_count": null
  },
  {
   "metadata": {},
   "cell_type": "markdown",
   "source": "# Data Preprocessing",
   "id": "836c80cb57862f9"
  },
  {
   "metadata": {},
   "cell_type": "markdown",
   "source": "Vorbereitung der Daten für die Analyse mit Methoden um die Daten numerisch zu repräsentieren und fehlende Werte zu füllen",
   "id": "f9cad03a23d21b68"
  },
  {
   "metadata": {},
   "cell_type": "code",
   "source": [
    "data_copy = normalise_age(survey_data)\n",
    "data_copy = normalise_monthly_income(survey_data)\n",
    "data_copy = normalise_car_ownership(survey_data)\n",
    "data_copy = normalise_employment(survey_data)\n",
    "data_copy = normalise_living_situation(survey_data)\n",
    "data_copy = normalise_living_situation_house_apartment(survey_data)\n",
    "data_copy = normalise_living_situation_city(survey_data)\n",
    "data_copy = normalise_percent(survey_data)\n",
    "# Filling missing values\n",
    "data_copy = fill_missing_values(data_copy, [interest_e_car])"
   ],
   "id": "6cba0e8a01df249",
   "outputs": [],
   "execution_count": null
  },
  {
   "metadata": {},
   "cell_type": "markdown",
   "source": "# Data Analysis",
   "id": "e4d9265253160d7d"
  },
  {
   "metadata": {},
   "cell_type": "code",
   "source": [
    "# Checking the distribution of the data\n",
    "survey_data.describe()"
   ],
   "id": "eb7def63d1bbadcd",
   "outputs": [],
   "execution_count": null
  },
  {
   "metadata": {},
   "cell_type": "markdown",
   "source": "# Data Visualization",
   "id": "3f004a0bc8e42a29"
  },
  {
   "metadata": {},
   "cell_type": "markdown",
   "source": "Visualisierung der Korrelationen zwischen den Variablen in Form einer Heatmap ",
   "id": "54f0f45649eafd6"
  },
  {
   "metadata": {},
   "cell_type": "code",
   "source": "visualize_correlation(data_copy)",
   "id": "b28190f46cfd6008",
   "outputs": [],
   "execution_count": null
  },
  {
   "metadata": {},
   "cell_type": "markdown",
   "source": [
    "# Linear Regression Analysis\n",
    "Durchführung einer linearen Regressionsanalyse für uni- und multivariate Features"
   ],
   "id": "904266435ce8f4f1"
  },
  {
   "metadata": {},
   "cell_type": "markdown",
   "source": "Durchführung einer linearen Regressionsanalyse für das Alter und das Interesse an einem E-Auto mit Darstellung der Verteilung der Daten, der Regressionsgeraden und der Vorhersagegenauigkeit und Scatterplot der Vorhersagen",
   "id": "a570dbd3c7e45556"
  },
  {
   "metadata": {},
   "cell_type": "code",
   "source": [
    "# linear regression analysis age vs interest in e-car\n",
    "linear_regression_analysis(data_copy, age, interest_e_car)"
   ],
   "id": "15bbec2f77be8f64",
   "outputs": [],
   "execution_count": null
  },
  {
   "metadata": {},
   "cell_type": "markdown",
   "source": "Durchführung einer linearen Regressionsanalyse für das monatliche Einkommen und das Interesse an einem E-Auto mit Darstellung der Verteilung der Daten, der Regressionsgeraden und der Vorhersagegenauigkeit und Scatterplot der Vorhersagen",
   "id": "53b40d25f1bb0fc2"
  },
  {
   "metadata": {},
   "cell_type": "code",
   "source": [
    "# linear regression analysis monthly income vs interest in e-car\n",
    "linear_regression_analysis(data_copy, monthly_income, interest_e_car)"
   ],
   "id": "1e6896210fd031dc",
   "outputs": [],
   "execution_count": null
  },
  {
   "metadata": {},
   "cell_type": "markdown",
   "source": "Durchführung einer linearen Regressionsanalyse für das Auto-Besitz und das Interesse an einem E-Auto mit Darstellung der Verteilung der Daten, der Regressionsgeraden und der Vorhersagegenauigkeit und Scatterplot der Vorhersagen",
   "id": "5b0b25758f19e734"
  },
  {
   "metadata": {},
   "cell_type": "code",
   "source": [
    "# linear regression analysis car ownership vs interest in e-car\n",
    "linear_regression_analysis(data_copy, car_ownership, interest_e_car)"
   ],
   "id": "d5b4ea40550012f6",
   "outputs": [],
   "execution_count": null
  },
  {
   "metadata": {},
   "cell_type": "markdown",
   "source": "Durchführung einer linearen Regressionsanalyse für den Anteil von Autos an der Mobilität und das Interesse an einem E-Auto mit Darstellung der Verteilung der Daten, der Regressionsgeraden und der Vorhersagegenauigkeit und Scatterplot der Vorhersagen",
   "id": "6033f7ffa4a5989"
  },
  {
   "metadata": {},
   "cell_type": "code",
   "source": "linear_regression_analysis(data_copy, mobility_car, interest_e_car)",
   "id": "de7b32d904920a74",
   "outputs": [],
   "execution_count": null
  },
  {
   "metadata": {},
   "cell_type": "markdown",
   "source": "Durchführung einer linearen Regressionsanalyse für den Anteil öffentlicher Verkehrsmittel an der Mobilität und das Interesse an einem E-Auto mit Darstellung der Verteilung der Daten, der Regressionsgeraden und der Vorhersagegenauigkeit und Scatterplot der Vorhersagen",
   "id": "727bb22653f20708"
  },
  {
   "metadata": {},
   "cell_type": "code",
   "source": "linear_regression_analysis(data_copy, mobility_public_transport, interest_e_car)",
   "id": "6a12c31e1f2a6682",
   "outputs": [],
   "execution_count": null
  },
  {
   "metadata": {},
   "cell_type": "markdown",
   "source": "Durchführung einer linearen Regressionsanalyse für die Beschäftigung und das Interesse an einem E-Auto mit Darstellung der Verteilung der Daten, der Regressionsgeraden und der Vorhersagegenauigkeit und Scatterplot der Vorhersagen",
   "id": "b6bfbf6379b2585e"
  },
  {
   "metadata": {},
   "cell_type": "code",
   "source": [
    "# employment vs interest in e-car\n",
    "linear_regression_analysis(data_copy, employment, interest_e_car)"
   ],
   "id": "b91b864345f508bf",
   "outputs": [],
   "execution_count": null
  },
  {
   "metadata": {},
   "cell_type": "markdown",
   "source": "Durchführung einer linearen Regressionsanalyse für die Wohnsituation (Eigentum oder Miete) und das Interesse an einem E-Auto mit Darstellung der Verteilung der Daten, der Regressionsgeraden und der Vorhersagegenauigkeit und Scatterplot der Vorhersagen",
   "id": "654df389c81a2b50"
  },
  {
   "metadata": {},
   "cell_type": "code",
   "source": [
    "# living situation vs interest in e-car\n",
    "linear_regression_analysis(data_copy, living_situation, interest_e_car)"
   ],
   "id": "f1b93b5db015fcb5",
   "outputs": [],
   "execution_count": null
  },
  {
   "metadata": {},
   "cell_type": "markdown",
   "source": "Durchführung einer linearen Regressionsanalyse für die Wohnsituation (Haus, Wohnung, etc.) und das Interesse an einem E-Auto mit Darstellung der Verteilung der Daten, der Regressionsgeraden und der Vorhersagegenauigkeit und Scatterplot der Vorhersagen",
   "id": "2c7ccb3337224ae0"
  },
  {
   "metadata": {},
   "cell_type": "code",
   "source": [
    "# living situation house apartment vs interest in e-car\n",
    "linear_regression_analysis(data_copy, living_situation_house_apartment, interest_e_car)"
   ],
   "id": "d0e62a4b682338b8",
   "outputs": [],
   "execution_count": null
  },
  {
   "metadata": {},
   "cell_type": "markdown",
   "source": "Durchführung einer linearen Regressionsanalyse für die Wohnsituation (Großstadt, Stadt, Land) und das Interesse an einem E-Auto mit Darstellung der Verteilung der Daten, der Regressionsgeraden und der Vorhersagegenauigkeit und Scatterplot der Vorhersagen",
   "id": "2ea95941099bea16"
  },
  {
   "metadata": {},
   "cell_type": "code",
   "source": [
    "# living situation city vs interest in e-car\n",
    "linear_regression_analysis(data_copy, living_situation_city, interest_e_car)"
   ],
   "id": "ac5148f6e12d445c",
   "outputs": [],
   "execution_count": null
  },
  {
   "metadata": {},
   "cell_type": "markdown",
   "source": "# Durchführung von linearen Regressionsanalysen für mehrere Features",
   "id": "76b18faf17439449"
  },
  {
   "metadata": {},
   "cell_type": "markdown",
   "source": "Durchführung einer linearen Regressionsanalyse für das Alter und das Interesse an einem E-Auto mit Darstellung der Verteilung der Daten, der Regressionsgeraden und der Vorhersagegenauigkeit und Scatterplot der Vorhersagen",
   "id": "9f0ca60068246b6"
  },
  {
   "metadata": {},
   "cell_type": "code",
   "source": [
    "# age, employment vs interest_e_car\n",
    "linear_regression_analysis_multiple_features(data_copy, [age, employment], interest_e_car)"
   ],
   "id": "a8c67bc4f0641261",
   "outputs": [],
   "execution_count": null
  },
  {
   "metadata": {},
   "cell_type": "markdown",
   "source": "Durchführung einer linearen Regressionsanalyse für das Alter und das monatliche Einkommen und das Interesse an einem E-Auto mit Darstellung der Verteilung der Daten, der Regressionsgeraden und der Vorhersagegenauigkeit und Scatterplot der Vorhersagen",
   "id": "9de430bae0936b0"
  },
  {
   "metadata": {},
   "cell_type": "code",
   "source": [
    "# age, income vs interest_e_car\n",
    "linear_regression_analysis_multiple_features(data_copy, [age, monthly_income], interest_e_car)"
   ],
   "id": "822d52a857921a83",
   "outputs": [],
   "execution_count": null
  },
  {
   "metadata": {},
   "cell_type": "markdown",
   "source": "Durchführung einer linearen Regressionsanalyse für das Alter und den Auto-Besitz und das Interesse an einem E-Auto mit Darstellung der Verteilung der Daten, der Regressionsgeraden und der Vorhersagegenauigkeit und Scatterplot der Vorhersagen",
   "id": "cb8d8812d8f76b37"
  },
  {
   "metadata": {},
   "cell_type": "code",
   "source": [
    "# age, car ownership vs interest_e_car\n",
    "linear_regression_analysis_multiple_features(data_copy, [age, car_ownership], interest_e_car)"
   ],
   "id": "16a46fdfd754a842",
   "outputs": [],
   "execution_count": null
  },
  {
   "metadata": {},
   "cell_type": "markdown",
   "source": "Durchführung einer linearen Regressionsanalyse für das Alter und die Wohnsituation (Eigentum, Miete) an der Mobilität und das Interesse an einem E-Auto mit Darstellung der Verteilung der Daten, der Regressionsgeraden und der Vorhersagegenauigkeit und Scatterplot der Vorhersagen",
   "id": "385076f1f4f5665f"
  },
  {
   "metadata": {},
   "cell_type": "code",
   "source": [
    "# age, living situation vs interest_e_car\n",
    "linear_regression_analysis_multiple_features(data_copy, [age, living_situation], interest_e_car)"
   ],
   "id": "6d7a5e4da6153654",
   "outputs": [],
   "execution_count": null
  },
  {
   "metadata": {},
   "cell_type": "markdown",
   "source": "Durchführung einer linearen Regressionsanalyse für das Alter und die Wohnsituation (Haus, Wohnung, etc.) an der Mobilität und das Interesse an einem E-Auto mit Darstellung der Verteilung der Daten, der Regressionsgeraden und der Vorhersagegenauigkeit und Scatterplot der Vorhersagen",
   "id": "3a53555a1e430e39"
  },
  {
   "metadata": {},
   "cell_type": "code",
   "source": [
    "# age, living situation house apartment vs interest_e_car\n",
    "linear_regression_analysis_multiple_features(data_copy, [age, living_situation_house_apartment], interest_e_car)"
   ],
   "id": "224e6edf1c04f373",
   "outputs": [],
   "execution_count": null
  },
  {
   "metadata": {},
   "cell_type": "markdown",
   "source": "Durchführung einer linearen Regressionsanalyse für das Alter und die Wohnsituation (Großstadt, Stadt, Land) an der Mobilität und das Interesse an einem E-Auto mit Darstellung der Verteilung der Daten, der Regressionsgeraden und der Vorhersagegenauigkeit und Scatterplot der Vorhersagen",
   "id": "f81a0239a560a028"
  },
  {
   "metadata": {},
   "cell_type": "code",
   "source": [
    "# age, living situation city vs interest_e_car\n",
    "linear_regression_analysis_multiple_features(data_copy, [age, living_situation_city], interest_e_car)"
   ],
   "id": "c34eee5758181198",
   "outputs": [],
   "execution_count": null
  },
  {
   "metadata": {},
   "cell_type": "markdown",
   "source": "# Darstellung von Daten in Diagrammen",
   "id": "c1e6d8aa246ed7e5"
  },
  {
   "metadata": {},
   "cell_type": "code",
   "source": [
    "# bar chart for mobility car\n",
    "plt.figure(figsize=(6, 6))\n",
    "plot = data_copy[car_ownership].value_counts().plot(kind='bar', color=['blue', 'red', 'green'])\n",
    "# add legend for the pie chart 0 = no car, 1 = car, 2 = e-car\n",
    "plot.set_xticklabels(['Ja', 'Nein', 'E-Auto'])\n",
    "plt.title('Auto-Besitz')\n",
    "plt.show()"
   ],
   "id": "e365853df2180567",
   "outputs": [],
   "execution_count": null
  },
  {
   "metadata": {},
   "cell_type": "code",
   "source": [
    "# bar chart for mobility by car\n",
    "plt.figure(figsize=(6, 6))\n",
    "data_copy[mobility_car].value_counts().plot(kind='bar')\n",
    "plt.title('Auto-Nutzung in %')\n",
    "plt.show()"
   ],
   "id": "f520c24b4da2210f",
   "outputs": [],
   "execution_count": null
  },
  {
   "metadata": {},
   "cell_type": "code",
   "source": [
    "# bar chart for mobility by public transport\n",
    "plt.figure(figsize=(6, 6))\n",
    "data_copy[mobility_public_transport].value_counts().plot(kind='bar')\n",
    "plt.title('Nutzung ÖPNV in %')\n",
    "plt.show()"
   ],
   "id": "384c2c95fbac18e2",
   "outputs": [],
   "execution_count": null
  },
  {
   "metadata": {},
   "cell_type": "code",
   "source": [
    "# bar chart for interest in e-car\n",
    "plt.figure(figsize=(6, 6))\n",
    "# remove knn imputed values\n",
    "data_copy[interest_e_car] = data_copy[interest_e_car].replace([5.362068965517241], np.nan)\n",
    "\n",
    "data_copy[interest_e_car].value_counts().plot(kind='bar')\n",
    "plt.title('Interesse an einem E-Auto in %')\n",
    "plt.show()"
   ],
   "id": "875e04f48b7b3fd9",
   "outputs": [],
   "execution_count": null
  },
  {
   "metadata": {},
   "cell_type": "code",
   "source": [
    "# Create stacked bar chart for living_situation\n",
    "plot_1 = data_copy.groupby([living_situation, interest_e_car]).size().unstack().plot(kind='bar', stacked=True, title='Wohnsituation Eigentum/Miete zu Interesse an E-Auto')\n",
    "# add legend for the bar chart Wohnsituation 1 = Wohneigentum, 2 = gemietet\n",
    "plot_1.set_xticklabels(['Wohneigentum', 'Gemietet'])\n",
    "plt.legend(['10', '30', '40', '50', '60', '70', '80', '100'], title='Interesse an E-Auto in %', loc = 'upper left')\n",
    "\n",
    "# Create stacked bar chart for living_situation_city\n",
    "plot_2 = data_copy.groupby([living_situation_city, interest_e_car]).size().unstack().plot(kind='bar', stacked=True, title='Wohnsituation städtisch/ländlich zu Interesse an E-Auto')\n",
    "# add legend for the bar chart Wohnsituation 1 = Großstadt, 2 = Stadt, 3 = Land\n",
    "plot_2.set_xticklabels(['Großstadt', 'Stadt', 'Land'])\n",
    "# remove the legend for the bar chart\n",
    "plt.legend().remove()\n",
    "\n",
    "# Create stacked bar chart for living_situation_house_apartment\n",
    "plot_3 = data_copy.groupby([living_situation_house_apartment, interest_e_car]).size().unstack().plot(kind='bar', stacked=True, title='Haus/Wohnung zu Interesse an E-Auto')\n",
    "# add legend for the bar chart Wohnsituation 1 = Haus, 2 = Wohnung, 3 = Reihenhaus, 4 = Doppelhaushälfte\n",
    "plot_3.set_xticklabels(['Haus', 'Wohnung', 'Reihenhaus', 'Doppelhaushälfte'])\n",
    "plt.legend(['10', '30', '40', '50', '60', '70', '80', '100'], title='Interesse an E-Auto in %', loc = 'upper right')\n",
    "\n",
    "plt.show()"
   ],
   "id": "643ac299dc2aeaa2",
   "outputs": [],
   "execution_count": null
  },
  {
   "metadata": {},
   "cell_type": "code",
   "source": [
    "# bar graph of suggestions to make public transport more attractive\n",
    "# splitting the answers of every user\n",
    "new_data_copy = data_copy.copy()\n",
    "new_data_copy[mobility_public_transport_attraction] = data_copy[mobility_public_transport_attraction].str.split(';')\n",
    "data_exploded = new_data_copy.explode(mobility_public_transport_attraction)\n",
    "\n",
    "# list of the amount of votes for each answer\n",
    "counts = data_exploded[mobility_public_transport_attraction].value_counts()\n",
    "\n",
    "# filter the answers that have only one vote\n",
    "one_vote_answers = counts[counts == 1].index\n",
    "\n",
    "# remove these answers from the DataFrame\n",
    "filtered_data = data_exploded[~data_exploded[mobility_public_transport_attraction].isin(one_vote_answers)]\n",
    "\n",
    "# order the answers by the amount of votes\n",
    "order = filtered_data[mobility_public_transport_attraction].value_counts().index\n",
    "\n",
    "sns.countplot(y=mobility_public_transport_attraction, data=filtered_data, order = order)\n",
    "plt.xticks(rotation=90)\n",
    "plt.show()"
   ],
   "id": "f3b872827e6c9387",
   "outputs": [],
   "execution_count": null
  },
  {
   "metadata": {},
   "cell_type": "code",
   "source": [
    "# bar graph of suggestions to make e-cars more attractive\n",
    "# splitting the answers of every user\n",
    "new_data_copy = data_copy.copy()\n",
    "new_data_copy[mobility_e_car_attraction] = data_copy[mobility_e_car_attraction].str.split(';')\n",
    "data_exploded = new_data_copy.explode(mobility_e_car_attraction)\n",
    "\n",
    "# list of the amount of votes for each answer\n",
    "counts = data_exploded[mobility_e_car_attraction].value_counts()\n",
    "\n",
    "# filter the answers that have only one vote\n",
    "one_vote_answers = counts[counts == 1].index\n",
    "\n",
    "# remove these answers from the DataFrame\n",
    "filtered_data = data_exploded[~data_exploded[mobility_e_car_attraction].isin(one_vote_answers)]\n",
    "\n",
    "# order the answers by the amount of votes\n",
    "order = filtered_data[mobility_e_car_attraction].value_counts().index\n",
    "\n",
    "sns.countplot(y=mobility_e_car_attraction, data=filtered_data, order = order)\n",
    "plt.xticks(rotation=90)\n",
    "plt.show()"
   ],
   "id": "d9222e55377315a2",
   "outputs": [],
   "execution_count": null
  }
 ],
 "metadata": {
  "kernelspec": {
   "display_name": "Python 3",
   "language": "python",
   "name": "python3"
  },
  "language_info": {
   "codemirror_mode": {
    "name": "ipython",
    "version": 2
   },
   "file_extension": ".py",
   "mimetype": "text/x-python",
   "name": "python",
   "nbconvert_exporter": "python",
   "pygments_lexer": "ipython2",
   "version": "2.7.6"
  }
 },
 "nbformat": 4,
 "nbformat_minor": 5
}
