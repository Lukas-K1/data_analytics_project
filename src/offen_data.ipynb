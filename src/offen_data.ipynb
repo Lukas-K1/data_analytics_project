{
 "cells": [
  {
   "cell_type": "markdown",
   "source": [
    "# File to process data from our open survey (e. g. reddit)\n",
    "## from importing data to processing and visualizing\n"
   ],
   "metadata": {
    "collapsed": false
   },
   "id": "c8d55dc29a978137"
  },
  {
   "cell_type": "code",
   "source": [
    "# Importing libraries\n",
    "import pandas as pd\n",
    "import numpy as np\n",
    "import matplotlib.pyplot as plt\n",
    "import seaborn as sns\n",
    "from sklearn.model_selection import train_test_split\n",
    "from sklearn.preprocessing import StandardScaler\n",
    "from sklearn.linear_model import LinearRegression\n",
    "from sklearn.metrics import mean_squared_error"
   ],
   "metadata": {
    "collapsed": false,
    "ExecuteTime": {
     "end_time": "2024-05-09T09:15:14.274791Z",
     "start_time": "2024-05-09T09:15:14.268817Z"
    }
   },
   "id": "739eca39e863814e",
   "outputs": [],
   "execution_count": 2
  },
  {
   "cell_type": "markdown",
   "source": [
    "## Importing data"
   ],
   "metadata": {
    "collapsed": false
   },
   "id": "ba1ec310572fd190"
  },
  {
   "cell_type": "code",
   "source": [
    "# Importing data\n",
    "df_reddit_data = pd.read_csv('data/umfrage-nachhaltige-mobilitaet_offen.csv')"
   ],
   "metadata": {
    "collapsed": false,
    "ExecuteTime": {
     "end_time": "2024-05-09T09:15:22.814781Z",
     "start_time": "2024-05-09T09:15:22.800011Z"
    }
   },
   "id": "939f8d7b1ff63b2",
   "outputs": [],
   "execution_count": 3
  },
  {
   "metadata": {},
   "cell_type": "markdown",
   "source": "## Methods for data processing",
   "id": "22004fc4992dc4e8"
  },
  {
   "metadata": {},
   "cell_type": "code",
   "outputs": [],
   "execution_count": null,
   "source": [
    "def explore_data(data):\n",
    "    #Display a summary of the data\n",
    "    # args: data: pandas dataframe\n",
    "    # Summarize the data\n",
    "    print(data.info())\n",
    "    # Display the first 5 rows of the data\n",
    "    print(data.head())\n",
    "    \n",
    "def drop_data(data):\n",
    "    # Drop non-uniques and missing values\n",
    "    # args: data: pandas dataframe\n",
    "    # Drop duplicates\n",
    "    duplicate_free_data = data.drop_duplicates()\n",
    "    #data.drop_duplicates(inplace=True)\n",
    "    # Drop missing values\n",
    "    na_free_data = duplicate_free_data.dropna(inplace=True)\n",
    "    # Replace missing values with the mean\n",
    "    #data.fillna(data.mean(), inplace=True)\n",
    "    return na_free_data\n",
    "\n",
    "def fill_data(data):\n",
    "    # Fill missing values with the mean\n",
    "    # args: data: pandas dataframe\n",
    "    #data.fillna(data.mean(), inplace=True)\n",
    "    data.fillna(method='ffill').fillna(method='bfill')\n",
    "    return data\n",
    "\n",
    "def split_data(data):\n",
    "    # split data for use case\n",
    "    # args: data: pandas dataframe\n",
    "    # Split the data into features and target\n",
    "    data_without_na = data.dropna()\n",
    "    selected_columns_finace = ['financial_situation', 'financial_situation_future', 'financial_situation_past']#TODO select proper columns for correlation with financial situation\n",
    "    selected_columns_mobility = ['mobility', 'mobility_future', 'mobility_past']#TODO select proper columns for correlation with mobility\n",
    "    selected_columns_other = ['age',''] #TODO select proper columns for correlation with 'other' data\n",
    "    data_financial_correlation = data[selected_columns_finace]\n",
    "    data_mobility_correlation = data[selected_columns_mobility]\n",
    "    data_other_correlation = data[selected_columns_other]\n",
    "    return data, data_without_na, data_financial_correlation, data_mobility_correlation, data_other_correlation\n",
    "\n",
    "def prepare_data(data, feature_columns, target_column):\n",
    "    # Prepare the data for analysis\n",
    "    # args: data: pandas dataframe\n",
    "    # args: feature_column: (list): liste der spalten die als feature genutzt werden sollen\n",
    "    # args: target_column: (string): name zielvariable\n",
    "    #return: tuple: X_train, X_test, y_train, y_test\n",
    "    X = data[feature_columns]\n",
    "    Y = data[target_column]\n",
    "    # Split the data into training and testing data\n",
    "    X_train, X_test, y_train, y_test = train_test_split(X, Y, test_size=0.2, random_state=42)\n",
    "    return X_train, X_test, y_train, y_test\n",
    "\n",
    "def scale_data(X_train, X_test):\n",
    "    # Scale the data\n",
    "    # args: X_train: pandas dataframe\n",
    "    # args: X_test: pandas dataframe\n",
    "    #return: X_train_scaled, X_test_scaled\n",
    "    scaler = StandardScaler()\n",
    "    X_train_scaled = scaler.fit_transform(X_train)\n",
    "    X_test_scaled = scaler.transform(X_test)\n",
    "    return X_train_scaled, X_test_scaled\n",
    "\n",
    "def train_model(X_train, y_train):\n",
    "    # Train the model\n",
    "    # args: X_train: pandas dataframe\n",
    "    # args: y_train: pandas dataframe\n",
    "    #return: model\n",
    "    model = LinearRegression()\n",
    "    model.fit(X_train, y_train)\n",
    "    return model\n",
    "\n",
    "def evaluate_model(model, X_test, y_test):\n",
    "    # Evaluate the model\n",
    "    # args: model: model\n",
    "    # args: X_test: pandas dataframe\n",
    "    # args: y_test: pandas dataframe\n",
    "    #return: mse\n",
    "    y_pred = model.predict(X_test)\n",
    "    mse = mean_squared_error(y_test, y_pred)\n",
    "    return mse\n",
    "\n",
    "def analyze_data(X_train, X_test, Y_train, Y_test):\n",
    "    # Analyze the data\n",
    "    # args: X_train: pandas dataframe\n",
    "    # args: X_test: pandas dataframe\n",
    "    # args: Y_train: pandas dataframe\n",
    "    # args: Y_test: pandas dataframe\n",
    "    #return: mse\n",
    "    # X_train_scaled, X_test_scaled = scale_data(X_train, X_test)\n",
    "    # model = train_model(X_train_scaled, Y_train)\n",
    "    # mse = evaluate_model(model, X_test_scaled, Y_test)\n",
    "    # return mse\n",
    "    model = LinearRegression()\n",
    "    model.fit(X_train, Y_train)\n",
    "    y_pred = model.predict(X_test)\n",
    "    mse = mean_squared_error(Y_test, y_pred)\n",
    "    print('Mean Squared Error:', mse)\n",
    "    return mse\n",
    "\n",
    "def visualize_data(data):\n",
    "    # TODO Visualize the data with matplotlib and seaborn\n",
    "    # args: data: pandas dataframe\n",
    "    #return: None\n",
    "    # TODO Implement the visualization\n",
    "    print('Visualizing the data')\n",
    "    \n",
    "def visualize_correlation(data, feature_columns, target_column):\n",
    "    # TODO Visualize the correlation between the features and the target\n",
    "    # args: data: pandas dataframe\n",
    "    # args: feature_columns: (list): liste der spalten die als feature genutzt werden sollen\n",
    "    # args: target_column: (string): name zielvariable\n",
    "    #return: None\n",
    "    correlation_matrix = data[feature_columns + [target_column]].corr()\n",
    "    plt.figure(figsize=(10, 10))\n",
    "    sns.heatmap(correlation_matrix, annot=True, cmap='coolwarm', fmt='.2f', linewidths=0.5)\n",
    "    plt.title('Correlation Matrix')\n",
    "    plt.show()\n",
    "\n",
    "def visualize_model(model, X_test, y_test):\n",
    "    # Visualize the model\n",
    "    # args: model: model\n",
    "    # args: X_test: pandas dataframe\n",
    "    # args: y_test: pandas dataframe\n",
    "    #return: None\n",
    "    y_pred = model.predict(X_test)\n",
    "    plt.scatter(y_test, y_pred)\n",
    "    plt.xlabel('Actual')\n",
    "    plt.ylabel('Predicted')\n",
    "    plt.title('Actual vs Predicted')\n",
    "    plt.show()\n",
    "    \n",
    "def process_data(data):\n",
    "    # Process the data\n",
    "    # args: data: pandas dataframe\n",
    "    #return: None\n",
    "    explore_data(data)\n",
    "    drop_data(data)\n",
    "    fill_data(data)\n",
    "    split_data(data)\n",
    "    visualize_data(data)\n",
    "    visualize_correlation(data)\n",
    "    visualize_model(data)\n",
    "    analyze_data(data)\n",
    "    return None"
   ],
   "id": "55152eebd01913dd"
  },
  {
   "cell_type": "markdown",
   "source": [
    "## Data Exploration"
   ],
   "metadata": {
    "collapsed": false
   },
   "id": "b52a4f4d7cc270bd"
  },
  {
   "cell_type": "code",
   "outputs": [],
   "source": [
    "# Displaying the first 20 rows of the data"
   ],
   "metadata": {
    "collapsed": false
   },
   "id": "d8bd3da97b890665",
   "execution_count": null
  },
  {
   "cell_type": "code",
   "source": [
    "print(df_reddit_data.info())\n",
    "df_reddit_data.head(20)\n",
    "# get count of entries\n",
    "#df_reddit_data.count()"
   ],
   "metadata": {
    "collapsed": false
   },
   "id": "2189a421e5f42434",
   "outputs": [],
   "execution_count": null
  },
  {
   "cell_type": "markdown",
   "source": [
    "## #Cleaning the data"
   ],
   "metadata": {
    "collapsed": false
   },
   "id": "376fc1bec7fa9e50"
  },
  {
   "cell_type": "code",
   "outputs": [],
   "source": [
    "# Checking for missing values\n",
    "df_reddit_data.isnull().sum()"
   ],
   "metadata": {
    "collapsed": false
   },
   "id": "6de449d3ca402d5c",
   "execution_count": null
  },
  {
   "cell_type": "code",
   "outputs": [],
   "source": [
    "# Checking for duplicates\n",
    "df_reddit_data.duplicated().sum()"
   ],
   "metadata": {
    "collapsed": false
   },
   "id": "8691dc80dacc1a4c",
   "execution_count": null
  },
  {
   "cell_type": "code",
   "outputs": [],
   "source": [
    "# Checking for unique values in the data\n",
    "df_reddit_data.nunique()"
   ],
   "metadata": {
    "collapsed": false
   },
   "id": "a4cbe45b1d790e6",
   "execution_count": null
  },
  {
   "cell_type": "code",
   "outputs": [],
   "source": [
    "# Dropping the duplicates\n",
    "df_reddit_data.drop_duplicates(inplace=True)"
   ],
   "metadata": {
    "collapsed": false
   },
   "id": "fba054fdd6f2e0a6",
   "execution_count": null
  },
  {
   "cell_type": "code",
   "outputs": [],
   "source": [
    "# Dropping the missing values with the mode\n",
    "df_reddit_data.dropna(inplace=True)"
   ],
   "metadata": {
    "collapsed": false
   },
   "id": "c2d10fa852c00fb8",
   "execution_count": null
  },
  {
   "cell_type": "code",
   "outputs": [],
   "source": [
    "# Replacing the missing values with the average values and fitting strings\n",
    "df_reddit_data.fillna(df_reddit_data.mean(), inplace=True)"
   ],
   "metadata": {
    "collapsed": false
   },
   "id": "a32855389102e204",
   "execution_count": null
  },
  {
   "cell_type": "markdown",
   "source": [
    "## Data Preprocessing"
   ],
   "metadata": {
    "collapsed": false
   },
   "id": "8996c38853fbc997"
  },
  {
   "cell_type": "code",
   "outputs": [],
   "source": [
    "# Checking the data types of the columns\n",
    "df_reddit_data.dtypes\n"
   ],
   "metadata": {
    "collapsed": false
   },
   "id": "6b79899b8de02065",
   "execution_count": null
  },
  {
   "cell_type": "markdown",
   "source": [
    "## Data Analysis"
   ],
   "metadata": {
    "collapsed": false
   },
   "id": "b1c630397b82b9a5"
  },
  {
   "cell_type": "code",
   "outputs": [],
   "source": [
    "# Checking the distribution of the data\n",
    "df_reddit_data.describe()"
   ],
   "metadata": {
    "collapsed": false
   },
   "id": "8afe49c3f4ee9705",
   "execution_count": null
  },
  {
   "cell_type": "markdown",
   "source": [
    "## Data Visualization"
   ],
   "metadata": {
    "collapsed": false
   },
   "id": "c0ad9e9b44854f49"
  },
  {
   "cell_type": "code",
   "outputs": [],
   "source": [
    "# Plotting the distribution of the data\n",
    "df_reddit_data.hist(bins=50, figsize=(20, 15))\n",
    "plt.show()\n",
    "# add seaborn style\n",
    "sns.set()\n",
    "# add title and description\n",
    "plt.title('Distribution of the data')\n",
    "plt.xlabel('Values')\n",
    "plt.ylabel('Frequency')\n"
   ],
   "metadata": {
    "collapsed": false
   },
   "id": "1e86b9a599f6299f",
   "execution_count": null
  }
 ],
 "metadata": {
  "kernelspec": {
   "display_name": "Python 3",
   "language": "python",
   "name": "python3"
  },
  "language_info": {
   "codemirror_mode": {
    "name": "ipython",
    "version": 2
   },
   "file_extension": ".py",
   "mimetype": "text/x-python",
   "name": "python",
   "nbconvert_exporter": "python",
   "pygments_lexer": "ipython2",
   "version": "2.7.6"
  }
 },
 "nbformat": 4,
 "nbformat_minor": 5
}
